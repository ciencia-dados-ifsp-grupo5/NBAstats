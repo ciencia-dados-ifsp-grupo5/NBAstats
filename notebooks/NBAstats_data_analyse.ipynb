{
 "cells": [
  {
   "cell_type": "markdown",
   "id": "fd5f9082",
   "metadata": {},
   "source": [
    "# NBA Stats\n",
    "\n",
    "**D2APR: Aprendizado de Máquina e Reconhecimento de Padrões**\n",
    "**D2TEC: Tecnologias de Big Data**\n",
    "\n",
    "Especialização em Ciência de Dados - IFSP Campinas\n",
    "\n",
    "Alunos\n",
    "- Daniel Vargas Shimamoto\n",
    "- Diego Machado de Assis"
   ]
  },
  {
   "cell_type": "markdown",
   "id": "3dba7655",
   "metadata": {},
   "source": [
    "## 1. Informações Gerais\n",
    "\n",
    "### 1.1. Contexto do problema\n",
    "A National Basketball Association (NBA) é uma liga profissional de basquete da América do Norte. A liga é composta por 30 times (29 nos Estados Unidos e 1 no Canadá) e é uma das quatro principais ligas esportivas profissionais dos Estados Unidos e Canadá. É a principal liga profissional de basquete masculino do mundo$^{[1]}$.\n",
    "\n",
    "A NBA foi fundada na cidade de Nova York em 6 de junho de 1946, como Basketball Association of America (BAA). Ela mudou seu nome para National Basketball Association em 3 de agosto de 1949, após a fusão com a concorrente National Basketball League (NBL). No formato atual, a temporada regular da NBA vai de outubro a abril, com cada equipe jogando 82 jogos. As equipes estão dividas em duas conferências e as 8 melhores classificadas de cada conferência disputam a pós-temporada (playoff) em partidas melhores de 7 jogos, até o campeão de cada conferência se enfrentarem na final pelo titulo da temporada, geralmente acontecendendo no mês de junho. Em 2020, os jogadores da NBA foram os atletas mais bem pagos do mundo em média de salário anual por jogador $^{[1]}$.\n",
    "\n",
    "Na América do Norte, a NBA é a terceira liga esportiva profissional mais rica, depois da National Football League (NFL) e da Major League Baseball (MLB) em receita, e está entre as quatro melhores do mundo $^{[1]}$. No ano de 2021 a NBA completou 75 anos de fundação e diversas homenagens a jogadores e partidas históricas foram feitas nesse período.\n",
    "\n",
    "A NBA possui um histórico de diversas estatísticas dos jogadores e times de todas as temporadas desde a sua criação. Alguns sites, como o [Basketball Reference](https://www.basketball-reference.com/) e o site oficial da [NBA](https://www.nba.com/stats/) possuem uma gigantesca base de dados que estão disponíveis para consulta. As principais estatísticas gerais dos jogadores são *pontos*, *rebotes*, *assistências*, *Tocos* e *roubos*, além de estatísticas percentuais, como porcentagem de arremessos convertidos.\n",
    "\n",
    "A NBA possui um limite salarial na folha de pagamento de jogadores de cada um dos times. Esse limite não é rígido como em outras ligas americanas, mas o estouro do teto salarial leva os times a pagar multas que aumentam exponencialmente conforme o aumento dos gastos. Na temporada 2021-22 o limite salarial é de $112,4 milhões $^{[2]}$.\n",
    "\n",
    "Existem uma enorme quantidades de regras estipuladas para definir um salário de um jogador e tendo em vista o limite que um time deve se basear para evitar pagar uma quantidade gigantesca de multas, a definição dos contratos se torna crucial para a boa formação de um time. Inspirado pelo jogador de futebol Kevin De Bruyne, que trocou os tradicionais agentes por especialistas em *Big Data* para calcular o seu valor e a sua importância no time, e se tornou o jogador com o maior salário do seu time $^{[3]}$, o objetivo desse estudo é \n",
    "# Terminar[...]\n",
    "\n",
    "Fonte:\n",
    "\n",
    "$^{[1]}$.[National Basketball Association](https://en.wikipedia.org/wiki/National_Basketball_Association#cite_note-1)\n",
    "\n",
    "$^{[2]}$.[NBA Salary Cap](https://www.nba.com/news/salary-cap-set-at-112-4-million-for-2021-22-season)\n",
    "\n",
    "$^{[3]}$.[Kevin De Bruyne uses data analysts to broker £83m Man City contract without agent](https://www.mirror.co.uk/sport/football/news/kevin-de-bruyne-uses-data-23870686)\n",
    "\n",
    "### 1.2. Conhecendo o dataset\n",
    "\n",
    "# [DIEGO, explica aqui a bruxaria que você fez pra extrair os dados]\n",
    "\n",
    "#### 1.2.1 Atributos e seus tipos\n",
    "\n",
    "As 30 colunas do conjunto de dados são as seguintes:\n",
    "\n",
    "* PLAYER_NAME (string): Nome do jogador\n",
    "* SEASON_ID (string): Temporada\n",
    "* PLAYER_ID (int): ID do jogador\n",
    "* LEAGUE_ID (int): ID da liga\n",
    "* TEAM_ID (int): ID do time\n",
    "* TEAM_ABBREVIATION (string): Abreviação do time\n",
    "* PLAYER_AGE (float): Idade do Jogador\n",
    "* GP (int): Número de jogos disputados pelo jogador na temporada\n",
    "* GS (float): Número de jogos em que o jogador começou como titular\n",
    "* MIN (float): Minutos jogados\n",
    "* FGM (int): Arremessos convertidos\n",
    "* FGA (int): Arremessos tentados\n",
    "* FG_PCT (float): Percentual de arremessos convertidos\n",
    "* FG3M (float): Arremessos convertidos de 3 pontos\n",
    "* FG3A (float): Arremessos tentados de 3 pontos\n",
    "* FG3_PCT (float): Percentual de arremessos convertidos de 3 pontos\n",
    "* FTM (int): Arremessos convertidos de lances livres\n",
    "* FTA (int): Arremessos tentados de lances livres\n",
    "* FT_PCT (float): Percentual de arremessos convertidos de lances livres\n",
    "* OREB (float): Rebotes ofensivos\n",
    "* DREB (float): Rebotes defensivos\n",
    "* REB (float): Rebotes totais\n",
    "* AST (int): Assistencias\n",
    "* STL (float): Roubos\n",
    "* BLK (float): Bloqueios\n",
    "* TOV (float): Desperdicios de bola (Turnover)\n",
    "* PF (int): Faltas cometidas (Máximo 6 por partida)\n",
    "* PTS (int): Pontos convertidos\n",
    "* SALARY_NOMINAL (float): Salário nominal\n",
    "* SALARY_REAL (float): Salário corrigido pela inflação\n",
    "\n",
    "### 1.3. Objetivo\n",
    "\n",
    "# TERMINAR"
   ]
  },
  {
   "cell_type": "code",
   "execution_count": null,
   "id": "9ba59fdb",
   "metadata": {},
   "outputs": [],
   "source": [
    "import pandas as pd"
   ]
  },
  {
   "cell_type": "code",
   "execution_count": 13,
   "id": "7a50752e",
   "metadata": {},
   "outputs": [
    {
     "name": "stdout",
     "output_type": "stream",
     "text": [
      "Os dados possuem 16341 registros divididos em 30 colunas\n"
     ]
    }
   ],
   "source": [
    "salary = pd.read_csv('../data/salary.csv')\n",
    "print(f'Os dados possuem {stats.shape[0]} registros divididos em {stats.shape[1]} colunas')"
   ]
  },
  {
   "cell_type": "code",
   "execution_count": 19,
   "id": "b16b46ae",
   "metadata": {},
   "outputs": [
    {
     "data": {
      "text/plain": [
       "PLAYER_NAME          A.C. Green\n",
       "SEASON_ID               1990-91\n",
       "PLAYER_ID                   920\n",
       "LEAGUE_ID                     0\n",
       "TEAM_ID              1610612747\n",
       "TEAM_ABBREVIATION           LAL\n",
       "PLAYER_AGE                 27.0\n",
       "GP                           82\n",
       "GS                         21.0\n",
       "MIN                      2164.0\n",
       "FGM                         258\n",
       "FGA                         542\n",
       "FG_PCT                    0.476\n",
       "FG3M                       11.0\n",
       "FG3A                       55.0\n",
       "FG3_PCT                     0.2\n",
       "FTM                         223\n",
       "FTA                         302\n",
       "FT_PCT                    0.738\n",
       "OREB                      201.0\n",
       "DREB                      315.0\n",
       "REB                       516.0\n",
       "AST                          71\n",
       "STL                        59.0\n",
       "BLK                        23.0\n",
       "TOV                        99.0\n",
       "PF                          117\n",
       "PTS                         750\n",
       "SALARY_NOMINAL        1750000.0\n",
       "SALARY_REAL           3473015.0\n",
       "Name: 0, dtype: object"
      ]
     },
     "execution_count": 19,
     "metadata": {},
     "output_type": "execute_result"
    }
   ],
   "source": [
    "stats.iloc[0]"
   ]
  },
  {
   "cell_type": "code",
   "execution_count": null,
   "id": "e99fb66e",
   "metadata": {},
   "outputs": [],
   "source": []
  }
 ],
 "metadata": {
  "kernelspec": {
   "display_name": "Python 3",
   "language": "python",
   "name": "python3"
  },
  "language_info": {
   "codemirror_mode": {
    "name": "ipython",
    "version": 3
   },
   "file_extension": ".py",
   "mimetype": "text/x-python",
   "name": "python",
   "nbconvert_exporter": "python",
   "pygments_lexer": "ipython3",
   "version": "3.8.8"
  }
 },
 "nbformat": 4,
 "nbformat_minor": 5
}
