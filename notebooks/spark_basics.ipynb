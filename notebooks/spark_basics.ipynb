{
 "cells": [
  {
   "cell_type": "code",
   "execution_count": 1,
   "id": "a653c634-251a-4790-935c-5da6b87826b3",
   "metadata": {},
   "outputs": [
    {
     "name": "stderr",
     "output_type": "stream",
     "text": [
      "WARNING: An illegal reflective access operation has occurred\n",
      "WARNING: Illegal reflective access by org.apache.spark.unsafe.Platform (file:/usr/local/spark-3.2.0-bin-hadoop3.2/jars/spark-unsafe_2.12-3.2.0.jar) to constructor java.nio.DirectByteBuffer(long,int)\n",
      "WARNING: Please consider reporting this to the maintainers of org.apache.spark.unsafe.Platform\n",
      "WARNING: Use --illegal-access=warn to enable warnings of further illegal reflective access operations\n",
      "WARNING: All illegal access operations will be denied in a future release\n",
      "Using Spark's default log4j profile: org/apache/spark/log4j-defaults.properties\n",
      "Setting default log level to \"WARN\".\n",
      "To adjust logging level use sc.setLogLevel(newLevel). For SparkR, use setLogLevel(newLevel).\n",
      "21/11/26 22:48:49 WARN NativeCodeLoader: Unable to load native-hadoop library for your platform... using builtin-java classes where applicable\n"
     ]
    }
   ],
   "source": [
    "from pyspark.sql import SparkSession\n",
    "\n",
    "spark = SparkSession.builder.getOrCreate()"
   ]
  },
  {
   "cell_type": "code",
   "execution_count": 2,
   "id": "30e3064e-931d-40e8-97ec-7d8a8482ccc4",
   "metadata": {},
   "outputs": [
    {
     "data": {
      "text/plain": [
       "DataFrame[PLAYER_NAME: string, SEASON_ID: string, PLAYER_ID: int, LEAGUE_ID: int, TEAM_ID: int, TEAM_ABBREVIATION: string, PLAYER_AGE: double, GP: int, GS: double, MIN: double, FGM: int, FGA: int, FG_PCT: double, FG3M: double, FG3A: double, FG3_PCT: double, FTM: int, FTA: int, FT_PCT: double, OREB: double, DREB: double, REB: double, AST: int, STL: double, BLK: double, TOV: double, PF: int, PTS: int, SALARY_NOMINAL: double, SALARY_REAL: double]"
      ]
     },
     "execution_count": 2,
     "metadata": {},
     "output_type": "execute_result"
    }
   ],
   "source": [
    "df = spark.read.options(header=True, inferSchema=True).csv('../data/stats.csv')\n",
    "df"
   ]
  },
  {
   "cell_type": "code",
   "execution_count": 3,
   "id": "d5a8740a-fcad-4746-b7b9-78efb98b5f84",
   "metadata": {},
   "outputs": [
    {
     "name": "stderr",
     "output_type": "stream",
     "text": [
      "21/11/26 22:48:55 WARN package: Truncated the string representation of a plan since it was too large. This behavior can be adjusted by setting 'spark.sql.debug.maxToStringFields'.\n"
     ]
    },
    {
     "name": "stdout",
     "output_type": "stream",
     "text": [
      "+-----------+---------+---------+---------+----------+-----------------+----------+---+----+------+---+---+------+----+-----+-------+---+---+------+-----+-----+-----+---+----+----+-----+---+----+--------------+-----------+\n",
      "|PLAYER_NAME|SEASON_ID|PLAYER_ID|LEAGUE_ID|   TEAM_ID|TEAM_ABBREVIATION|PLAYER_AGE| GP|  GS|   MIN|FGM|FGA|FG_PCT|FG3M| FG3A|FG3_PCT|FTM|FTA|FT_PCT| OREB| DREB|  REB|AST| STL| BLK|  TOV| PF| PTS|SALARY_NOMINAL|SALARY_REAL|\n",
      "+-----------+---------+---------+---------+----------+-----------------+----------+---+----+------+---+---+------+----+-----+-------+---+---+------+-----+-----+-----+---+----+----+-----+---+----+--------------+-----------+\n",
      "| A.C. Green|  1990-91|      920|        0|1610612747|              LAL|      27.0| 82|21.0|2164.0|258|542| 0.476|11.0| 55.0|    0.2|223|302| 0.738|201.0|315.0|516.0| 71|59.0|23.0| 99.0|117| 750|     1750000.0|  3473015.0|\n",
      "| A.C. Green|  1991-92|      920|        0|1610612747|              LAL|      28.0| 82|53.0|2902.0|382|803| 0.476|12.0| 56.0|  0.214|340|457| 0.744|306.0|456.0|762.0|117|91.0|36.0|111.0|141|1116|     1750000.0|  3317240.0|\n",
      "| A.C. Green|  1992-93|      920|        0|1610612747|              LAL|      29.0| 82|55.0|2819.0|379|706| 0.537|16.0| 46.0|  0.348|277|375| 0.739|287.0|424.0|711.0|116|88.0|39.0|116.0|149|1051|     1750000.0|  3217865.0|\n",
      "| A.C. Green|  1993-94|      920|        0|1610612756|              PHX|      30.0| 82|55.0|2825.0|465|926| 0.502| 8.0| 35.0|  0.229|266|362| 0.735|275.0|478.0|753.0|137|70.0|38.0|100.0|142|1204|     1885000.0|  3365286.0|\n",
      "| A.C. Green|  1994-95|      920|        0|1610612756|              PHX|      31.0| 82|52.0|2687.0|311|617| 0.504|43.0|127.0|  0.339|251|343| 0.732|194.0|475.0|669.0|127|55.0|31.0|114.0|146| 916|     6472600.0|1.1274438E7|\n",
      "+-----------+---------+---------+---------+----------+-----------------+----------+---+----+------+---+---+------+----+-----+-------+---+---+------+-----+-----+-----+---+----+----+-----+---+----+--------------+-----------+\n",
      "only showing top 5 rows\n",
      "\n",
      "root\n",
      " |-- PLAYER_NAME: string (nullable = true)\n",
      " |-- SEASON_ID: string (nullable = true)\n",
      " |-- PLAYER_ID: integer (nullable = true)\n",
      " |-- LEAGUE_ID: integer (nullable = true)\n",
      " |-- TEAM_ID: integer (nullable = true)\n",
      " |-- TEAM_ABBREVIATION: string (nullable = true)\n",
      " |-- PLAYER_AGE: double (nullable = true)\n",
      " |-- GP: integer (nullable = true)\n",
      " |-- GS: double (nullable = true)\n",
      " |-- MIN: double (nullable = true)\n",
      " |-- FGM: integer (nullable = true)\n",
      " |-- FGA: integer (nullable = true)\n",
      " |-- FG_PCT: double (nullable = true)\n",
      " |-- FG3M: double (nullable = true)\n",
      " |-- FG3A: double (nullable = true)\n",
      " |-- FG3_PCT: double (nullable = true)\n",
      " |-- FTM: integer (nullable = true)\n",
      " |-- FTA: integer (nullable = true)\n",
      " |-- FT_PCT: double (nullable = true)\n",
      " |-- OREB: double (nullable = true)\n",
      " |-- DREB: double (nullable = true)\n",
      " |-- REB: double (nullable = true)\n",
      " |-- AST: integer (nullable = true)\n",
      " |-- STL: double (nullable = true)\n",
      " |-- BLK: double (nullable = true)\n",
      " |-- TOV: double (nullable = true)\n",
      " |-- PF: integer (nullable = true)\n",
      " |-- PTS: integer (nullable = true)\n",
      " |-- SALARY_NOMINAL: double (nullable = true)\n",
      " |-- SALARY_REAL: double (nullable = true)\n",
      "\n"
     ]
    }
   ],
   "source": [
    "df.show(5)\n",
    "df.printSchema()"
   ]
  },
  {
   "cell_type": "code",
   "execution_count": 4,
   "id": "0d99c444-f030-47bb-8464-db63d4266d6b",
   "metadata": {},
   "outputs": [
    {
     "data": {
      "text/html": [
       "<table border='1'>\n",
       "<tr><th>PLAYER_NAME</th><th>SEASON_ID</th><th>PLAYER_ID</th><th>LEAGUE_ID</th><th>TEAM_ID</th><th>TEAM_ABBREVIATION</th><th>PLAYER_AGE</th><th>GP</th><th>GS</th><th>MIN</th><th>FGM</th><th>FGA</th><th>FG_PCT</th><th>FG3M</th><th>FG3A</th><th>FG3_PCT</th><th>FTM</th><th>FTA</th><th>FT_PCT</th><th>OREB</th><th>DREB</th><th>REB</th><th>AST</th><th>STL</th><th>BLK</th><th>TOV</th><th>PF</th><th>PTS</th><th>SALARY_NOMINAL</th><th>SALARY_REAL</th></tr>\n",
       "<tr><td>A.C. Green</td><td>1990-91</td><td>920</td><td>0</td><td>1610612747</td><td>LAL</td><td>27.0</td><td>82</td><td>21.0</td><td>2164.0</td><td>258</td><td>542</td><td>0.476</td><td>11.0</td><td>55.0</td><td>0.2</td><td>223</td><td>302</td><td>0.738</td><td>201.0</td><td>315.0</td><td>516.0</td><td>71</td><td>59.0</td><td>23.0</td><td>99.0</td><td>117</td><td>750</td><td>1750000.0</td><td>3473015.0</td></tr>\n",
       "<tr><td>A.C. Green</td><td>1991-92</td><td>920</td><td>0</td><td>1610612747</td><td>LAL</td><td>28.0</td><td>82</td><td>53.0</td><td>2902.0</td><td>382</td><td>803</td><td>0.476</td><td>12.0</td><td>56.0</td><td>0.214</td><td>340</td><td>457</td><td>0.744</td><td>306.0</td><td>456.0</td><td>762.0</td><td>117</td><td>91.0</td><td>36.0</td><td>111.0</td><td>141</td><td>1116</td><td>1750000.0</td><td>3317240.0</td></tr>\n",
       "<tr><td>A.C. Green</td><td>1992-93</td><td>920</td><td>0</td><td>1610612747</td><td>LAL</td><td>29.0</td><td>82</td><td>55.0</td><td>2819.0</td><td>379</td><td>706</td><td>0.537</td><td>16.0</td><td>46.0</td><td>0.348</td><td>277</td><td>375</td><td>0.739</td><td>287.0</td><td>424.0</td><td>711.0</td><td>116</td><td>88.0</td><td>39.0</td><td>116.0</td><td>149</td><td>1051</td><td>1750000.0</td><td>3217865.0</td></tr>\n",
       "<tr><td>A.C. Green</td><td>1993-94</td><td>920</td><td>0</td><td>1610612756</td><td>PHX</td><td>30.0</td><td>82</td><td>55.0</td><td>2825.0</td><td>465</td><td>926</td><td>0.502</td><td>8.0</td><td>35.0</td><td>0.229</td><td>266</td><td>362</td><td>0.735</td><td>275.0</td><td>478.0</td><td>753.0</td><td>137</td><td>70.0</td><td>38.0</td><td>100.0</td><td>142</td><td>1204</td><td>1885000.0</td><td>3365286.0</td></tr>\n",
       "<tr><td>A.C. Green</td><td>1994-95</td><td>920</td><td>0</td><td>1610612756</td><td>PHX</td><td>31.0</td><td>82</td><td>52.0</td><td>2687.0</td><td>311</td><td>617</td><td>0.504</td><td>43.0</td><td>127.0</td><td>0.339</td><td>251</td><td>343</td><td>0.732</td><td>194.0</td><td>475.0</td><td>669.0</td><td>127</td><td>55.0</td><td>31.0</td><td>114.0</td><td>146</td><td>916</td><td>6472600.0</td><td>1.1274438E7</td></tr>\n",
       "<tr><td>A.C. Green</td><td>1995-96</td><td>920</td><td>0</td><td>1610612756</td><td>PHX</td><td>32.0</td><td>82</td><td>36.0</td><td>2113.0</td><td>215</td><td>444</td><td>0.484</td><td>14.0</td><td>52.0</td><td>0.269</td><td>168</td><td>237</td><td>0.709</td><td>166.0</td><td>388.0</td><td>554.0</td><td>72</td><td>45.0</td><td>23.0</td><td>79.0</td><td>141</td><td>612</td><td>6473000.0</td><td>1.0942426E7</td></tr>\n",
       "<tr><td>A.C. Green</td><td>1996-97</td><td>920</td><td>0</td><td>1610612756</td><td>PHX</td><td>33.0</td><td>27</td><td>19.0</td><td>551.0</td><td>61</td><td>128</td><td>0.477</td><td>0.0</td><td>3.0</td><td>0.0</td><td>31</td><td>48</td><td>0.646</td><td>33.0</td><td>105.0</td><td>138.0</td><td>17</td><td>18.0</td><td>1.0</td><td>20.0</td><td>34</td><td>153</td><td>4851000.0</td><td>7980684.0</td></tr>\n",
       "<tr><td>A.C. Green</td><td>1996-97</td><td>920</td><td>0</td><td>1610612742</td><td>DAL</td><td>33.0</td><td>56</td><td>54.0</td><td>1943.0</td><td>173</td><td>356</td><td>0.486</td><td>1.0</td><td>17.0</td><td>0.059</td><td>97</td><td>149</td><td>0.651</td><td>189.0</td><td>329.0</td><td>518.0</td><td>52</td><td>52.0</td><td>15.0</td><td>54.0</td><td>111</td><td>444</td><td>4851000.0</td><td>7980684.0</td></tr>\n",
       "<tr><td>A.C. Green</td><td>1996-97</td><td>920</td><td>0</td><td>0</td><td>TOT</td><td>33.0</td><td>83</td><td>73.0</td><td>2494.0</td><td>234</td><td>484</td><td>0.483</td><td>1.0</td><td>20.0</td><td>0.05</td><td>128</td><td>197</td><td>0.65</td><td>222.0</td><td>434.0</td><td>656.0</td><td>69</td><td>70.0</td><td>16.0</td><td>74.0</td><td>145</td><td>597</td><td>4851000.0</td><td>7980684.0</td></tr>\n",
       "<tr><td>A.C. Green</td><td>1997-98</td><td>920</td><td>0</td><td>1610612742</td><td>DAL</td><td>34.0</td><td>82</td><td>68.0</td><td>2649.0</td><td>242</td><td>534</td><td>0.453</td><td>0.0</td><td>4.0</td><td>0.0</td><td>116</td><td>162</td><td>0.716</td><td>219.0</td><td>449.0</td><td>668.0</td><td>123</td><td>78.0</td><td>27.0</td><td>68.0</td><td>157</td><td>600</td><td>5095088.0</td><td>8194001.0</td></tr>\n",
       "<tr><td>A.C. Green</td><td>1998-99</td><td>920</td><td>0</td><td>1610612742</td><td>DAL</td><td>35.0</td><td>50</td><td>35.0</td><td>924.0</td><td>108</td><td>256</td><td>0.422</td><td>0.0</td><td>8.0</td><td>0.0</td><td>30</td><td>52</td><td>0.577</td><td>82.0</td><td>146.0</td><td>228.0</td><td>25</td><td>28.0</td><td>8.0</td><td>19.0</td><td>69</td><td>246</td><td>5125088.0</td><td>8105719.0</td></tr>\n",
       "<tr><td>A.C. Green</td><td>1999-00</td><td>920</td><td>0</td><td>1610612747</td><td>LAL</td><td>36.0</td><td>82</td><td>82.0</td><td>1929.0</td><td>173</td><td>387</td><td>0.447</td><td>1.0</td><td>4.0</td><td>0.25</td><td>66</td><td>95</td><td>0.695</td><td>160.0</td><td>326.0</td><td>486.0</td><td>80</td><td>53.0</td><td>18.0</td><td>53.0</td><td>127</td><td>413</td><td>1700000.0</td><td>2636912.0</td></tr>\n",
       "<tr><td>A.C. Green</td><td>2000-01</td><td>920</td><td>0</td><td>1610612748</td><td>MIA</td><td>37.0</td><td>82</td><td>1.0</td><td>1412.0</td><td>144</td><td>324</td><td>0.444</td><td>0.0</td><td>6.0</td><td>0.0</td><td>79</td><td>111</td><td>0.712</td><td>107.0</td><td>206.0</td><td>313.0</td><td>39</td><td>30.0</td><td>8.0</td><td>45.0</td><td>119</td><td>367</td><td>2250000.0</td><td>3364520.0</td></tr>\n",
       "<tr><td>A.J. Bramlett</td><td>1999-00</td><td>1920</td><td>0</td><td>1610612739</td><td>CLE</td><td>23.0</td><td>8</td><td>0.0</td><td>61.0</td><td>4</td><td>21</td><td>0.19</td><td>0.0</td><td>0.0</td><td>0.0</td><td>0</td><td>0</td><td>0.0</td><td>12.0</td><td>10.0</td><td>22.0</td><td>0</td><td>1.0</td><td>0.0</td><td>3.0</td><td>13</td><td>8</td><td>118974.0</td><td>184543.0</td></tr>\n",
       "<tr><td>A.J. English</td><td>1990-91</td><td>76672</td><td>0</td><td>1610612764</td><td>WAS</td><td>23.0</td><td>70</td><td>12.0</td><td>1443.0</td><td>251</td><td>572</td><td>0.439</td><td>3.0</td><td>31.0</td><td>0.097</td><td>111</td><td>157</td><td>0.707</td><td>66.0</td><td>81.0</td><td>147.0</td><td>177</td><td>25.0</td><td>15.0</td><td>114.0</td><td>127</td><td>616</td><td>275000.0</td><td>545759.0</td></tr>\n",
       "<tr><td>A.J. English</td><td>1991-92</td><td>76672</td><td>0</td><td>1610612764</td><td>WAS</td><td>24.0</td><td>81</td><td>6.0</td><td>1665.0</td><td>366</td><td>846</td><td>0.433</td><td>6.0</td><td>34.0</td><td>0.176</td><td>148</td><td>176</td><td>0.841</td><td>74.0</td><td>94.0</td><td>168.0</td><td>143</td><td>32.0</td><td>9.0</td><td>89.0</td><td>160</td><td>886</td><td>325000.0</td><td>616059.0</td></tr>\n",
       "<tr><td>A.J. Wynder</td><td>1990-91</td><td>78627</td><td>0</td><td>1610612738</td><td>BOS</td><td>26.0</td><td>6</td><td>0.0</td><td>39.0</td><td>3</td><td>12</td><td>0.25</td><td>0.0</td><td>1.0</td><td>0.0</td><td>6</td><td>8</td><td>0.75</td><td>1.0</td><td>2.0</td><td>3.0</td><td>8</td><td>1.0</td><td>0.0</td><td>4.0</td><td>1</td><td>12</td><td>30000.0</td><td>59537.0</td></tr>\n",
       "<tr><td>AJ Hammons</td><td>2016-17</td><td>1627773</td><td>0</td><td>1610612742</td><td>DAL</td><td>24.0</td><td>22</td><td>0.0</td><td>163.0</td><td>17</td><td>42</td><td>0.405</td><td>5.0</td><td>10.0</td><td>0.5</td><td>9</td><td>20</td><td>0.45</td><td>8.0</td><td>28.0</td><td>36.0</td><td>4</td><td>1.0</td><td>13.0</td><td>10.0</td><td>21</td><td>48</td><td>650000.0</td><td>695251.0</td></tr>\n",
       "<tr><td>AJ Price</td><td>2009-10</td><td>201985</td><td>0</td><td>1610612754</td><td>IND</td><td>23.0</td><td>56</td><td>2.0</td><td>865.0</td><td>145</td><td>354</td><td>0.41</td><td>60.0</td><td>174.0</td><td>0.345</td><td>60</td><td>75</td><td>0.8</td><td>12.0</td><td>76.0</td><td>88.0</td><td>106</td><td>35.0</td><td>3.0</td><td>59.0</td><td>53</td><td>410</td><td>457588.0</td><td>546910.0</td></tr>\n",
       "<tr><td>AJ Price</td><td>2010-11</td><td>201985</td><td>0</td><td>1610612754</td><td>IND</td><td>24.0</td><td>50</td><td>0.0</td><td>795.0</td><td>114</td><td>320</td><td>0.356</td><td>41.0</td><td>149.0</td><td>0.275</td><td>54</td><td>81</td><td>0.667</td><td>16.0</td><td>56.0</td><td>72.0</td><td>111</td><td>29.0</td><td>1.0</td><td>53.0</td><td>61</td><td>323</td><td>762195.0</td><td>901482.0</td></tr>\n",
       "</table>\n",
       "only showing top 20 rows\n"
      ],
      "text/plain": [
       "DataFrame[PLAYER_NAME: string, SEASON_ID: string, PLAYER_ID: int, LEAGUE_ID: int, TEAM_ID: int, TEAM_ABBREVIATION: string, PLAYER_AGE: double, GP: int, GS: double, MIN: double, FGM: int, FGA: int, FG_PCT: double, FG3M: double, FG3A: double, FG3_PCT: double, FTM: int, FTA: int, FT_PCT: double, OREB: double, DREB: double, REB: double, AST: int, STL: double, BLK: double, TOV: double, PF: int, PTS: int, SALARY_NOMINAL: double, SALARY_REAL: double]"
      ]
     },
     "execution_count": 4,
     "metadata": {},
     "output_type": "execute_result"
    }
   ],
   "source": [
    "spark.conf.set('spark.sql.repl.eagerEval.enabled', True)\n",
    "df"
   ]
  },
  {
   "cell_type": "code",
   "execution_count": 7,
   "id": "9c49e9a8-4e12-4776-9f2f-c8010835fd88",
   "metadata": {},
   "outputs": [
    {
     "name": "stdout",
     "output_type": "stream",
     "text": [
      "+-------+------------------+------------------+------------------+\n",
      "|summary|        PLAYER_AGE|                GP|                GS|\n",
      "+-------+------------------+------------------+------------------+\n",
      "|  count|             16341|             16341|             16341|\n",
      "|   mean|27.285845419496972| 47.50988311608837| 22.89168349550211|\n",
      "| stddev|4.3193355378704315|26.160286052196124|27.807187459460366|\n",
      "|    min|              15.0|                 1|               0.0|\n",
      "|    max|              94.0|                85|              83.0|\n",
      "+-------+------------------+------------------+------------------+\n",
      "\n"
     ]
    }
   ],
   "source": [
    "df.select('PLAYER_AGE', 'GP', 'GS').describe().show()"
   ]
  },
  {
   "cell_type": "code",
   "execution_count": 9,
   "id": "fe5bd73b-978c-492f-84ab-4485175994ce",
   "metadata": {},
   "outputs": [
    {
     "data": {
      "text/plain": [
       "[Row(PLAYER_NAME='A.C. Green', SEASON_ID='1990-91', PLAYER_ID=920, LEAGUE_ID=0, TEAM_ID=1610612747, TEAM_ABBREVIATION='LAL', PLAYER_AGE=27.0, GP=82, GS=21.0, MIN=2164.0, FGM=258, FGA=542, FG_PCT=0.476, FG3M=11.0, FG3A=55.0, FG3_PCT=0.2, FTM=223, FTA=302, FT_PCT=0.738, OREB=201.0, DREB=315.0, REB=516.0, AST=71, STL=59.0, BLK=23.0, TOV=99.0, PF=117, PTS=750, SALARY_NOMINAL=1750000.0, SALARY_REAL=3473015.0)]"
      ]
     },
     "execution_count": 9,
     "metadata": {},
     "output_type": "execute_result"
    }
   ],
   "source": [
    "df.take(1)"
   ]
  },
  {
   "cell_type": "code",
   "execution_count": 13,
   "id": "9a8d0b70-161c-47a3-b3ed-2181a551c3d9",
   "metadata": {},
   "outputs": [
    {
     "name": "stdout",
     "output_type": "stream",
     "text": [
      "+----------------+------------------+\n",
      "|     PLAYER_NAME|          avg(BLK)|\n",
      "+----------------+------------------+\n",
      "| Al-Farouq Aminu| 31.23076923076923|\n",
      "|  Brandon Ingram|31.333333333333332|\n",
      "|   Greg Stiemsma|              58.0|\n",
      "|   Nassir Little|              13.0|\n",
      "|   Reggie Miller|15.533333333333333|\n",
      "|  Rodney Stuckey|               9.4|\n",
      "|     Terry Mills|              25.0|\n",
      "|     Tyler Lydon|               0.0|\n",
      "|     Aaron Miles|               1.0|\n",
      "|    Andre Miller|             10.08|\n",
      "|    Bobby Phills|15.444444444444445|\n",
      "|    Carl Herrera|              21.1|\n",
      "|    Donald Hodge|14.714285714285714|\n",
      "|    Elias Harris|               0.0|\n",
      "|   Eric Williams| 6.444444444444445|\n",
      "|Jarrell Brantley|               3.5|\n",
      "|  Kevin Seraphin| 43.42857142857143|\n",
      "|     LeRon Ellis|12.333333333333334|\n",
      "|  Ledell Eackles| 6.333333333333333|\n",
      "|      Lee Nailon|               9.0|\n",
      "+----------------+------------------+\n",
      "only showing top 20 rows\n",
      "\n"
     ]
    }
   ],
   "source": [
    "df.select('PLAYER_NAME', 'BLK').groupby('PLAYER_NAME').avg().show()"
   ]
  },
  {
   "cell_type": "code",
   "execution_count": 21,
   "id": "14e3dabc-a723-416a-aee4-9a79ea34ada4",
   "metadata": {},
   "outputs": [],
   "source": [
    "# https://spark.apache.org/docs/latest/ml-guide.html"
   ]
  }
 ],
 "metadata": {
  "kernelspec": {
   "display_name": "Python 3 (ipykernel)",
   "language": "python",
   "name": "python3"
  },
  "language_info": {
   "codemirror_mode": {
    "name": "ipython",
    "version": 3
   },
   "file_extension": ".py",
   "mimetype": "text/x-python",
   "name": "python",
   "nbconvert_exporter": "python",
   "pygments_lexer": "ipython3",
   "version": "3.9.7"
  }
 },
 "nbformat": 4,
 "nbformat_minor": 5
}
