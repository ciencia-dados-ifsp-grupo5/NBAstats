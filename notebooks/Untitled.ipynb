{
 "cells": [
  {
   "cell_type": "code",
   "execution_count": 1,
   "id": "8995621a-3848-44d4-82f8-bfb1de1d783f",
   "metadata": {},
   "outputs": [
    {
     "name": "stdout",
     "output_type": "stream",
     "text": [
      "Collecting boto3\n",
      "  Downloading boto3-1.20.14-py3-none-any.whl (131 kB)\n",
      "     |████████████████████████████████| 131 kB 7.7 MB/s            \n",
      "\u001b[?25hCollecting s3transfer<0.6.0,>=0.5.0\n",
      "  Downloading s3transfer-0.5.0-py3-none-any.whl (79 kB)\n",
      "     |████████████████████████████████| 79 kB 3.5 MB/s             \n",
      "\u001b[?25hCollecting botocore<1.24.0,>=1.23.14\n",
      "  Downloading botocore-1.23.14-py3-none-any.whl (8.2 MB)\n",
      "     |████████████████████████████████| 8.2 MB 71.4 MB/s            \n",
      "\u001b[?25hCollecting jmespath<1.0.0,>=0.7.1\n",
      "  Downloading jmespath-0.10.0-py2.py3-none-any.whl (24 kB)\n",
      "Requirement already satisfied: urllib3<1.27,>=1.25.4 in /opt/conda/lib/python3.9/site-packages (from botocore<1.24.0,>=1.23.14->boto3) (1.26.7)\n",
      "Requirement already satisfied: python-dateutil<3.0.0,>=2.1 in /opt/conda/lib/python3.9/site-packages (from botocore<1.24.0,>=1.23.14->boto3) (2.8.2)\n",
      "Requirement already satisfied: six>=1.5 in /opt/conda/lib/python3.9/site-packages (from python-dateutil<3.0.0,>=2.1->botocore<1.24.0,>=1.23.14->boto3) (1.16.0)\n",
      "Installing collected packages: jmespath, botocore, s3transfer, boto3\n",
      "Successfully installed boto3-1.20.14 botocore-1.23.14 jmespath-0.10.0 s3transfer-0.5.0\n",
      "Collecting sagemaker\n",
      "  Downloading sagemaker-2.69.0.tar.gz (452 kB)\n",
      "     |████████████████████████████████| 452 kB 6.4 MB/s            \n",
      "\u001b[?25h  Preparing metadata (setup.py) ... \u001b[?25ldone\n",
      "\u001b[?25hRequirement already satisfied: attrs in /opt/conda/lib/python3.9/site-packages (from sagemaker) (21.2.0)\n",
      "Requirement already satisfied: boto3>=1.16.32 in /opt/conda/lib/python3.9/site-packages (from sagemaker) (1.20.14)\n",
      "Collecting google-pasta\n",
      "  Downloading google_pasta-0.2.0-py3-none-any.whl (57 kB)\n",
      "     |████████████████████████████████| 57 kB 3.1 MB/s             \n",
      "\u001b[?25hRequirement already satisfied: numpy>=1.9.0 in /opt/conda/lib/python3.9/site-packages (from sagemaker) (1.20.3)\n",
      "Requirement already satisfied: protobuf>=3.1 in /opt/conda/lib/python3.9/site-packages (from sagemaker) (3.19.1)\n",
      "Collecting protobuf3-to-dict>=0.1.5\n",
      "  Downloading protobuf3-to-dict-0.1.5.tar.gz (3.5 kB)\n",
      "  Preparing metadata (setup.py) ... \u001b[?25ldone\n",
      "\u001b[?25hCollecting smdebug_rulesconfig==1.0.1\n",
      "  Downloading smdebug_rulesconfig-1.0.1-py2.py3-none-any.whl (20 kB)\n",
      "Requirement already satisfied: importlib-metadata>=1.4.0 in /opt/conda/lib/python3.9/site-packages (from sagemaker) (4.8.2)\n",
      "Requirement already satisfied: packaging>=20.0 in /opt/conda/lib/python3.9/site-packages (from sagemaker) (21.2)\n",
      "Requirement already satisfied: pandas in /opt/conda/lib/python3.9/site-packages (from sagemaker) (1.3.4)\n",
      "Collecting pathos\n",
      "  Downloading pathos-0.2.8-py2.py3-none-any.whl (81 kB)\n",
      "     |████████████████████████████████| 81 kB 6.5 MB/s             \n",
      "\u001b[?25hRequirement already satisfied: botocore<1.24.0,>=1.23.14 in /opt/conda/lib/python3.9/site-packages (from boto3>=1.16.32->sagemaker) (1.23.14)\n",
      "Requirement already satisfied: s3transfer<0.6.0,>=0.5.0 in /opt/conda/lib/python3.9/site-packages (from boto3>=1.16.32->sagemaker) (0.5.0)\n",
      "Requirement already satisfied: jmespath<1.0.0,>=0.7.1 in /opt/conda/lib/python3.9/site-packages (from boto3>=1.16.32->sagemaker) (0.10.0)\n",
      "Requirement already satisfied: zipp>=0.5 in /opt/conda/lib/python3.9/site-packages (from importlib-metadata>=1.4.0->sagemaker) (3.6.0)\n",
      "Requirement already satisfied: pyparsing<3,>=2.0.2 in /opt/conda/lib/python3.9/site-packages (from packaging>=20.0->sagemaker) (2.4.7)\n",
      "Requirement already satisfied: six in /opt/conda/lib/python3.9/site-packages (from protobuf3-to-dict>=0.1.5->sagemaker) (1.16.0)\n",
      "Requirement already satisfied: python-dateutil>=2.7.3 in /opt/conda/lib/python3.9/site-packages (from pandas->sagemaker) (2.8.2)\n",
      "Requirement already satisfied: pytz>=2017.3 in /opt/conda/lib/python3.9/site-packages (from pandas->sagemaker) (2021.3)\n",
      "Collecting ppft>=1.6.6.4\n",
      "  Downloading ppft-1.6.6.4-py3-none-any.whl (65 kB)\n",
      "     |████████████████████████████████| 65 kB 2.0 MB/s             \n",
      "\u001b[?25hRequirement already satisfied: dill>=0.3.4 in /opt/conda/lib/python3.9/site-packages (from pathos->sagemaker) (0.3.4)\n",
      "Collecting pox>=0.3.0\n",
      "  Downloading pox-0.3.0-py2.py3-none-any.whl (30 kB)\n",
      "Collecting multiprocess>=0.70.12\n",
      "  Downloading multiprocess-0.70.12.2-py39-none-any.whl (128 kB)\n",
      "     |████████████████████████████████| 128 kB 35.3 MB/s            \n",
      "\u001b[?25hRequirement already satisfied: urllib3<1.27,>=1.25.4 in /opt/conda/lib/python3.9/site-packages (from botocore<1.24.0,>=1.23.14->boto3>=1.16.32->sagemaker) (1.26.7)\n",
      "Building wheels for collected packages: sagemaker, protobuf3-to-dict\n",
      "  Building wheel for sagemaker (setup.py) ... \u001b[?25ldone\n",
      "\u001b[?25h  Created wheel for sagemaker: filename=sagemaker-2.69.0-py2.py3-none-any.whl size=625707 sha256=ab8087503eb2bb953f06a84564d4d80ec4d13e68c07a643388aff57f29a7c782\n",
      "  Stored in directory: /home/jovyan/.cache/pip/wheels/d7/8f/9d/2311179404dd882feb736a88de9cb56e4377445273ed4a7314\n",
      "  Building wheel for protobuf3-to-dict (setup.py) ... \u001b[?25ldone\n",
      "\u001b[?25h  Created wheel for protobuf3-to-dict: filename=protobuf3_to_dict-0.1.5-py3-none-any.whl size=4029 sha256=7c7201913a73870fc6aa6fab1f88851b8ef6b1f652c79c0559591ca9f69f7a2d\n",
      "  Stored in directory: /home/jovyan/.cache/pip/wheels/21/bf/76/90dd7b8d0598c7642532062ddff00ecef07df873c36396488c\n",
      "Successfully built sagemaker protobuf3-to-dict\n",
      "Installing collected packages: ppft, pox, multiprocess, smdebug-rulesconfig, protobuf3-to-dict, pathos, google-pasta, sagemaker\n",
      "Successfully installed google-pasta-0.2.0 multiprocess-0.70.12.2 pathos-0.2.8 pox-0.3.0 ppft-1.6.6.4 protobuf3-to-dict-0.1.5 sagemaker-2.69.0 smdebug-rulesconfig-1.0.1\n"
     ]
    }
   ],
   "source": [
    "!pip install boto3\n",
    "!pip install sagemaker"
   ]
  },
  {
   "cell_type": "code",
   "execution_count": 2,
   "id": "db3a02b7-c28c-45d5-9df1-451440ae2b36",
   "metadata": {},
   "outputs": [],
   "source": [
    "import pandas as pd"
   ]
  },
  {
   "cell_type": "code",
   "execution_count": 3,
   "id": "11ade8b9-94d1-4431-bee2-0993235a9802",
   "metadata": {},
   "outputs": [
    {
     "data": {
      "text/html": [
       "<div>\n",
       "<style scoped>\n",
       "    .dataframe tbody tr th:only-of-type {\n",
       "        vertical-align: middle;\n",
       "    }\n",
       "\n",
       "    .dataframe tbody tr th {\n",
       "        vertical-align: top;\n",
       "    }\n",
       "\n",
       "    .dataframe thead th {\n",
       "        text-align: right;\n",
       "    }\n",
       "</style>\n",
       "<table border=\"1\" class=\"dataframe\">\n",
       "  <thead>\n",
       "    <tr style=\"text-align: right;\">\n",
       "      <th></th>\n",
       "      <th>PLAYER_NAME</th>\n",
       "      <th>SEASON_ID</th>\n",
       "      <th>PLAYER_ID</th>\n",
       "      <th>LEAGUE_ID</th>\n",
       "      <th>TEAM_ID</th>\n",
       "      <th>TEAM_ABBREVIATION</th>\n",
       "      <th>PLAYER_AGE</th>\n",
       "      <th>GP</th>\n",
       "      <th>GS</th>\n",
       "      <th>MIN</th>\n",
       "      <th>...</th>\n",
       "      <th>DREB</th>\n",
       "      <th>REB</th>\n",
       "      <th>AST</th>\n",
       "      <th>STL</th>\n",
       "      <th>BLK</th>\n",
       "      <th>TOV</th>\n",
       "      <th>PF</th>\n",
       "      <th>PTS</th>\n",
       "      <th>SALARY_NOMINAL</th>\n",
       "      <th>SALARY_REAL</th>\n",
       "    </tr>\n",
       "  </thead>\n",
       "  <tbody>\n",
       "    <tr>\n",
       "      <th>0</th>\n",
       "      <td>A.C. Green</td>\n",
       "      <td>1990-91</td>\n",
       "      <td>920</td>\n",
       "      <td>0</td>\n",
       "      <td>1610612747</td>\n",
       "      <td>LAL</td>\n",
       "      <td>27.0</td>\n",
       "      <td>82</td>\n",
       "      <td>21.0</td>\n",
       "      <td>2164.0</td>\n",
       "      <td>...</td>\n",
       "      <td>315.0</td>\n",
       "      <td>516.0</td>\n",
       "      <td>71</td>\n",
       "      <td>59.0</td>\n",
       "      <td>23.0</td>\n",
       "      <td>99.0</td>\n",
       "      <td>117</td>\n",
       "      <td>750</td>\n",
       "      <td>1750000.0</td>\n",
       "      <td>3473015.0</td>\n",
       "    </tr>\n",
       "    <tr>\n",
       "      <th>1</th>\n",
       "      <td>A.C. Green</td>\n",
       "      <td>1991-92</td>\n",
       "      <td>920</td>\n",
       "      <td>0</td>\n",
       "      <td>1610612747</td>\n",
       "      <td>LAL</td>\n",
       "      <td>28.0</td>\n",
       "      <td>82</td>\n",
       "      <td>53.0</td>\n",
       "      <td>2902.0</td>\n",
       "      <td>...</td>\n",
       "      <td>456.0</td>\n",
       "      <td>762.0</td>\n",
       "      <td>117</td>\n",
       "      <td>91.0</td>\n",
       "      <td>36.0</td>\n",
       "      <td>111.0</td>\n",
       "      <td>141</td>\n",
       "      <td>1116</td>\n",
       "      <td>1750000.0</td>\n",
       "      <td>3317240.0</td>\n",
       "    </tr>\n",
       "    <tr>\n",
       "      <th>2</th>\n",
       "      <td>A.C. Green</td>\n",
       "      <td>1992-93</td>\n",
       "      <td>920</td>\n",
       "      <td>0</td>\n",
       "      <td>1610612747</td>\n",
       "      <td>LAL</td>\n",
       "      <td>29.0</td>\n",
       "      <td>82</td>\n",
       "      <td>55.0</td>\n",
       "      <td>2819.0</td>\n",
       "      <td>...</td>\n",
       "      <td>424.0</td>\n",
       "      <td>711.0</td>\n",
       "      <td>116</td>\n",
       "      <td>88.0</td>\n",
       "      <td>39.0</td>\n",
       "      <td>116.0</td>\n",
       "      <td>149</td>\n",
       "      <td>1051</td>\n",
       "      <td>1750000.0</td>\n",
       "      <td>3217865.0</td>\n",
       "    </tr>\n",
       "    <tr>\n",
       "      <th>3</th>\n",
       "      <td>A.C. Green</td>\n",
       "      <td>1993-94</td>\n",
       "      <td>920</td>\n",
       "      <td>0</td>\n",
       "      <td>1610612756</td>\n",
       "      <td>PHX</td>\n",
       "      <td>30.0</td>\n",
       "      <td>82</td>\n",
       "      <td>55.0</td>\n",
       "      <td>2825.0</td>\n",
       "      <td>...</td>\n",
       "      <td>478.0</td>\n",
       "      <td>753.0</td>\n",
       "      <td>137</td>\n",
       "      <td>70.0</td>\n",
       "      <td>38.0</td>\n",
       "      <td>100.0</td>\n",
       "      <td>142</td>\n",
       "      <td>1204</td>\n",
       "      <td>1885000.0</td>\n",
       "      <td>3365286.0</td>\n",
       "    </tr>\n",
       "    <tr>\n",
       "      <th>4</th>\n",
       "      <td>A.C. Green</td>\n",
       "      <td>1994-95</td>\n",
       "      <td>920</td>\n",
       "      <td>0</td>\n",
       "      <td>1610612756</td>\n",
       "      <td>PHX</td>\n",
       "      <td>31.0</td>\n",
       "      <td>82</td>\n",
       "      <td>52.0</td>\n",
       "      <td>2687.0</td>\n",
       "      <td>...</td>\n",
       "      <td>475.0</td>\n",
       "      <td>669.0</td>\n",
       "      <td>127</td>\n",
       "      <td>55.0</td>\n",
       "      <td>31.0</td>\n",
       "      <td>114.0</td>\n",
       "      <td>146</td>\n",
       "      <td>916</td>\n",
       "      <td>6472600.0</td>\n",
       "      <td>11274438.0</td>\n",
       "    </tr>\n",
       "  </tbody>\n",
       "</table>\n",
       "<p>5 rows × 30 columns</p>\n",
       "</div>"
      ],
      "text/plain": [
       "  PLAYER_NAME SEASON_ID  PLAYER_ID  LEAGUE_ID     TEAM_ID TEAM_ABBREVIATION  \\\n",
       "0  A.C. Green   1990-91        920          0  1610612747               LAL   \n",
       "1  A.C. Green   1991-92        920          0  1610612747               LAL   \n",
       "2  A.C. Green   1992-93        920          0  1610612747               LAL   \n",
       "3  A.C. Green   1993-94        920          0  1610612756               PHX   \n",
       "4  A.C. Green   1994-95        920          0  1610612756               PHX   \n",
       "\n",
       "   PLAYER_AGE  GP    GS     MIN  ...   DREB    REB  AST   STL   BLK    TOV  \\\n",
       "0        27.0  82  21.0  2164.0  ...  315.0  516.0   71  59.0  23.0   99.0   \n",
       "1        28.0  82  53.0  2902.0  ...  456.0  762.0  117  91.0  36.0  111.0   \n",
       "2        29.0  82  55.0  2819.0  ...  424.0  711.0  116  88.0  39.0  116.0   \n",
       "3        30.0  82  55.0  2825.0  ...  478.0  753.0  137  70.0  38.0  100.0   \n",
       "4        31.0  82  52.0  2687.0  ...  475.0  669.0  127  55.0  31.0  114.0   \n",
       "\n",
       "    PF   PTS  SALARY_NOMINAL  SALARY_REAL  \n",
       "0  117   750       1750000.0    3473015.0  \n",
       "1  141  1116       1750000.0    3317240.0  \n",
       "2  149  1051       1750000.0    3217865.0  \n",
       "3  142  1204       1885000.0    3365286.0  \n",
       "4  146   916       6472600.0   11274438.0  \n",
       "\n",
       "[5 rows x 30 columns]"
      ]
     },
     "execution_count": 3,
     "metadata": {},
     "output_type": "execute_result"
    }
   ],
   "source": [
    "df = pd.read_csv('../data/players.csv')\n",
    "df.head()"
   ]
  },
  {
   "cell_type": "code",
   "execution_count": 20,
   "id": "cf6b88e9-7b15-4060-9ffa-6fe6a3a4d015",
   "metadata": {},
   "outputs": [
    {
     "data": {
      "text/html": [
       "<div>\n",
       "<style scoped>\n",
       "    .dataframe tbody tr th:only-of-type {\n",
       "        vertical-align: middle;\n",
       "    }\n",
       "\n",
       "    .dataframe tbody tr th {\n",
       "        vertical-align: top;\n",
       "    }\n",
       "\n",
       "    .dataframe thead th {\n",
       "        text-align: right;\n",
       "    }\n",
       "</style>\n",
       "<table border=\"1\" class=\"dataframe\">\n",
       "  <thead>\n",
       "    <tr style=\"text-align: right;\">\n",
       "      <th></th>\n",
       "      <th>SEASON_ID</th>\n",
       "      <th>PLAYER_AGE</th>\n",
       "      <th>REB</th>\n",
       "      <th>AST</th>\n",
       "      <th>STL</th>\n",
       "      <th>BLK</th>\n",
       "      <th>PTS</th>\n",
       "      <th>SALARY_NOMINAL</th>\n",
       "    </tr>\n",
       "  </thead>\n",
       "  <tbody>\n",
       "    <tr>\n",
       "      <th>0</th>\n",
       "      <td>1990-91</td>\n",
       "      <td>27.0</td>\n",
       "      <td>516.0</td>\n",
       "      <td>71</td>\n",
       "      <td>59.0</td>\n",
       "      <td>23.0</td>\n",
       "      <td>750</td>\n",
       "      <td>1750000.0</td>\n",
       "    </tr>\n",
       "    <tr>\n",
       "      <th>1</th>\n",
       "      <td>1991-92</td>\n",
       "      <td>28.0</td>\n",
       "      <td>762.0</td>\n",
       "      <td>117</td>\n",
       "      <td>91.0</td>\n",
       "      <td>36.0</td>\n",
       "      <td>1116</td>\n",
       "      <td>1750000.0</td>\n",
       "    </tr>\n",
       "    <tr>\n",
       "      <th>2</th>\n",
       "      <td>1992-93</td>\n",
       "      <td>29.0</td>\n",
       "      <td>711.0</td>\n",
       "      <td>116</td>\n",
       "      <td>88.0</td>\n",
       "      <td>39.0</td>\n",
       "      <td>1051</td>\n",
       "      <td>1750000.0</td>\n",
       "    </tr>\n",
       "  </tbody>\n",
       "</table>\n",
       "</div>"
      ],
      "text/plain": [
       "  SEASON_ID  PLAYER_AGE    REB  AST   STL   BLK   PTS  SALARY_NOMINAL\n",
       "0   1990-91        27.0  516.0   71  59.0  23.0   750       1750000.0\n",
       "1   1991-92        28.0  762.0  117  91.0  36.0  1116       1750000.0\n",
       "2   1992-93        29.0  711.0  116  88.0  39.0  1051       1750000.0"
      ]
     },
     "execution_count": 20,
     "metadata": {},
     "output_type": "execute_result"
    }
   ],
   "source": [
    "df = df[['SEASON_ID', 'PLAYER_AGE', 'REB', 'AST', 'STL', 'BLK', 'PTS', 'SALARY_NOMINAL']]\n",
    "df.head(3)"
   ]
  },
  {
   "cell_type": "code",
   "execution_count": 31,
   "id": "53d1b411-9185-4886-848c-25d23b8d4983",
   "metadata": {},
   "outputs": [
    {
     "data": {
      "text/plain": [
       "array(['1990-91', '1991-92', '1992-93', '1993-94', '1994-95', '1995-96',\n",
       "       '1996-97', '1997-98', '1998-99', '1999-00', '2000-01', '2016-17',\n",
       "       '2009-10', '2010-11', '2011-12', '2012-13', '2013-14', '2014-15',\n",
       "       '2007-08', '2008-09', '2015-16', '2017-18', '2018-19', '2019-20',\n",
       "       '2020-21', '2021-22', '2001-02', '2002-03', '2003-04', '2004-05',\n",
       "       '2005-06', '2006-07'], dtype=object)"
      ]
     },
     "execution_count": 31,
     "metadata": {},
     "output_type": "execute_result"
    }
   ],
   "source": [
    "seasons_keys = df['SEASON_ID'].unique()\n",
    "seasons_keys"
   ]
  },
  {
   "cell_type": "code",
   "execution_count": 65,
   "id": "a7852e16-1dc7-4013-a3b3-1d78b25ef943",
   "metadata": {},
   "outputs": [],
   "source": [
    "seasons = { season: { 'df': df[df['SEASON_ID'] == season].drop(columns='SEASON_ID') } for season in seasons_keys }"
   ]
  },
  {
   "cell_type": "code",
   "execution_count": 66,
   "id": "72927176-3135-4c74-a2f8-9552d3d655e0",
   "metadata": {},
   "outputs": [
    {
     "data": {
      "text/plain": [
       "{'df':        PLAYER_AGE    REB  AST   STL   BLK   PTS  SALARY_NOMINAL\n",
       " 48           24.0  475.0  228  51.0  39.0   894      19863636.0\n",
       " 68           23.0  156.0  225  55.0  16.0   627       2239200.0\n",
       " 115          26.0  100.0   38  23.0  20.0   345       1618520.0\n",
       " 145          21.0   10.0    4   4.0   0.0    32         79568.0\n",
       " 152          23.0   47.0   15   8.0   4.0    99       1000000.0\n",
       " ...           ...    ...  ...   ...   ...   ...             ...\n",
       " 16240        22.0   69.0   16   5.0   5.0    77       4240200.0\n",
       " 16246        25.0  289.0  254  88.0  28.0  1530      19500000.0\n",
       " 16315        21.0    2.0    2   3.0   0.0     8       3058800.0\n",
       " 16319        19.0  150.0   50  16.0   9.0   540       9757440.0\n",
       " 16340        24.0    9.0    3   1.0   1.0    12         79568.0\n",
       " \n",
       " [557 rows x 7 columns]}"
      ]
     },
     "execution_count": 66,
     "metadata": {},
     "output_type": "execute_result"
    }
   ],
   "source": [
    "seasons['2019-20']"
   ]
  },
  {
   "cell_type": "code",
   "execution_count": 67,
   "id": "fab4e2f6-0960-4735-8f10-e2492ac37cd1",
   "metadata": {},
   "outputs": [],
   "source": [
    "from sklearn.model_selection import train_test_split\n",
    "\n",
    "for season, data in seasons.items():\n",
    "    X = data['df'].drop(columns='SALARY_NOMINAL')\n",
    "    y = data['df']['SALARY_NOMINAL']\n",
    "    data['X_train'], data['X_test'], data['y_train'], data['y_test'] = train_test_split(X, y)"
   ]
  },
  {
   "cell_type": "code",
   "execution_count": 68,
   "id": "bd6653f1-25fd-42d9-8624-53d6904e1bf9",
   "metadata": {},
   "outputs": [
    {
     "name": "stdout",
     "output_type": "stream",
     "text": [
      "(417, 6) (417,)\n",
      "(140, 6) (140,)\n"
     ]
    }
   ],
   "source": [
    "print(seasons['2019-20']['X_train'].shape, seasons['2019-20']['y_train'].shape)\n",
    "print(seasons['2019-20']['X_test'].shape, seasons['2019-20']['y_test'].shape)"
   ]
  },
  {
   "cell_type": "code",
   "execution_count": 72,
   "id": "bc899c5d-e541-468a-9c33-4698906d6ce4",
   "metadata": {},
   "outputs": [],
   "source": [
    "from sklearn.linear_model import LinearRegression\n",
    "\n",
    "for season, data in seasons.items():\n",
    "    model = LinearRegression()\n",
    "    model.fit(data['X_train'], data['y_train'])\n",
    "    data['model'] = model"
   ]
  },
  {
   "cell_type": "code",
   "execution_count": 77,
   "id": "eca1ffc9-3b7d-4766-a276-b0644b531894",
   "metadata": {},
   "outputs": [
    {
     "data": {
      "text/plain": [
       "array([623753.71136291,   5737.52586975,  16121.83791182, -41393.72120075,\n",
       "        35684.51890822,   7458.72699727])"
      ]
     },
     "execution_count": 77,
     "metadata": {},
     "output_type": "execute_result"
    }
   ],
   "source": [
    "seasons['2019-20']['model'].coef_"
   ]
  },
  {
   "cell_type": "code",
   "execution_count": 86,
   "id": "514246ce-2479-483a-bde8-747cc707fa3c",
   "metadata": {},
   "outputs": [
    {
     "data": {
      "text/plain": [
       "array(['PLAYER_AGE', 'REB', 'AST', 'STL', 'BLK', 'PTS'], dtype=object)"
      ]
     },
     "execution_count": 86,
     "metadata": {},
     "output_type": "execute_result"
    }
   ],
   "source": [
    "seasons['2019-20']['model'].feature_names_in_"
   ]
  },
  {
   "cell_type": "code",
   "execution_count": 81,
   "id": "b7f104df-0399-464e-99c8-2b4ac6a33536",
   "metadata": {},
   "outputs": [],
   "source": [
    "pred = seasons['2019-20']['model'].predict(seasons['2019-20']['X_test'])\n",
    "# pred"
   ]
  },
  {
   "cell_type": "code",
   "execution_count": 95,
   "id": "433ff928-1de2-4a60-8b7b-c0d9cdeac1e6",
   "metadata": {},
   "outputs": [
    {
     "data": {
      "text/html": [
       "<div>\n",
       "<style scoped>\n",
       "    .dataframe tbody tr th:only-of-type {\n",
       "        vertical-align: middle;\n",
       "    }\n",
       "\n",
       "    .dataframe tbody tr th {\n",
       "        vertical-align: top;\n",
       "    }\n",
       "\n",
       "    .dataframe thead th {\n",
       "        text-align: right;\n",
       "    }\n",
       "</style>\n",
       "<table border=\"1\" class=\"dataframe\">\n",
       "  <thead>\n",
       "    <tr style=\"text-align: right;\">\n",
       "      <th></th>\n",
       "      <th>PLAYER_AGE</th>\n",
       "      <th>REB</th>\n",
       "      <th>AST</th>\n",
       "      <th>STL</th>\n",
       "      <th>BLK</th>\n",
       "      <th>PTS</th>\n",
       "    </tr>\n",
       "  </thead>\n",
       "  <tbody>\n",
       "    <tr>\n",
       "      <th>12087</th>\n",
       "      <td>27.0</td>\n",
       "      <td>405.0</td>\n",
       "      <td>250</td>\n",
       "      <td>64.0</td>\n",
       "      <td>37.0</td>\n",
       "      <td>1196</td>\n",
       "    </tr>\n",
       "    <tr>\n",
       "      <th>8710</th>\n",
       "      <td>26.0</td>\n",
       "      <td>77.0</td>\n",
       "      <td>52</td>\n",
       "      <td>15.0</td>\n",
       "      <td>2.0</td>\n",
       "      <td>245</td>\n",
       "    </tr>\n",
       "    <tr>\n",
       "      <th>13394</th>\n",
       "      <td>23.0</td>\n",
       "      <td>312.0</td>\n",
       "      <td>82</td>\n",
       "      <td>44.0</td>\n",
       "      <td>7.0</td>\n",
       "      <td>789</td>\n",
       "    </tr>\n",
       "    <tr>\n",
       "      <th>9377</th>\n",
       "      <td>23.0</td>\n",
       "      <td>24.0</td>\n",
       "      <td>8</td>\n",
       "      <td>5.0</td>\n",
       "      <td>8.0</td>\n",
       "      <td>57</td>\n",
       "    </tr>\n",
       "    <tr>\n",
       "      <th>11647</th>\n",
       "      <td>22.0</td>\n",
       "      <td>1.0</td>\n",
       "      <td>1</td>\n",
       "      <td>0.0</td>\n",
       "      <td>1.0</td>\n",
       "      <td>9</td>\n",
       "    </tr>\n",
       "    <tr>\n",
       "      <th>...</th>\n",
       "      <td>...</td>\n",
       "      <td>...</td>\n",
       "      <td>...</td>\n",
       "      <td>...</td>\n",
       "      <td>...</td>\n",
       "      <td>...</td>\n",
       "    </tr>\n",
       "    <tr>\n",
       "      <th>6526</th>\n",
       "      <td>23.0</td>\n",
       "      <td>85.0</td>\n",
       "      <td>15</td>\n",
       "      <td>11.0</td>\n",
       "      <td>20.0</td>\n",
       "      <td>104</td>\n",
       "    </tr>\n",
       "    <tr>\n",
       "      <th>13010</th>\n",
       "      <td>30.0</td>\n",
       "      <td>466.0</td>\n",
       "      <td>117</td>\n",
       "      <td>101.0</td>\n",
       "      <td>84.0</td>\n",
       "      <td>593</td>\n",
       "    </tr>\n",
       "    <tr>\n",
       "      <th>13421</th>\n",
       "      <td>32.0</td>\n",
       "      <td>750.0</td>\n",
       "      <td>763</td>\n",
       "      <td>89.0</td>\n",
       "      <td>23.0</td>\n",
       "      <td>1445</td>\n",
       "    </tr>\n",
       "    <tr>\n",
       "      <th>5695</th>\n",
       "      <td>26.0</td>\n",
       "      <td>47.0</td>\n",
       "      <td>32</td>\n",
       "      <td>17.0</td>\n",
       "      <td>4.0</td>\n",
       "      <td>184</td>\n",
       "    </tr>\n",
       "    <tr>\n",
       "      <th>13549</th>\n",
       "      <td>25.0</td>\n",
       "      <td>30.0</td>\n",
       "      <td>21</td>\n",
       "      <td>8.0</td>\n",
       "      <td>1.0</td>\n",
       "      <td>89</td>\n",
       "    </tr>\n",
       "  </tbody>\n",
       "</table>\n",
       "<p>157 rows × 6 columns</p>\n",
       "</div>"
      ],
      "text/plain": [
       "       PLAYER_AGE    REB  AST    STL   BLK   PTS\n",
       "12087        27.0  405.0  250   64.0  37.0  1196\n",
       "8710         26.0   77.0   52   15.0   2.0   245\n",
       "13394        23.0  312.0   82   44.0   7.0   789\n",
       "9377         23.0   24.0    8    5.0   8.0    57\n",
       "11647        22.0    1.0    1    0.0   1.0     9\n",
       "...           ...    ...  ...    ...   ...   ...\n",
       "6526         23.0   85.0   15   11.0  20.0   104\n",
       "13010        30.0  466.0  117  101.0  84.0   593\n",
       "13421        32.0  750.0  763   89.0  23.0  1445\n",
       "5695         26.0   47.0   32   17.0   4.0   184\n",
       "13549        25.0   30.0   21    8.0   1.0    89\n",
       "\n",
       "[157 rows x 6 columns]"
      ]
     },
     "execution_count": 95,
     "metadata": {},
     "output_type": "execute_result"
    }
   ],
   "source": [
    "seasons['2020-21']['X_test']"
   ]
  },
  {
   "cell_type": "code",
   "execution_count": 107,
   "id": "9ccfbf00-aeb4-4d96-a6dd-ca17505f032d",
   "metadata": {},
   "outputs": [
    {
     "data": {
      "text/plain": [
       "{'1990-91': LinearRegression(),\n",
       " '1991-92': LinearRegression(),\n",
       " '1992-93': LinearRegression(),\n",
       " '1993-94': LinearRegression(),\n",
       " '1994-95': LinearRegression(),\n",
       " '1995-96': LinearRegression(),\n",
       " '1996-97': LinearRegression(),\n",
       " '1997-98': LinearRegression(),\n",
       " '1998-99': LinearRegression(),\n",
       " '1999-00': LinearRegression(),\n",
       " '2000-01': LinearRegression(),\n",
       " '2016-17': LinearRegression(),\n",
       " '2009-10': LinearRegression(),\n",
       " '2010-11': LinearRegression(),\n",
       " '2011-12': LinearRegression(),\n",
       " '2012-13': LinearRegression(),\n",
       " '2013-14': LinearRegression(),\n",
       " '2014-15': LinearRegression(),\n",
       " '2007-08': LinearRegression(),\n",
       " '2008-09': LinearRegression(),\n",
       " '2015-16': LinearRegression(),\n",
       " '2017-18': LinearRegression(),\n",
       " '2018-19': LinearRegression(),\n",
       " '2019-20': LinearRegression(),\n",
       " '2020-21': LinearRegression(),\n",
       " '2021-22': LinearRegression(),\n",
       " '2001-02': LinearRegression(),\n",
       " '2002-03': LinearRegression(),\n",
       " '2003-04': LinearRegression(),\n",
       " '2004-05': LinearRegression(),\n",
       " '2005-06': LinearRegression(),\n",
       " '2006-07': LinearRegression()}"
      ]
     },
     "execution_count": 107,
     "metadata": {},
     "output_type": "execute_result"
    }
   ],
   "source": [
    "import joblib\n",
    "\n",
    "models = { season: data['model'] for season, data in seasons.items() }\n",
    "models\n",
    "# joblib.dump(models, '../data/models.joblib')"
   ]
  },
  {
   "cell_type": "code",
   "execution_count": 100,
   "id": "3926a4c2-c170-4c6f-b7da-6cf443e99fde",
   "metadata": {},
   "outputs": [
    {
     "data": {
      "text/plain": [
       "[{'SEASON_ID': '2019-20',\n",
       "  'PLAYER_AGE': 27,\n",
       "  'REB': 321,\n",
       "  'AST': 50,\n",
       "  'STL': 23,\n",
       "  'BLK': 48,\n",
       "  'PTS': 438},\n",
       " {'SEASON_ID': '2020-21',\n",
       "  'PLAYER_AGE': 27,\n",
       "  'REB': 405,\n",
       "  'AST': 250,\n",
       "  'STL': 64,\n",
       "  'BLK': 37,\n",
       "  'PTS': 1196},\n",
       " {'SEASON_ID': '2020-21',\n",
       "  'PLAYER_AGE': 26,\n",
       "  'REB': 77,\n",
       "  'AST': 52,\n",
       "  'STL': 15,\n",
       "  'BLK': 2,\n",
       "  'PTS': 245,\n",
       "  'BLA': 123}]"
      ]
     },
     "execution_count": 100,
     "metadata": {},
     "output_type": "execute_result"
    }
   ],
   "source": [
    "payload = [\n",
    "    {'SEASON_ID': '2019-20', 'PLAYER_AGE': 27, 'REB': 321, 'AST': 50, 'STL': 23, 'BLK': 48, 'PTS': 438},\n",
    "    {'SEASON_ID': '2020-21', 'PLAYER_AGE': 27, 'REB': 405, 'AST': 250, 'STL': 64, 'BLK': 37, 'PTS': 1196},\n",
    "    {'SEASON_ID': '2020-21', 'PLAYER_AGE': 26, 'REB': 77, 'AST': 52, 'STL': 15, 'BLK': 2, 'PTS': 245, 'BLA': 123}\n",
    "]\n",
    "payload"
   ]
  },
  {
   "cell_type": "code",
   "execution_count": 117,
   "id": "d082594c-4cc8-4183-9650-c4b342e26bb3",
   "metadata": {},
   "outputs": [
    {
     "data": {
      "text/plain": [
       "array(['PLAYER_AGE', 'REB', 'AST', 'STL', 'BLK', 'PTS'], dtype=object)"
      ]
     },
     "execution_count": 117,
     "metadata": {},
     "output_type": "execute_result"
    }
   ],
   "source": [
    "features = seasons['2019-20']['model'].feature_names_in_\n",
    "features"
   ]
  },
  {
   "cell_type": "code",
   "execution_count": 118,
   "id": "9564614f-d2d4-4533-adaf-8d6e21424c57",
   "metadata": {},
   "outputs": [],
   "source": [
    "data = pd.json_normalize(payload).fillna(0)"
   ]
  },
  {
   "cell_type": "code",
   "execution_count": 119,
   "id": "6c9b62b0-9e8a-43bb-b473-06985da82ad7",
   "metadata": {},
   "outputs": [
    {
     "data": {
      "text/html": [
       "<div>\n",
       "<style scoped>\n",
       "    .dataframe tbody tr th:only-of-type {\n",
       "        vertical-align: middle;\n",
       "    }\n",
       "\n",
       "    .dataframe tbody tr th {\n",
       "        vertical-align: top;\n",
       "    }\n",
       "\n",
       "    .dataframe thead th {\n",
       "        text-align: right;\n",
       "    }\n",
       "</style>\n",
       "<table border=\"1\" class=\"dataframe\">\n",
       "  <thead>\n",
       "    <tr style=\"text-align: right;\">\n",
       "      <th></th>\n",
       "      <th>SEASON_ID</th>\n",
       "      <th>PLAYER_AGE</th>\n",
       "      <th>REB</th>\n",
       "      <th>AST</th>\n",
       "      <th>STL</th>\n",
       "      <th>BLK</th>\n",
       "      <th>PTS</th>\n",
       "      <th>BLA</th>\n",
       "    </tr>\n",
       "  </thead>\n",
       "  <tbody>\n",
       "    <tr>\n",
       "      <th>0</th>\n",
       "      <td>2019-20</td>\n",
       "      <td>27</td>\n",
       "      <td>321</td>\n",
       "      <td>50</td>\n",
       "      <td>23</td>\n",
       "      <td>48</td>\n",
       "      <td>438</td>\n",
       "      <td>0.0</td>\n",
       "    </tr>\n",
       "    <tr>\n",
       "      <th>1</th>\n",
       "      <td>2020-21</td>\n",
       "      <td>27</td>\n",
       "      <td>405</td>\n",
       "      <td>250</td>\n",
       "      <td>64</td>\n",
       "      <td>37</td>\n",
       "      <td>1196</td>\n",
       "      <td>0.0</td>\n",
       "    </tr>\n",
       "    <tr>\n",
       "      <th>2</th>\n",
       "      <td>2020-21</td>\n",
       "      <td>26</td>\n",
       "      <td>77</td>\n",
       "      <td>52</td>\n",
       "      <td>15</td>\n",
       "      <td>2</td>\n",
       "      <td>245</td>\n",
       "      <td>123.0</td>\n",
       "    </tr>\n",
       "  </tbody>\n",
       "</table>\n",
       "</div>"
      ],
      "text/plain": [
       "  SEASON_ID  PLAYER_AGE  REB  AST  STL  BLK   PTS    BLA\n",
       "0   2019-20          27  321   50   23   48   438    0.0\n",
       "1   2020-21          27  405  250   64   37  1196    0.0\n",
       "2   2020-21          26   77   52   15    2   245  123.0"
      ]
     },
     "execution_count": 119,
     "metadata": {},
     "output_type": "execute_result"
    }
   ],
   "source": [
    "data"
   ]
  },
  {
   "cell_type": "code",
   "execution_count": 120,
   "id": "37d4f89e-6d44-4db9-9808-100fb11701e5",
   "metadata": {},
   "outputs": [
    {
     "data": {
      "text/plain": [
       "array(['2019-20', '2020-21'], dtype=object)"
      ]
     },
     "execution_count": 120,
     "metadata": {},
     "output_type": "execute_result"
    }
   ],
   "source": [
    "seasons_keys = data['SEASON_ID'].unique()\n",
    "seasons_keys"
   ]
  },
  {
   "cell_type": "code",
   "execution_count": 121,
   "id": "e3c6252b-55a2-42f0-8d81-f2e0feb04154",
   "metadata": {},
   "outputs": [
    {
     "data": {
      "text/plain": [
       "[8807224.466083797, 17676268.24168354, 4834905.879901029]"
      ]
     },
     "execution_count": 121,
     "metadata": {},
     "output_type": "execute_result"
    }
   ],
   "source": [
    "import numpy as np\n",
    "teste = []\n",
    "for season in seasons_keys:\n",
    "    df = data[data['SEASON_ID'] == season]\n",
    "    pred = models[season].predict(df[features])\n",
    "    teste = np.append(teste, pred)\n",
    "list(teste)"
   ]
  },
  {
   "cell_type": "code",
   "execution_count": 127,
   "id": "fbaa3cee-ca22-4647-90ef-d5c5bdd609a5",
   "metadata": {},
   "outputs": [
    {
     "data": {
      "text/plain": [
       "['asd', 'asdf', 6]"
      ]
     },
     "execution_count": 127,
     "metadata": {},
     "output_type": "execute_result"
    }
   ],
   "source": [
    "['asd', 'asdf'] + [6]"
   ]
  },
  {
   "cell_type": "code",
   "execution_count": null,
   "id": "9bc42991-8d9c-4b69-b9a7-2170c57fcad5",
   "metadata": {},
   "outputs": [],
   "source": []
  },
  {
   "cell_type": "code",
   "execution_count": 171,
   "id": "f5f59dd6-7791-4cc0-9076-4b4006ca2a20",
   "metadata": {},
   "outputs": [],
   "source": [
    "import pandas as pd\n",
    "import pickle\n",
    "file = open('../data/players_stats.pkl', 'rb')\n",
    "players = pickle.load(file)\n",
    "file.close()"
   ]
  },
  {
   "cell_type": "code",
   "execution_count": 179,
   "id": "7d898f7d-7b48-44d2-a4c2-e06a12ddc24c",
   "metadata": {},
   "outputs": [
    {
     "data": {
      "text/plain": [
       "'Alaa Abdelnaby'"
      ]
     },
     "execution_count": 179,
     "metadata": {},
     "output_type": "execute_result"
    }
   ],
   "source": [
    "players[0]['info'].common_player_info.get_data_frame()['DISPLAY_FIRST_LAST'][0]"
   ]
  },
  {
   "cell_type": "code",
   "execution_count": null,
   "id": "91f37b9f-c8ab-49c0-95e4-00c22ff956b9",
   "metadata": {},
   "outputs": [],
   "source": []
  },
  {
   "cell_type": "code",
   "execution_count": 187,
   "id": "59720eee-be70-4cd0-8d63-acf8b09b06af",
   "metadata": {},
   "outputs": [],
   "source": [
    "ret = []\n",
    "for player in players:\n",
    "    p = {\n",
    "        'id': player['id'],\n",
    "        'name': players[0]['info'].common_player_info.get_data_frame()['DISPLAY_FIRST_LAST'][0],\n",
    "        'seasons': player['career'].season_totals_regular_season.get_data_frame()['SEASON_ID'].values.tolist()\n",
    "    }\n",
    "    ret.append(p)"
   ]
  },
  {
   "cell_type": "code",
   "execution_count": 1,
   "id": "a777d8d0-9574-4607-9673-c89353d30b25",
   "metadata": {},
   "outputs": [],
   "source": [
    "x = \"1993-94,1992-93,1991-92,1990-91,1994-95,1995-96,1996-97\""
   ]
  },
  {
   "cell_type": "code",
   "execution_count": 13,
   "id": "fe325026-021a-4038-9b14-54b219d5e8fb",
   "metadata": {},
   "outputs": [
    {
     "data": {
      "text/plain": [
       "['1990-91', '1991-92', '1992-93', '1993-94', '1994-95', '1995-96', '1996-97']"
      ]
     },
     "execution_count": 13,
     "metadata": {},
     "output_type": "execute_result"
    }
   ],
   "source": [
    "y = sorted(x.split(','))\n",
    "y"
   ]
  },
  {
   "cell_type": "code",
   "execution_count": 12,
   "id": "aae3d468-ce79-47b0-a81a-36d308029e88",
   "metadata": {},
   "outputs": [
    {
     "data": {
      "text/plain": [
       "['1990-91', '1991-92', '1992-93', '1993-94', '1994-95', '1995-96', '1996-97']"
      ]
     },
     "execution_count": 12,
     "metadata": {},
     "output_type": "execute_result"
    }
   ],
   "source": [
    "sorted(y)"
   ]
  },
  {
   "cell_type": "code",
   "execution_count": 11,
   "id": "5f93ba83-68a0-4871-b0f1-2b853b5f7925",
   "metadata": {},
   "outputs": [
    {
     "data": {
      "text/plain": [
       "['1990-91', '1991-92', '1992-93', '1993-94', '1994-95', '1995-96', '1996-97']"
      ]
     },
     "execution_count": 11,
     "metadata": {},
     "output_type": "execute_result"
    }
   ],
   "source": [
    "y"
   ]
  },
  {
   "cell_type": "code",
   "execution_count": null,
   "id": "b9057e81-b214-4d04-a459-6b209e2893db",
   "metadata": {},
   "outputs": [],
   "source": []
  }
 ],
 "metadata": {
  "kernelspec": {
   "display_name": "Python 3 (ipykernel)",
   "language": "python",
   "name": "python3"
  },
  "language_info": {
   "codemirror_mode": {
    "name": "ipython",
    "version": 3
   },
   "file_extension": ".py",
   "mimetype": "text/x-python",
   "name": "python",
   "nbconvert_exporter": "python",
   "pygments_lexer": "ipython3",
   "version": "3.9.7"
  }
 },
 "nbformat": 4,
 "nbformat_minor": 5
}
