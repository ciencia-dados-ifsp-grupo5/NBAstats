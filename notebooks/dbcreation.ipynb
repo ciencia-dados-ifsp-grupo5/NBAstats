{
 "cells": [
  {
   "cell_type": "markdown",
   "id": "5c62320e-f77e-4328-b9f4-da80fd0d16ba",
   "metadata": {},
   "source": [
    "## 0. Config"
   ]
  },
  {
   "cell_type": "code",
   "execution_count": 5,
   "id": "08321ee9-f915-42c7-9eca-6209821b4534",
   "metadata": {},
   "outputs": [
    {
     "name": "stdout",
     "output_type": "stream",
     "text": [
      "Collecting mysql-connector-python\n",
      "  Using cached mysql_connector_python-8.0.27-py2.py3-none-any.whl (341 kB)\n",
      "Requirement already satisfied: python-dotenv in /opt/conda/lib/python3.9/site-packages (0.19.2)\n",
      "Requirement already satisfied: protobuf>=3.0.0 in /opt/conda/lib/python3.9/site-packages (from mysql-connector-python) (3.19.1)\n",
      "Installing collected packages: mysql-connector-python\n",
      "Successfully installed mysql-connector-python-8.0.27\n"
     ]
    }
   ],
   "source": [
    "!pip install mysql-connector-python python-dotenv"
   ]
  },
  {
   "cell_type": "code",
   "execution_count": 3,
   "id": "cbca4e0a-bb21-4542-81f8-04014288ec9d",
   "metadata": {},
   "outputs": [],
   "source": [
    "import os\n",
    "from dotenv import load_dotenv\n",
    "\n",
    "# Load config values from .env file\n",
    "load_dotenv()\n",
    "\n",
    "DB_CONFIG = {\n",
    "    'user': os.getenv('DB_USER'),\n",
    "    'password': os.getenv('DB_PASS'),\n",
    "    'host': os.getenv('DB_HOST'),\n",
    "    'port': 3306,\n",
    "    'schema': 'player'\n",
    "}"
   ]
  },
  {
   "cell_type": "markdown",
   "id": "15508f53-13be-44d3-a321-448975ac4e0c",
   "metadata": {},
   "source": [
    "## 2. Imports and config loading"
   ]
  },
  {
   "cell_type": "code",
   "execution_count": 6,
   "id": "5ec5ffaf-98d5-4a72-8f59-74cd9fd9951f",
   "metadata": {},
   "outputs": [],
   "source": [
    "import mysql.connector\n",
    "import pandas as pd\n",
    "from sqlalchemy import create_engine"
   ]
  },
  {
   "cell_type": "markdown",
   "id": "afe776d1-1ea6-455d-bd06-7619a2c549d4",
   "metadata": {},
   "source": [
    "## 3. Executing"
   ]
  },
  {
   "cell_type": "code",
   "execution_count": 7,
   "id": "4b76e549-4ef8-4f0b-a46a-e9e2e35afc86",
   "metadata": {},
   "outputs": [
    {
     "name": "stdout",
     "output_type": "stream",
     "text": [
      "2021-12-01 02:14:58,379 INFO sqlalchemy.engine.Engine SHOW VARIABLES LIKE 'sql_mode'\n",
      "2021-12-01 02:14:58,384 INFO sqlalchemy.engine.Engine [raw sql] {}\n",
      "2021-12-01 02:14:58,427 INFO sqlalchemy.engine.Engine SHOW VARIABLES LIKE 'lower_case_table_names'\n",
      "2021-12-01 02:14:58,431 INFO sqlalchemy.engine.Engine [generated in 0.02624s] {}\n",
      "2021-12-01 02:14:58,533 INFO sqlalchemy.engine.Engine SELECT DATABASE()\n",
      "2021-12-01 02:14:58,539 INFO sqlalchemy.engine.Engine [raw sql] {}\n",
      "2021-12-01 02:14:58,681 INFO sqlalchemy.engine.Engine SELECT COUNT(*) FROM information_schema.tables WHERE table_schema = %(table_schema)s AND table_name = %(table_name)s\n",
      "2021-12-01 02:14:58,688 INFO sqlalchemy.engine.Engine [generated in 0.03232s] {'table_schema': 'player', 'table_name': 'player'}\n",
      "2021-12-01 02:14:58,764 INFO sqlalchemy.engine.Engine SELECT COUNT(*) FROM information_schema.tables WHERE table_schema = %(table_schema)s AND table_name = %(table_name)s\n",
      "2021-12-01 02:14:58,770 INFO sqlalchemy.engine.Engine [cached since 0.1136s ago] {'table_schema': 'player', 'table_name': 'player'}\n",
      "2021-12-01 02:14:58,833 INFO sqlalchemy.engine.Engine SHOW FULL TABLES FROM `player`\n",
      "2021-12-01 02:14:58,837 INFO sqlalchemy.engine.Engine [raw sql] {}\n",
      "2021-12-01 02:14:58,888 INFO sqlalchemy.engine.Engine SHOW CREATE TABLE `player`\n",
      "2021-12-01 02:14:58,892 INFO sqlalchemy.engine.Engine [raw sql] {}\n",
      "2021-12-01 02:14:58,942 INFO sqlalchemy.engine.Engine BEGIN (implicit)\n",
      "2021-12-01 02:14:58,971 INFO sqlalchemy.engine.Engine \n",
      "DROP TABLE player\n",
      "2021-12-01 02:14:58,976 INFO sqlalchemy.engine.Engine [no key 0.02750s] {}\n",
      "2021-12-01 02:14:59,107 INFO sqlalchemy.engine.Engine COMMIT\n",
      "2021-12-01 02:14:59,136 INFO sqlalchemy.engine.Engine BEGIN (implicit)\n",
      "2021-12-01 02:14:59,170 INFO sqlalchemy.engine.Engine \n",
      "CREATE TABLE player (\n",
      "\t`PLAYER_NAME` TEXT, \n",
      "\t`SEASON_ID` BIGINT, \n",
      "\t`PLAYER_ID` BIGINT, \n",
      "\t`LEAGUE_ID` BIGINT, \n",
      "\t`TEAM_ID` BIGINT, \n",
      "\t`TEAM_ABBREVIATION` TEXT, \n",
      "\t`PLAYER_AGE` FLOAT(53), \n",
      "\t`GP` BIGINT, \n",
      "\t`GS` FLOAT(53), \n",
      "\t`MIN` FLOAT(53), \n",
      "\t`FGM` BIGINT, \n",
      "\t`FGA` BIGINT, \n",
      "\t`FG_PCT` FLOAT(53), \n",
      "\t`FG3M` FLOAT(53), \n",
      "\t`FG3A` FLOAT(53), \n",
      "\t`FG3_PCT` FLOAT(53), \n",
      "\t`FTM` BIGINT, \n",
      "\t`FTA` BIGINT, \n",
      "\t`FT_PCT` FLOAT(53), \n",
      "\t`OREB` FLOAT(53), \n",
      "\t`DREB` FLOAT(53), \n",
      "\t`REB` FLOAT(53), \n",
      "\t`AST` BIGINT, \n",
      "\t`STL` FLOAT(53), \n",
      "\t`BLK` FLOAT(53), \n",
      "\t`TOV` FLOAT(53), \n",
      "\t`PF` BIGINT, \n",
      "\t`PTS` BIGINT, \n",
      "\t`SALARY_NOMINAL` FLOAT(53), \n",
      "\t`SALARY_REAL` FLOAT(53)\n",
      ")\n",
      "\n",
      "\n",
      "2021-12-01 02:14:59,177 INFO sqlalchemy.engine.Engine [no key 0.03205s] {}\n",
      "2021-12-01 02:14:59,279 INFO sqlalchemy.engine.Engine COMMIT\n",
      "2021-12-01 02:14:59,361 INFO sqlalchemy.engine.Engine BEGIN (implicit)\n",
      "2021-12-01 02:14:59,570 INFO sqlalchemy.engine.Engine INSERT INTO player (`PLAYER_NAME`, `SEASON_ID`, `PLAYER_ID`, `LEAGUE_ID`, `TEAM_ID`, `TEAM_ABBREVIATION`, `PLAYER_AGE`, `GP`, `GS`, `MIN`, `FGM`, `FGA`, `FG_PCT`, `FG3M`, `FG3A`, `FG3_PCT`, `FTM`, `FTA`, `FT_PCT`, `OREB`, `DREB`, `REB`, `AST`, `STL`, `BLK`, `TOV`, `PF`, `PTS`, `SALARY_NOMINAL`, `SALARY_REAL`) VALUES (%(PLAYER_NAME)s, %(SEASON_ID)s, %(PLAYER_ID)s, %(LEAGUE_ID)s, %(TEAM_ID)s, %(TEAM_ABBREVIATION)s, %(PLAYER_AGE)s, %(GP)s, %(GS)s, %(MIN)s, %(FGM)s, %(FGA)s, %(FG_PCT)s, %(FG3M)s, %(FG3A)s, %(FG3_PCT)s, %(FTM)s, %(FTA)s, %(FT_PCT)s, %(OREB)s, %(DREB)s, %(REB)s, %(AST)s, %(STL)s, %(BLK)s, %(TOV)s, %(PF)s, %(PTS)s, %(SALARY_NOMINAL)s, %(SALARY_REAL)s)\n",
      "2021-12-01 02:14:59,572 INFO sqlalchemy.engine.Engine [generated in 0.16660s] ({'PLAYER_NAME': 'A.C. Green', 'SEASON_ID': 1991, 'PLAYER_ID': 920, 'LEAGUE_ID': 0, 'TEAM_ID': 1610612747, 'TEAM_ABBREVIATION': 'LAL', 'PLAYER_AGE': 27.0, 'GP': 82, 'GS': 21.0, 'MIN': 2164.0, 'FGM': 258, 'FGA': 542, 'FG_PCT': 0.476, 'FG3M': 11.0, 'FG3A': 55.0, 'FG3_PCT': 0.2, 'FTM': 223, 'FTA': 302, 'FT_PCT': 0.738, 'OREB': 201.0, 'DREB': 315.0, 'REB': 516.0, 'AST': 71, 'STL': 59.0, 'BLK': 23.0, 'TOV': 99.0, 'PF': 117, 'PTS': 750, 'SALARY_NOMINAL': 1750000.0, 'SALARY_REAL': 3473015.0}, {'PLAYER_NAME': 'A.C. Green', 'SEASON_ID': 1992, 'PLAYER_ID': 920, 'LEAGUE_ID': 0, 'TEAM_ID': 1610612747, 'TEAM_ABBREVIATION': 'LAL', 'PLAYER_AGE': 28.0, 'GP': 82, 'GS': 53.0, 'MIN': 2902.0, 'FGM': 382, 'FGA': 803, 'FG_PCT': 0.476, 'FG3M': 12.0, 'FG3A': 56.0, 'FG3_PCT': 0.214, 'FTM': 340, 'FTA': 457, 'FT_PCT': 0.744, 'OREB': 306.0, 'DREB': 456.0, 'REB': 762.0, 'AST': 117, 'STL': 91.0, 'BLK': 36.0, 'TOV': 111.0, 'PF': 141, 'PTS': 1116, 'SALARY_NOMINAL': 1750000.0, 'SALARY_REAL': 3317240.0}, {'PLAYER_NAME': 'A.C. Green', 'SEASON_ID': 1993, 'PLAYER_ID': 920, 'LEAGUE_ID': 0, 'TEAM_ID': 1610612747, 'TEAM_ABBREVIATION': 'LAL', 'PLAYER_AGE': 29.0, 'GP': 82, 'GS': 55.0, 'MIN': 2819.0, 'FGM': 379, 'FGA': 706, 'FG_PCT': 0.537, 'FG3M': 16.0, 'FG3A': 46.0, 'FG3_PCT': 0.348, 'FTM': 277, 'FTA': 375, 'FT_PCT': 0.739, 'OREB': 287.0, 'DREB': 424.0, 'REB': 711.0, 'AST': 116, 'STL': 88.0, 'BLK': 39.0, 'TOV': 116.0, 'PF': 149, 'PTS': 1051, 'SALARY_NOMINAL': 1750000.0, 'SALARY_REAL': 3217865.0}, {'PLAYER_NAME': 'A.C. Green', 'SEASON_ID': 1994, 'PLAYER_ID': 920, 'LEAGUE_ID': 0, 'TEAM_ID': 1610612756, 'TEAM_ABBREVIATION': 'PHX', 'PLAYER_AGE': 30.0, 'GP': 82, 'GS': 55.0, 'MIN': 2825.0, 'FGM': 465, 'FGA': 926, 'FG_PCT': 0.502, 'FG3M': 8.0, 'FG3A': 35.0, 'FG3_PCT': 0.229, 'FTM': 266, 'FTA': 362, 'FT_PCT': 0.735, 'OREB': 275.0, 'DREB': 478.0, 'REB': 753.0, 'AST': 137, 'STL': 70.0, 'BLK': 38.0, 'TOV': 100.0, 'PF': 142, 'PTS': 1204, 'SALARY_NOMINAL': 1885000.0, 'SALARY_REAL': 3365286.0}, {'PLAYER_NAME': 'A.C. Green', 'SEASON_ID': 1995, 'PLAYER_ID': 920, 'LEAGUE_ID': 0, 'TEAM_ID': 1610612756, 'TEAM_ABBREVIATION': 'PHX', 'PLAYER_AGE': 31.0, 'GP': 82, 'GS': 52.0, 'MIN': 2687.0, 'FGM': 311, 'FGA': 617, 'FG_PCT': 0.504, 'FG3M': 43.0, 'FG3A': 127.0, 'FG3_PCT': 0.339, 'FTM': 251, 'FTA': 343, 'FT_PCT': 0.732, 'OREB': 194.0, 'DREB': 475.0, 'REB': 669.0, 'AST': 127, 'STL': 55.0, 'BLK': 31.0, 'TOV': 114.0, 'PF': 146, 'PTS': 916, 'SALARY_NOMINAL': 6472600.0, 'SALARY_REAL': 11274438.0}, {'PLAYER_NAME': 'A.C. Green', 'SEASON_ID': 1996, 'PLAYER_ID': 920, 'LEAGUE_ID': 0, 'TEAM_ID': 1610612756, 'TEAM_ABBREVIATION': 'PHX', 'PLAYER_AGE': 32.0, 'GP': 82, 'GS': 36.0, 'MIN': 2113.0, 'FGM': 215, 'FGA': 444, 'FG_PCT': 0.484, 'FG3M': 14.0, 'FG3A': 52.0, 'FG3_PCT': 0.269, 'FTM': 168, 'FTA': 237, 'FT_PCT': 0.709, 'OREB': 166.0, 'DREB': 388.0, 'REB': 554.0, 'AST': 72, 'STL': 45.0, 'BLK': 23.0, 'TOV': 79.0, 'PF': 141, 'PTS': 612, 'SALARY_NOMINAL': 6473000.0, 'SALARY_REAL': 10942426.0}, {'PLAYER_NAME': 'A.C. Green', 'SEASON_ID': 1997, 'PLAYER_ID': 920, 'LEAGUE_ID': 0, 'TEAM_ID': 1610612756, 'TEAM_ABBREVIATION': 'PHX', 'PLAYER_AGE': 33.0, 'GP': 27, 'GS': 19.0, 'MIN': 551.0, 'FGM': 61, 'FGA': 128, 'FG_PCT': 0.477, 'FG3M': 0.0, 'FG3A': 3.0, 'FG3_PCT': 0.0, 'FTM': 31, 'FTA': 48, 'FT_PCT': 0.646, 'OREB': 33.0, 'DREB': 105.0, 'REB': 138.0, 'AST': 17, 'STL': 18.0, 'BLK': 1.0, 'TOV': 20.0, 'PF': 34, 'PTS': 153, 'SALARY_NOMINAL': 4851000.0, 'SALARY_REAL': 7980684.0}, {'PLAYER_NAME': 'A.C. Green', 'SEASON_ID': 1997, 'PLAYER_ID': 920, 'LEAGUE_ID': 0, 'TEAM_ID': 0, 'TEAM_ABBREVIATION': 'TOT', 'PLAYER_AGE': 33.0, 'GP': 83, 'GS': 73.0, 'MIN': 2494.0, 'FGM': 234, 'FGA': 484, 'FG_PCT': 0.483, 'FG3M': 1.0, 'FG3A': 20.0, 'FG3_PCT': 0.05, 'FTM': 128, 'FTA': 197, 'FT_PCT': 0.65, 'OREB': 222.0, 'DREB': 434.0, 'REB': 656.0, 'AST': 69, 'STL': 70.0, 'BLK': 16.0, 'TOV': 74.0, 'PF': 145, 'PTS': 597, 'SALARY_NOMINAL': 4851000.0, 'SALARY_REAL': 7980684.0}  ... displaying 10 of 14374 total bound parameter sets ...  {'PLAYER_NAME': 'Zydrunas Ilgauskas', 'SEASON_ID': 2011, 'PLAYER_ID': 980, 'LEAGUE_ID': 0, 'TEAM_ID': 1610612748, 'TEAM_ABBREVIATION': 'MIA', 'PLAYER_AGE': 36.0, 'GP': 72, 'GS': 51.0, 'MIN': 1145.0, 'FGM': 162, 'FGA': 319, 'FG_PCT': 0.508, 'FG3M': 0.0, 'FG3A': 1.0, 'FG3_PCT': 0.0, 'FTM': 36, 'FTA': 46, 'FT_PCT': 0.783, 'OREB': 108.0, 'DREB': 179.0, 'REB': 287.0, 'AST': 26, 'STL': 23.0, 'BLK': 58.0, 'TOV': 52.0, 'PF': 185, 'PTS': 360, 'SALARY_NOMINAL': 1352181.0, 'SALARY_REAL': 1599285.0}, {'PLAYER_NAME': 'Zylan Cheatham', 'SEASON_ID': 2020, 'PLAYER_ID': 1629597, 'LEAGUE_ID': 0, 'TEAM_ID': 1610612740, 'TEAM_ABBREVIATION': 'NOP', 'PLAYER_AGE': 24.0, 'GP': 4, 'GS': 0.0, 'MIN': 51.0, 'FGM': 6, 'FGA': 9, 'FG_PCT': 0.667, 'FG3M': 0.0, 'FG3A': 1.0, 'FG3_PCT': 0.0, 'FTM': 0, 'FTA': 0, 'FT_PCT': 0.0, 'OREB': 3.0, 'DREB': 6.0, 'REB': 9.0, 'AST': 3, 'STL': 1.0, 'BLK': 1.0, 'TOV': 4.0, 'PF': 10, 'PTS': 12, 'SALARY_NOMINAL': 79568.0, 'SALARY_REAL': 80081.0})\n",
      "2021-12-01 02:15:02,502 INFO sqlalchemy.engine.Engine COMMIT\n"
     ]
    }
   ],
   "source": [
    "player_df = pd.read_csv('../data/rds_data.csv')\n",
    "\n",
    "conn_url = f'mysql+mysqlconnector://{DB_CONFIG[\"user\"]}:{DB_CONFIG[\"password\"]}@{DB_CONFIG[\"host\"]}:{DB_CONFIG[\"port\"]}/{DB_CONFIG[\"schema\"]}'\n",
    "\n",
    "engine = create_engine(conn_url, echo=True)\n",
    "player_df.to_sql(name='player', con=engine, if_exists='replace', index=False)"
   ]
  }
 ],
 "metadata": {
  "kernelspec": {
   "display_name": "Python 3 (ipykernel)",
   "language": "python",
   "name": "python3"
  },
  "language_info": {
   "codemirror_mode": {
    "name": "ipython",
    "version": 3
   },
   "file_extension": ".py",
   "mimetype": "text/x-python",
   "name": "python",
   "nbconvert_exporter": "python",
   "pygments_lexer": "ipython3",
   "version": "3.9.7"
  }
 },
 "nbformat": 4,
 "nbformat_minor": 5
}
