{
 "cells": [
  {
   "cell_type": "markdown",
   "id": "422fbc4b",
   "metadata": {},
   "source": [
    "# NBA Stats\n",
    "\n",
    "Projeto Interdisciplinar\n",
    "- **D2APR - Aprendizado de Máquina e Reconhecimento de Padrões**\n",
    "- **D2TEC - Tecnologias de Big Data**\n",
    "\n",
    "Especialização em Ciência de Dados - IFSP Campinas\n",
    "\n",
    "Alunos\n",
    "- Daniel Vargas Shimamoto\n",
    "- Diego Machado de Assis"
   ]
  },
  {
   "cell_type": "markdown",
   "id": "f993f9bb-3e45-4d36-a079-66689fd99635",
   "metadata": {},
   "source": [
    "## 1. Informações Gerais"
   ]
  },
  {
   "cell_type": "markdown",
   "id": "a35d3d0b-81aa-4838-bbed-cd58bc79c067",
   "metadata": {},
   "source": [
    "### 1.1. Contexto do problema\n",
    "\n",
    "A *National Basketball Association* (NBA) é uma liga profissional de basquete da América do Norte. A liga é composta por 30 times (29 nos Estados Unidos e 1 no Canadá) e é uma das quatro principais ligas esportivas profissionais dos Estados Unidos e Canadá. É a principal liga profissional de basquete masculino do mundo$^{[1]}$.\n",
    "\n",
    "A NBA foi fundada na cidade de Nova York em 6 de junho de 1946, como *Basketball Association of America* (BAA). Ela mudou seu nome para *National Basketball Association* em 3 de agosto de 1949, após a fusão com a concorrente *National Basketball League* (NBL). No formato atual, a temporada regular da NBA vai de outubro a abril, com cada equipe jogando 82 jogos. As equipes estão dividas em duas conferências e as 8 melhores classificadas de cada conferência disputam a pós-temporada (playoff) em partidas melhores de 7 jogos. Os campeões de cada conferência se enfrentam na final, pelo titulo da temporada, geralmente no mês de junho. Em 2020, os jogadores da NBA foram os atletas mais bem pagos do mundo em média de salário anual por jogador $^{[1]}$.\n",
    "\n",
    "Na América do Norte, a NBA é a **terceira liga esportiva profissional mais rica**, depois da *National Football League* (NFL) e da *Major League Baseball* (MLB) em receita, e está entre as quatro maiores do mundo $^{[1]}$. Em 2021 a NBA completou 75 anos de fundação e diversas homenagens a jogadores e partidas históricas foram feitas neste período.\n",
    "\n",
    "A NBA possui um histórico de diversas estatísticas dos jogadores e times de todas as temporadas desde a sua criação. Alguns sites, como o [Basketball Reference](https://www.basketball-reference.com/) e o [site oficial da NBA](https://www.nba.com/stats/) possuem uma gigantesca base de dados disponíveis para consulta. As principais estatísticas gerais dos jogadores são: **pontos**, **rebotes**, **assistências**, **tocos** e **roubos**, além de estatísticas percentuais, como porcentagem de arremessos convertidos.\n",
    "\n",
    "A NBA possui um **limite salarial na folha de pagamento** de jogadores de cada um dos times. Esse limite não é rígido como em outras ligas americanas, mas o estouro do teto salarial leva os times a pagarem multas que aumentam exponencialmente conforme o aumento dos gastos. Na temporada 2021-22 o limite salarial é de 112,4 milhões $^{[2]}$.\n",
    "\n",
    "Existe uma enorme quantidades de regras estipuladas para definir o salário de um jogador. Tendo em vista o limite que um time deve se basear para evitar ser multado, **a definição dos contratos se torna crucial** para a boa formação de um time.\n",
    "\n",
    "Inspirado pelo jogador de futebol Kevin De Bruyne, que trocou os tradicionais agentes por especialistas em *Big Data* para calcular o seu valor e a sua importância, tornando-se o jogador com maior salário do seu time $^{[3]}$, o objetivo desse estudo é tentar **entender a dinâmica dos salários dos atletas da NBA em relação a suas características e estatísticas**.\n",
    "\n",
    "Fontes de pesquisa:\n",
    "\n",
    "1. [National Basketball Association](https://en.wikipedia.org/wiki/National_Basketball_Association)\n",
    "2. [NBA Salary Cap](https://www.nba.com/news/salary-cap-set-at-112-4-million-for-2021-22-season)\n",
    "3. [Kevin De Bruyne uses data analysts to broker £83m Man City contract without agent](https://www.mirror.co.uk/sport/football/news/kevin-de-bruyne-uses-data-23870686)"
   ]
  },
  {
   "cell_type": "markdown",
   "id": "47cba186-f79e-4d5d-8b32-534f0b1b9132",
   "metadata": {},
   "source": [
    "### 1.2. Objetivos do projeto\n",
    "\n",
    "Usar as estatísticas do jogadores para criação de modelos de aprendizado de máquina para cada temporada no conjunto de dados, com os quais se estime o salário real dos jogadores. Disponibilizar acesso a predições pelo modelo via web."
   ]
  },
  {
   "cell_type": "markdown",
   "id": "ece3f393-b12e-417d-8c1b-8bc85a988a40",
   "metadata": {},
   "source": [
    "### 1.3. Conhecendo os dados"
   ]
  },
  {
   "cell_type": "markdown",
   "id": "6080fe0f-54d5-44d8-934c-52ca9006248a",
   "metadata": {},
   "source": [
    "#### 1.3.1. Obtenção dos dados"
   ]
  },
  {
   "cell_type": "markdown",
   "id": "00909e43-aad6-4801-bc51-84ee6ed18a1e",
   "metadata": {},
   "source": [
    "O primeiro desafio é a obtenção dos dados necessários para cumprir os objetivos. Apesar da disponibilidade por diversas fontes de dados estatísticos de jogadores da NBA, encontrar esses dados todos agrupados de forma organizada, completa e atualizada não é tão simples.\n",
    "\n",
    "A melhor forma encontrada para obtenção de dados estatísticos de toda a carreira de um jogador foi utilizando a [nba_api](https://github.com/swar/nba_api/) para python. Desta forma, conseguimos informações completas e organizadas, com a única problemática de que para obter informações de cada jogador é necessária uma requisição ao site da NBA (o que significa 4.723 requisições). Para contornar esta dificuldade, desenvolvemos um algorítmo para realizar as requisições de forma mais \"compassada\" (e evitar acessos negados por *flood* ao servidor) e que realiza o salvamento em disco a cada nova informação obtida. Com isso, caso haja problema no meio do processo, conseguimos retomar do ponto em que ele parou. Os [*logs*](../logs/getstats.log) da operação podem ser consultados.\n",
    "\n",
    "A outra parte da aquisição dos dados consiste nos salários de cada jogador para cada temporada (nossa variável alvo do modelo). Conseguimos encontrar essas informações [organizadas tabularmente](https://hoopshype.com/salaries/players/) para as temporadas desde 1990. Neste caso, utilizamos uma técnica de [web scraping](https://en.wikipedia.org/wiki/Web_scraping) com [Beautiful Soup](https://www.crummy.com/software/BeautifulSoup/bs4/doc/) para extração. Após obter as tabelas salariais (uma por temporada), precisamos realizar algumas transformações para adequar ao formato similar ao gerado para as estatísticas.\n",
    "\n",
    "Todo o processo de extração dos dados e geração do *dataset* final utilizado no decorrer do projeto está implementado e descrito no [notebook de extração de dados](./NBAstats_data_gathering.ipynb)."
   ]
  },
  {
   "cell_type": "markdown",
   "id": "8569540e-3617-4599-a774-ca6624efa67d",
   "metadata": {},
   "source": [
    "#### 1.3.2. Dicionário de Dados\n",
    "\n",
    "O resultado do processo de extração é a geração de um *dataset* contendo 30 colunas, descritas a seguir:\n",
    "\n",
    "- `PLAYER_NAME` (string): Nome do jogador\n",
    "- `SEASON_ID` (string): Temporada\n",
    "- `PLAYER_ID` (int): ID do jogador\n",
    "- `LEAGUE_ID` (int): ID da liga\n",
    "- `TEAM_ID` (int): ID do time\n",
    "- `TEAM_ABBREVIATION` (string): Sigla do time\n",
    "- `PLAYER_AGE` (float): Idade do Jogador\n",
    "- `GP` (int): Número de jogos disputados pelo jogador na temporada\n",
    "- `GS` (float): Número de jogos em que o jogador começou como titular\n",
    "- `MIN` (float): Minutos jogados\n",
    "- `FGM` (int): Arremessos convertidos\n",
    "- `FGA` (int): Arremessos tentados\n",
    "- `FG_PCT` (float): Percentual de arremessos convertidos\n",
    "- `FG3M` (float): Arremessos convertidos de 3 pontos\n",
    "- `FG3A` (float): Arremessos tentados de 3 pontos\n",
    "- `FG3_PCT` (float): Percentual de arremessos convertidos de 3 pontos\n",
    "- `FTM` (int): Arremessos convertidos de lances livres\n",
    "- `FTA` (int): Arremessos tentados de lances livres\n",
    "- `FT_PCT` (float): Percentual de arremessos convertidos de lances livres\n",
    "- `OREB` (float): Rebotes ofensivos\n",
    "- `DREB` (float): Rebotes defensivos\n",
    "- `REB` (float): Rebotes totais\n",
    "- `AST` (int): Assistencias\n",
    "- `STL` (float): Roubos\n",
    "- `BLK` (float): Bloqueios\n",
    "- `TOV` (float): Desperdicios de bola (Turnover)\n",
    "- `PF` (int): Faltas cometidas (Máximo 6 por partida)\n",
    "- `PTS` (int): Pontos convertidos\n",
    "- `SALARY_NOMINAL` (float): Salário nominal\n",
    "- `SALARY_REAL` (float): Salário corrigido pela inflação"
   ]
  },
  {
   "cell_type": "markdown",
   "id": "0180877b-7584-47bb-931b-3ad01959fe43",
   "metadata": {},
   "source": [
    "## 2. Configurações iniciais"
   ]
  },
  {
   "cell_type": "markdown",
   "id": "4909c7e7-c388-4246-b311-c840c2febbd9",
   "metadata": {},
   "source": [
    "### 2.1. Bibliotecas e importação dos dados"
   ]
  },
  {
   "cell_type": "code",
   "execution_count": 1,
   "id": "6d0f0a86",
   "metadata": {},
   "outputs": [],
   "source": [
    "import pandas as pd\n",
    "import numpy as np\n",
    "import seaborn as sns\n",
    "import matplotlib.pyplot as plt\n",
    "import warnings\n",
    "warnings.filterwarnings('ignore')"
   ]
  },
  {
   "cell_type": "code",
   "execution_count": 2,
   "id": "550134cc",
   "metadata": {},
   "outputs": [],
   "source": [
    "# Configuração de estilo dos gráficos\n",
    "sns.set_theme(\n",
    "    style='white',\n",
    "    rc={\n",
    "        'axes.titlesize': 16,\n",
    "        'axes.labelsize': 12,\n",
    "        'axes.spines.top': False,\n",
    "        'axes.spines.right': False,\n",
    "        'axes.spines.left': False,\n",
    "        'axes.grid.axis': 'y',\n",
    "        'axes.spines.top': False\n",
    "    }\n",
    ")"
   ]
  },
  {
   "cell_type": "code",
   "execution_count": 3,
   "id": "658e61b4",
   "metadata": {},
   "outputs": [
    {
     "name": "stdout",
     "output_type": "stream",
     "text": [
      "Os dados possuem 16341 registros divididos em 30 colunas\n"
     ]
    }
   ],
   "source": [
    "#Importando o dataset\n",
    "DATA_PATH = 'https://raw.githubusercontent.com/ciencia-dados-ifsp-grupo5/NBAstats/main/data'\n",
    "\n",
    "df = pd.read_csv(f'{DATA_PATH}/player.csv')\n",
    "print(f'Os dados possuem {df.shape[0]} registros divididos em {df.shape[1]} colunas')"
   ]
  },
  {
   "cell_type": "markdown",
   "id": "be131551",
   "metadata": {},
   "source": [
    "### 2.2. Visão geral dos dados"
   ]
  },
  {
   "cell_type": "code",
   "execution_count": 4,
   "id": "350ff453",
   "metadata": {},
   "outputs": [
    {
     "data": {
      "text/html": [
       "<div>\n",
       "<style scoped>\n",
       "    .dataframe tbody tr th:only-of-type {\n",
       "        vertical-align: middle;\n",
       "    }\n",
       "\n",
       "    .dataframe tbody tr th {\n",
       "        vertical-align: top;\n",
       "    }\n",
       "\n",
       "    .dataframe thead th {\n",
       "        text-align: right;\n",
       "    }\n",
       "</style>\n",
       "<table border=\"1\" class=\"dataframe\">\n",
       "  <thead>\n",
       "    <tr style=\"text-align: right;\">\n",
       "      <th></th>\n",
       "      <th>PLAYER_NAME</th>\n",
       "      <th>SEASON_ID</th>\n",
       "      <th>PLAYER_ID</th>\n",
       "      <th>LEAGUE_ID</th>\n",
       "      <th>TEAM_ID</th>\n",
       "      <th>TEAM_ABBREVIATION</th>\n",
       "      <th>PLAYER_AGE</th>\n",
       "      <th>GP</th>\n",
       "      <th>GS</th>\n",
       "      <th>MIN</th>\n",
       "      <th>...</th>\n",
       "      <th>DREB</th>\n",
       "      <th>REB</th>\n",
       "      <th>AST</th>\n",
       "      <th>STL</th>\n",
       "      <th>BLK</th>\n",
       "      <th>TOV</th>\n",
       "      <th>PF</th>\n",
       "      <th>PTS</th>\n",
       "      <th>SALARY_NOMINAL</th>\n",
       "      <th>SALARY_REAL</th>\n",
       "    </tr>\n",
       "  </thead>\n",
       "  <tbody>\n",
       "    <tr>\n",
       "      <th>0</th>\n",
       "      <td>A.C. Green</td>\n",
       "      <td>1990-91</td>\n",
       "      <td>920</td>\n",
       "      <td>0</td>\n",
       "      <td>1610612747</td>\n",
       "      <td>LAL</td>\n",
       "      <td>27.0</td>\n",
       "      <td>82</td>\n",
       "      <td>21.0</td>\n",
       "      <td>2164.0</td>\n",
       "      <td>...</td>\n",
       "      <td>315.0</td>\n",
       "      <td>516.0</td>\n",
       "      <td>71</td>\n",
       "      <td>59.0</td>\n",
       "      <td>23.0</td>\n",
       "      <td>99.0</td>\n",
       "      <td>117</td>\n",
       "      <td>750</td>\n",
       "      <td>1750000.0</td>\n",
       "      <td>3473015.0</td>\n",
       "    </tr>\n",
       "    <tr>\n",
       "      <th>1</th>\n",
       "      <td>A.C. Green</td>\n",
       "      <td>1991-92</td>\n",
       "      <td>920</td>\n",
       "      <td>0</td>\n",
       "      <td>1610612747</td>\n",
       "      <td>LAL</td>\n",
       "      <td>28.0</td>\n",
       "      <td>82</td>\n",
       "      <td>53.0</td>\n",
       "      <td>2902.0</td>\n",
       "      <td>...</td>\n",
       "      <td>456.0</td>\n",
       "      <td>762.0</td>\n",
       "      <td>117</td>\n",
       "      <td>91.0</td>\n",
       "      <td>36.0</td>\n",
       "      <td>111.0</td>\n",
       "      <td>141</td>\n",
       "      <td>1116</td>\n",
       "      <td>1750000.0</td>\n",
       "      <td>3317240.0</td>\n",
       "    </tr>\n",
       "    <tr>\n",
       "      <th>2</th>\n",
       "      <td>A.C. Green</td>\n",
       "      <td>1992-93</td>\n",
       "      <td>920</td>\n",
       "      <td>0</td>\n",
       "      <td>1610612747</td>\n",
       "      <td>LAL</td>\n",
       "      <td>29.0</td>\n",
       "      <td>82</td>\n",
       "      <td>55.0</td>\n",
       "      <td>2819.0</td>\n",
       "      <td>...</td>\n",
       "      <td>424.0</td>\n",
       "      <td>711.0</td>\n",
       "      <td>116</td>\n",
       "      <td>88.0</td>\n",
       "      <td>39.0</td>\n",
       "      <td>116.0</td>\n",
       "      <td>149</td>\n",
       "      <td>1051</td>\n",
       "      <td>1750000.0</td>\n",
       "      <td>3217865.0</td>\n",
       "    </tr>\n",
       "  </tbody>\n",
       "</table>\n",
       "<p>3 rows × 30 columns</p>\n",
       "</div>"
      ],
      "text/plain": [
       "  PLAYER_NAME SEASON_ID  PLAYER_ID  LEAGUE_ID     TEAM_ID TEAM_ABBREVIATION  \\\n",
       "0  A.C. Green   1990-91        920          0  1610612747               LAL   \n",
       "1  A.C. Green   1991-92        920          0  1610612747               LAL   \n",
       "2  A.C. Green   1992-93        920          0  1610612747               LAL   \n",
       "\n",
       "   PLAYER_AGE  GP    GS     MIN  ...   DREB    REB  AST   STL   BLK    TOV  \\\n",
       "0        27.0  82  21.0  2164.0  ...  315.0  516.0   71  59.0  23.0   99.0   \n",
       "1        28.0  82  53.0  2902.0  ...  456.0  762.0  117  91.0  36.0  111.0   \n",
       "2        29.0  82  55.0  2819.0  ...  424.0  711.0  116  88.0  39.0  116.0   \n",
       "\n",
       "    PF   PTS  SALARY_NOMINAL  SALARY_REAL  \n",
       "0  117   750       1750000.0    3473015.0  \n",
       "1  141  1116       1750000.0    3317240.0  \n",
       "2  149  1051       1750000.0    3217865.0  \n",
       "\n",
       "[3 rows x 30 columns]"
      ]
     },
     "execution_count": 4,
     "metadata": {},
     "output_type": "execute_result"
    }
   ],
   "source": [
    "df.head(3)"
   ]
  },
  {
   "cell_type": "code",
   "execution_count": 5,
   "id": "611e4456",
   "metadata": {},
   "outputs": [
    {
     "name": "stdout",
     "output_type": "stream",
     "text": [
      "<class 'pandas.core.frame.DataFrame'>\n",
      "RangeIndex: 16341 entries, 0 to 16340\n",
      "Data columns (total 30 columns):\n",
      " #   Column             Non-Null Count  Dtype  \n",
      "---  ------             --------------  -----  \n",
      " 0   PLAYER_NAME        16341 non-null  object \n",
      " 1   SEASON_ID          16341 non-null  object \n",
      " 2   PLAYER_ID          16341 non-null  int64  \n",
      " 3   LEAGUE_ID          16341 non-null  int64  \n",
      " 4   TEAM_ID            16341 non-null  int64  \n",
      " 5   TEAM_ABBREVIATION  16341 non-null  object \n",
      " 6   PLAYER_AGE         16341 non-null  float64\n",
      " 7   GP                 16341 non-null  int64  \n",
      " 8   GS                 16341 non-null  float64\n",
      " 9   MIN                16341 non-null  float64\n",
      " 10  FGM                16341 non-null  int64  \n",
      " 11  FGA                16341 non-null  int64  \n",
      " 12  FG_PCT             16341 non-null  float64\n",
      " 13  FG3M               16341 non-null  float64\n",
      " 14  FG3A               16341 non-null  float64\n",
      " 15  FG3_PCT            16341 non-null  float64\n",
      " 16  FTM                16341 non-null  int64  \n",
      " 17  FTA                16341 non-null  int64  \n",
      " 18  FT_PCT             16341 non-null  float64\n",
      " 19  OREB               16341 non-null  float64\n",
      " 20  DREB               16341 non-null  float64\n",
      " 21  REB                16341 non-null  float64\n",
      " 22  AST                16341 non-null  int64  \n",
      " 23  STL                16341 non-null  float64\n",
      " 24  BLK                16341 non-null  float64\n",
      " 25  TOV                16341 non-null  float64\n",
      " 26  PF                 16341 non-null  int64  \n",
      " 27  PTS                16341 non-null  int64  \n",
      " 28  SALARY_NOMINAL     16341 non-null  float64\n",
      " 29  SALARY_REAL        15927 non-null  float64\n",
      "dtypes: float64(16), int64(11), object(3)\n",
      "memory usage: 3.7+ MB\n"
     ]
    }
   ],
   "source": [
    "df.info()"
   ]
  },
  {
   "cell_type": "code",
   "execution_count": 6,
   "id": "ef3657d2",
   "metadata": {},
   "outputs": [
    {
     "name": "stdout",
     "output_type": "stream",
     "text": [
      "O dataset possui 414 valores Nulos\n"
     ]
    }
   ],
   "source": [
    "# Dados nulos\n",
    "print(f'O dataset possui {df.isnull().sum().sum()} valores Nulos')"
   ]
  },
  {
   "cell_type": "code",
   "execution_count": 7,
   "id": "4d928f44",
   "metadata": {},
   "outputs": [
    {
     "data": {
      "text/plain": [
       "SALARY_REAL    414\n",
       "dtype: int64"
      ]
     },
     "execution_count": 7,
     "metadata": {},
     "output_type": "execute_result"
    }
   ],
   "source": [
    "# Atributos com valores nulos\n",
    "df.isnull().sum()[lambda x: x > 0]"
   ]
  },
  {
   "cell_type": "code",
   "execution_count": 8,
   "id": "a1d768fe",
   "metadata": {},
   "outputs": [
    {
     "name": "stdout",
     "output_type": "stream",
     "text": [
      "O dataset possui 0 dados duplicados\n"
     ]
    }
   ],
   "source": [
    "# Dados duplicados\n",
    "print(f'O dataset possui {df.duplicated().sum()} dados duplicados')"
   ]
  },
  {
   "cell_type": "code",
   "execution_count": 9,
   "id": "4b839af0",
   "metadata": {},
   "outputs": [
    {
     "data": {
      "text/plain": [
       "2021-22    414\n",
       "Name: SEASON_ID, dtype: int64"
      ]
     },
     "execution_count": 9,
     "metadata": {},
     "output_type": "execute_result"
    }
   ],
   "source": [
    "df[df['SALARY_REAL'].isnull()].SEASON_ID.value_counts()"
   ]
  },
  {
   "cell_type": "markdown",
   "id": "9023783b",
   "metadata": {},
   "source": [
    "O *dataset* não possui dados duplicados, porém existem **414 valores nulos**. Todos se encontram na coluna `SALARY_REAL` e são referentes a temporada 2021-22. Isto faz sentido, uma vez que os valores salariais de temporadas anteriores foram deflacionados a preço de 2021. No caso desta temporada 2021-22, o valor real do salário é equivalente ao seu valor nominal."
   ]
  },
  {
   "cell_type": "markdown",
   "id": "a2dd5326-3fe1-4bbf-bb3f-5db974cf9c7b",
   "metadata": {},
   "source": [
    "## 3. Pré-processamento"
   ]
  },
  {
   "cell_type": "markdown",
   "id": "268b1bb6-e271-4072-8224-8dd2a47708a4",
   "metadata": {
    "tags": []
   },
   "source": [
    "### 3.1. Limpeza dos dados"
   ]
  },
  {
   "cell_type": "markdown",
   "id": "6aebf8d2-23b8-4597-9bb1-309042a1eb59",
   "metadata": {},
   "source": [
    "Os dados são referentes às estatísticas de todos os jogadores desde a temporada 1990-91 até 2021-22. Esta última temporada ainda não foi finalizada e os dados não estão completos. Por este motivo, ela será excluída da análise. Para simplificar a identificação, vamos considerar o ano de encerramento da temporada como referência para a mesma."
   ]
  },
  {
   "cell_type": "code",
   "execution_count": 10,
   "id": "f1baec61",
   "metadata": {},
   "outputs": [
    {
     "data": {
      "text/html": [
       "<div>\n",
       "<style scoped>\n",
       "    .dataframe tbody tr th:only-of-type {\n",
       "        vertical-align: middle;\n",
       "    }\n",
       "\n",
       "    .dataframe tbody tr th {\n",
       "        vertical-align: top;\n",
       "    }\n",
       "\n",
       "    .dataframe thead th {\n",
       "        text-align: right;\n",
       "    }\n",
       "</style>\n",
       "<table border=\"1\" class=\"dataframe\">\n",
       "  <thead>\n",
       "    <tr style=\"text-align: right;\">\n",
       "      <th></th>\n",
       "      <th>PLAYER_NAME</th>\n",
       "      <th>SEASON_ID</th>\n",
       "      <th>PLAYER_ID</th>\n",
       "      <th>LEAGUE_ID</th>\n",
       "      <th>TEAM_ID</th>\n",
       "      <th>TEAM_ABBREVIATION</th>\n",
       "      <th>PLAYER_AGE</th>\n",
       "      <th>GP</th>\n",
       "      <th>GS</th>\n",
       "      <th>MIN</th>\n",
       "      <th>...</th>\n",
       "      <th>DREB</th>\n",
       "      <th>REB</th>\n",
       "      <th>AST</th>\n",
       "      <th>STL</th>\n",
       "      <th>BLK</th>\n",
       "      <th>TOV</th>\n",
       "      <th>PF</th>\n",
       "      <th>PTS</th>\n",
       "      <th>SALARY_NOMINAL</th>\n",
       "      <th>SALARY_REAL</th>\n",
       "    </tr>\n",
       "  </thead>\n",
       "  <tbody>\n",
       "    <tr>\n",
       "      <th>0</th>\n",
       "      <td>A.C. Green</td>\n",
       "      <td>1991</td>\n",
       "      <td>920</td>\n",
       "      <td>0</td>\n",
       "      <td>1610612747</td>\n",
       "      <td>LAL</td>\n",
       "      <td>27.0</td>\n",
       "      <td>82</td>\n",
       "      <td>21.0</td>\n",
       "      <td>2164.0</td>\n",
       "      <td>...</td>\n",
       "      <td>315.0</td>\n",
       "      <td>516.0</td>\n",
       "      <td>71</td>\n",
       "      <td>59.0</td>\n",
       "      <td>23.0</td>\n",
       "      <td>99.0</td>\n",
       "      <td>117</td>\n",
       "      <td>750</td>\n",
       "      <td>1750000.0</td>\n",
       "      <td>3473015.0</td>\n",
       "    </tr>\n",
       "    <tr>\n",
       "      <th>1</th>\n",
       "      <td>A.C. Green</td>\n",
       "      <td>1992</td>\n",
       "      <td>920</td>\n",
       "      <td>0</td>\n",
       "      <td>1610612747</td>\n",
       "      <td>LAL</td>\n",
       "      <td>28.0</td>\n",
       "      <td>82</td>\n",
       "      <td>53.0</td>\n",
       "      <td>2902.0</td>\n",
       "      <td>...</td>\n",
       "      <td>456.0</td>\n",
       "      <td>762.0</td>\n",
       "      <td>117</td>\n",
       "      <td>91.0</td>\n",
       "      <td>36.0</td>\n",
       "      <td>111.0</td>\n",
       "      <td>141</td>\n",
       "      <td>1116</td>\n",
       "      <td>1750000.0</td>\n",
       "      <td>3317240.0</td>\n",
       "    </tr>\n",
       "    <tr>\n",
       "      <th>2</th>\n",
       "      <td>A.C. Green</td>\n",
       "      <td>1993</td>\n",
       "      <td>920</td>\n",
       "      <td>0</td>\n",
       "      <td>1610612747</td>\n",
       "      <td>LAL</td>\n",
       "      <td>29.0</td>\n",
       "      <td>82</td>\n",
       "      <td>55.0</td>\n",
       "      <td>2819.0</td>\n",
       "      <td>...</td>\n",
       "      <td>424.0</td>\n",
       "      <td>711.0</td>\n",
       "      <td>116</td>\n",
       "      <td>88.0</td>\n",
       "      <td>39.0</td>\n",
       "      <td>116.0</td>\n",
       "      <td>149</td>\n",
       "      <td>1051</td>\n",
       "      <td>1750000.0</td>\n",
       "      <td>3217865.0</td>\n",
       "    </tr>\n",
       "    <tr>\n",
       "      <th>3</th>\n",
       "      <td>A.C. Green</td>\n",
       "      <td>1994</td>\n",
       "      <td>920</td>\n",
       "      <td>0</td>\n",
       "      <td>1610612756</td>\n",
       "      <td>PHX</td>\n",
       "      <td>30.0</td>\n",
       "      <td>82</td>\n",
       "      <td>55.0</td>\n",
       "      <td>2825.0</td>\n",
       "      <td>...</td>\n",
       "      <td>478.0</td>\n",
       "      <td>753.0</td>\n",
       "      <td>137</td>\n",
       "      <td>70.0</td>\n",
       "      <td>38.0</td>\n",
       "      <td>100.0</td>\n",
       "      <td>142</td>\n",
       "      <td>1204</td>\n",
       "      <td>1885000.0</td>\n",
       "      <td>3365286.0</td>\n",
       "    </tr>\n",
       "    <tr>\n",
       "      <th>4</th>\n",
       "      <td>A.C. Green</td>\n",
       "      <td>1995</td>\n",
       "      <td>920</td>\n",
       "      <td>0</td>\n",
       "      <td>1610612756</td>\n",
       "      <td>PHX</td>\n",
       "      <td>31.0</td>\n",
       "      <td>82</td>\n",
       "      <td>52.0</td>\n",
       "      <td>2687.0</td>\n",
       "      <td>...</td>\n",
       "      <td>475.0</td>\n",
       "      <td>669.0</td>\n",
       "      <td>127</td>\n",
       "      <td>55.0</td>\n",
       "      <td>31.0</td>\n",
       "      <td>114.0</td>\n",
       "      <td>146</td>\n",
       "      <td>916</td>\n",
       "      <td>6472600.0</td>\n",
       "      <td>11274438.0</td>\n",
       "    </tr>\n",
       "  </tbody>\n",
       "</table>\n",
       "<p>5 rows × 30 columns</p>\n",
       "</div>"
      ],
      "text/plain": [
       "  PLAYER_NAME  SEASON_ID  PLAYER_ID  LEAGUE_ID     TEAM_ID TEAM_ABBREVIATION  \\\n",
       "0  A.C. Green       1991        920          0  1610612747               LAL   \n",
       "1  A.C. Green       1992        920          0  1610612747               LAL   \n",
       "2  A.C. Green       1993        920          0  1610612747               LAL   \n",
       "3  A.C. Green       1994        920          0  1610612756               PHX   \n",
       "4  A.C. Green       1995        920          0  1610612756               PHX   \n",
       "\n",
       "   PLAYER_AGE  GP    GS     MIN  ...   DREB    REB  AST   STL   BLK    TOV  \\\n",
       "0        27.0  82  21.0  2164.0  ...  315.0  516.0   71  59.0  23.0   99.0   \n",
       "1        28.0  82  53.0  2902.0  ...  456.0  762.0  117  91.0  36.0  111.0   \n",
       "2        29.0  82  55.0  2819.0  ...  424.0  711.0  116  88.0  39.0  116.0   \n",
       "3        30.0  82  55.0  2825.0  ...  478.0  753.0  137  70.0  38.0  100.0   \n",
       "4        31.0  82  52.0  2687.0  ...  475.0  669.0  127  55.0  31.0  114.0   \n",
       "\n",
       "    PF   PTS  SALARY_NOMINAL  SALARY_REAL  \n",
       "0  117   750       1750000.0    3473015.0  \n",
       "1  141  1116       1750000.0    3317240.0  \n",
       "2  149  1051       1750000.0    3217865.0  \n",
       "3  142  1204       1885000.0    3365286.0  \n",
       "4  146   916       6472600.0   11274438.0  \n",
       "\n",
       "[5 rows x 30 columns]"
      ]
     },
     "execution_count": 10,
     "metadata": {},
     "output_type": "execute_result"
    }
   ],
   "source": [
    "df_clean = df.copy()\n",
    "\n",
    "# Retirar temporada 2021-22\n",
    "df_clean = df_clean.query('SEASON_ID != \"2021-22\"')\n",
    "\n",
    "# Simplificando a identificação da temporada\n",
    "df_clean['SEASON_ID'] = df_clean['SEASON_ID'].str.slice(0, 4).astype(int) + 1\n",
    "\n",
    "df_clean.head()"
   ]
  },
  {
   "cell_type": "markdown",
   "id": "0fe54b78",
   "metadata": {},
   "source": [
    "Durante uma temporada, os jogadores podem ser transferidos de time. Nestes casos, o *dataset* possui as estatistícas do jogador em cada um dos times e um valor agrupado total do jogador na temporada, em que o valor de `TEAM_ABBREVITAION` é informado como `TOT`. Um exemplo é o do jogador *AJ Price*, que na temporada 2015 jogou pelos times de *Indiana*, *Cleveland* e *Phoenix*."
   ]
  },
  {
   "cell_type": "code",
   "execution_count": 11,
   "id": "bf3eaa05",
   "metadata": {},
   "outputs": [
    {
     "data": {
      "text/html": [
       "<div>\n",
       "<style scoped>\n",
       "    .dataframe tbody tr th:only-of-type {\n",
       "        vertical-align: middle;\n",
       "    }\n",
       "\n",
       "    .dataframe tbody tr th {\n",
       "        vertical-align: top;\n",
       "    }\n",
       "\n",
       "    .dataframe thead th {\n",
       "        text-align: right;\n",
       "    }\n",
       "</style>\n",
       "<table border=\"1\" class=\"dataframe\">\n",
       "  <thead>\n",
       "    <tr style=\"text-align: right;\">\n",
       "      <th></th>\n",
       "      <th>PLAYER_NAME</th>\n",
       "      <th>SEASON_ID</th>\n",
       "      <th>PLAYER_ID</th>\n",
       "      <th>LEAGUE_ID</th>\n",
       "      <th>TEAM_ID</th>\n",
       "      <th>TEAM_ABBREVIATION</th>\n",
       "      <th>PLAYER_AGE</th>\n",
       "      <th>GP</th>\n",
       "      <th>GS</th>\n",
       "      <th>MIN</th>\n",
       "      <th>...</th>\n",
       "      <th>DREB</th>\n",
       "      <th>REB</th>\n",
       "      <th>AST</th>\n",
       "      <th>STL</th>\n",
       "      <th>BLK</th>\n",
       "      <th>TOV</th>\n",
       "      <th>PF</th>\n",
       "      <th>PTS</th>\n",
       "      <th>SALARY_NOMINAL</th>\n",
       "      <th>SALARY_REAL</th>\n",
       "    </tr>\n",
       "  </thead>\n",
       "  <tbody>\n",
       "    <tr>\n",
       "      <th>23</th>\n",
       "      <td>AJ Price</td>\n",
       "      <td>2015</td>\n",
       "      <td>201985</td>\n",
       "      <td>0</td>\n",
       "      <td>1610612754</td>\n",
       "      <td>IND</td>\n",
       "      <td>28.0</td>\n",
       "      <td>10</td>\n",
       "      <td>0.0</td>\n",
       "      <td>193.0</td>\n",
       "      <td>...</td>\n",
       "      <td>12.0</td>\n",
       "      <td>14.0</td>\n",
       "      <td>27</td>\n",
       "      <td>4.0</td>\n",
       "      <td>0.0</td>\n",
       "      <td>10.0</td>\n",
       "      <td>9</td>\n",
       "      <td>105</td>\n",
       "      <td>493917.0</td>\n",
       "      <td>534230.0</td>\n",
       "    </tr>\n",
       "    <tr>\n",
       "      <th>24</th>\n",
       "      <td>AJ Price</td>\n",
       "      <td>2015</td>\n",
       "      <td>201985</td>\n",
       "      <td>0</td>\n",
       "      <td>1610612739</td>\n",
       "      <td>CLE</td>\n",
       "      <td>28.0</td>\n",
       "      <td>11</td>\n",
       "      <td>0.0</td>\n",
       "      <td>87.0</td>\n",
       "      <td>...</td>\n",
       "      <td>11.0</td>\n",
       "      <td>15.0</td>\n",
       "      <td>13</td>\n",
       "      <td>3.0</td>\n",
       "      <td>0.0</td>\n",
       "      <td>3.0</td>\n",
       "      <td>1</td>\n",
       "      <td>22</td>\n",
       "      <td>493917.0</td>\n",
       "      <td>534230.0</td>\n",
       "    </tr>\n",
       "    <tr>\n",
       "      <th>25</th>\n",
       "      <td>AJ Price</td>\n",
       "      <td>2015</td>\n",
       "      <td>201985</td>\n",
       "      <td>0</td>\n",
       "      <td>1610612756</td>\n",
       "      <td>PHX</td>\n",
       "      <td>28.0</td>\n",
       "      <td>5</td>\n",
       "      <td>0.0</td>\n",
       "      <td>44.0</td>\n",
       "      <td>...</td>\n",
       "      <td>3.0</td>\n",
       "      <td>3.0</td>\n",
       "      <td>6</td>\n",
       "      <td>0.0</td>\n",
       "      <td>0.0</td>\n",
       "      <td>1.0</td>\n",
       "      <td>5</td>\n",
       "      <td>6</td>\n",
       "      <td>493917.0</td>\n",
       "      <td>534230.0</td>\n",
       "    </tr>\n",
       "    <tr>\n",
       "      <th>26</th>\n",
       "      <td>AJ Price</td>\n",
       "      <td>2015</td>\n",
       "      <td>201985</td>\n",
       "      <td>0</td>\n",
       "      <td>0</td>\n",
       "      <td>TOT</td>\n",
       "      <td>28.0</td>\n",
       "      <td>26</td>\n",
       "      <td>0.0</td>\n",
       "      <td>324.0</td>\n",
       "      <td>...</td>\n",
       "      <td>26.0</td>\n",
       "      <td>32.0</td>\n",
       "      <td>46</td>\n",
       "      <td>7.0</td>\n",
       "      <td>0.0</td>\n",
       "      <td>14.0</td>\n",
       "      <td>15</td>\n",
       "      <td>133</td>\n",
       "      <td>493917.0</td>\n",
       "      <td>534230.0</td>\n",
       "    </tr>\n",
       "  </tbody>\n",
       "</table>\n",
       "<p>4 rows × 30 columns</p>\n",
       "</div>"
      ],
      "text/plain": [
       "   PLAYER_NAME  SEASON_ID  PLAYER_ID  LEAGUE_ID     TEAM_ID TEAM_ABBREVIATION  \\\n",
       "23    AJ Price       2015     201985          0  1610612754               IND   \n",
       "24    AJ Price       2015     201985          0  1610612739               CLE   \n",
       "25    AJ Price       2015     201985          0  1610612756               PHX   \n",
       "26    AJ Price       2015     201985          0           0               TOT   \n",
       "\n",
       "    PLAYER_AGE  GP   GS    MIN  ...  DREB   REB  AST  STL  BLK   TOV  PF  PTS  \\\n",
       "23        28.0  10  0.0  193.0  ...  12.0  14.0   27  4.0  0.0  10.0   9  105   \n",
       "24        28.0  11  0.0   87.0  ...  11.0  15.0   13  3.0  0.0   3.0   1   22   \n",
       "25        28.0   5  0.0   44.0  ...   3.0   3.0    6  0.0  0.0   1.0   5    6   \n",
       "26        28.0  26  0.0  324.0  ...  26.0  32.0   46  7.0  0.0  14.0  15  133   \n",
       "\n",
       "    SALARY_NOMINAL  SALARY_REAL  \n",
       "23        493917.0     534230.0  \n",
       "24        493917.0     534230.0  \n",
       "25        493917.0     534230.0  \n",
       "26        493917.0     534230.0  \n",
       "\n",
       "[4 rows x 30 columns]"
      ]
     },
     "execution_count": 11,
     "metadata": {},
     "output_type": "execute_result"
    }
   ],
   "source": [
    "# Exemplo de um jogador com mais de um time na mesma temporada\n",
    "df_clean.query('PLAYER_NAME == \"AJ Price\" & SEASON_ID == 2015')"
   ]
  },
  {
   "cell_type": "markdown",
   "id": "47766c3a-b638-419d-ac67-0a2efec93ace",
   "metadata": {},
   "source": [
    "Para tratar estes casos, vamos excluir todos os registros de jogadores que aparecem mais de uma vez na mesma temporada, com excessão do registro em que `TEAM_ABBREVIATION` é o total `TOT`."
   ]
  },
  {
   "cell_type": "code",
   "execution_count": 12,
   "id": "4fc6f6d1",
   "metadata": {},
   "outputs": [
    {
     "name": "stdout",
     "output_type": "stream",
     "text": [
      "Jogadores com estatísticas duplicadas: 2997\n",
      "Jogadores com estatísticas duplicadas pós-processamento: 0\n"
     ]
    }
   ],
   "source": [
    "# Verificando a quantidade de registros de jogadores que possuem mais de um time por temporada\n",
    "jogadores_duplicados = df_clean[df_clean.duplicated(subset=['PLAYER_NAME', 'SEASON_ID'])].shape[0]\n",
    "print(f\"Jogadores com estatísticas duplicadas: {jogadores_duplicados}\")\n",
    "\n",
    "# Retirar os jogadores duplicados cujos registros tenham valor de TEAM_ABBREVIATION != \"TOT\"\n",
    "index_duplicados = df_clean[df_clean.duplicated(subset=['PLAYER_NAME', 'SEASON_ID'], keep=False)].query('TEAM_ABBREVIATION != \"TOT\"').index\n",
    "df_clean.drop(index_duplicados, axis=0, inplace=True)\n",
    "\n",
    "# Verificação pós-processamento\n",
    "jogadores_duplicados = df_clean[df_clean.duplicated(subset=['PLAYER_NAME', 'SEASON_ID'])].shape[0]\n",
    "print(f\"Jogadores com estatísticas duplicadas pós-processamento: {jogadores_duplicados}\")"
   ]
  },
  {
   "cell_type": "markdown",
   "id": "18552b52-9f64-420f-b5e0-a2f68c792ec0",
   "metadata": {},
   "source": [
    "Vamos salvar o *dataset* limpo."
   ]
  },
  {
   "cell_type": "code",
   "execution_count": 13,
   "id": "71ee2b2a-5848-41b9-bf13-0372175ad0cc",
   "metadata": {},
   "outputs": [],
   "source": [
    "df_clean.to_csv(f'{DATA_PATH}/player_clean.csv', index=False)"
   ]
  },
  {
   "cell_type": "markdown",
   "id": "97942b6a-6296-4253-b09b-b7acbb872789",
   "metadata": {},
   "source": [
    "Este arquivo será usado para carregar os registros de jogadores em uma base de dados SQL. Neste projeto, construímos uma base *MySQL* utilizando o [*Amazon Relational Database Service (RDS)*](https://aws.amazon.com/rds/). O procedimento é feito no [notebook de criação do banco de dados de jogadores](./NBAstats_db_creation.ipynb). Esta base servirá mais adiante quando colocarmos nosso modelo treinado em produção.\n",
    "\n",
    "Por fim, vamos excluir algumas colunas que são referentes apenas a identificação (`PLAYER_ID`, `LEAGUE_ID`, `TEAM_ID` e `TEAM_ABBREVIATION`)."
   ]
  },
  {
   "cell_type": "code",
   "execution_count": 14,
   "id": "d2de9d91-51e2-49f1-8ade-11dc612513bf",
   "metadata": {},
   "outputs": [],
   "source": [
    "df_clean = df_clean.drop(columns=['PLAYER_ID', 'LEAGUE_ID', 'TEAM_ID', 'TEAM_ABBREVIATION']).set_index('PLAYER_NAME')"
   ]
  },
  {
   "cell_type": "markdown",
   "id": "02df2a26-f539-4bd2-8515-3572c466fc1d",
   "metadata": {},
   "source": [
    "### 3.2. Separação da base de teste"
   ]
  },
  {
   "cell_type": "markdown",
   "id": "c224f93c-de17-4b75-b1c8-2289875043b2",
   "metadata": {},
   "source": [
    "Após a limpeza dos dados, vamos dividir a base em dados de treino e teste. Para montar um modelo que seja consistente, os dados de teste não devem ser usados para analisar e preparar a base, de modo que a divisão deve ser feita anteriormente.\n",
    "\n",
    "Vamos estratificar a divisão com o parâmetro de temporada. Esta é uma informação determinante para definição dos salários."
   ]
  },
  {
   "cell_type": "code",
   "execution_count": 15,
   "id": "ad21e70d-f04b-4e8b-ab8a-40802b25dd0a",
   "metadata": {},
   "outputs": [
    {
     "data": {
      "text/html": [
       "<div>\n",
       "<style scoped>\n",
       "    .dataframe tbody tr th:only-of-type {\n",
       "        vertical-align: middle;\n",
       "    }\n",
       "\n",
       "    .dataframe tbody tr th {\n",
       "        vertical-align: top;\n",
       "    }\n",
       "\n",
       "    .dataframe thead th {\n",
       "        text-align: right;\n",
       "    }\n",
       "</style>\n",
       "<table border=\"1\" class=\"dataframe\">\n",
       "  <thead>\n",
       "    <tr style=\"text-align: right;\">\n",
       "      <th></th>\n",
       "      <th>SEASON_ID</th>\n",
       "      <th>PLAYER_AGE</th>\n",
       "      <th>GP</th>\n",
       "      <th>GS</th>\n",
       "      <th>MIN</th>\n",
       "      <th>FGM</th>\n",
       "      <th>FGA</th>\n",
       "      <th>FG_PCT</th>\n",
       "      <th>FG3M</th>\n",
       "      <th>FG3A</th>\n",
       "      <th>...</th>\n",
       "      <th>DREB</th>\n",
       "      <th>REB</th>\n",
       "      <th>AST</th>\n",
       "      <th>STL</th>\n",
       "      <th>BLK</th>\n",
       "      <th>TOV</th>\n",
       "      <th>PF</th>\n",
       "      <th>PTS</th>\n",
       "      <th>SALARY_NOMINAL</th>\n",
       "      <th>SALARY_REAL</th>\n",
       "    </tr>\n",
       "    <tr>\n",
       "      <th>PLAYER_NAME</th>\n",
       "      <th></th>\n",
       "      <th></th>\n",
       "      <th></th>\n",
       "      <th></th>\n",
       "      <th></th>\n",
       "      <th></th>\n",
       "      <th></th>\n",
       "      <th></th>\n",
       "      <th></th>\n",
       "      <th></th>\n",
       "      <th></th>\n",
       "      <th></th>\n",
       "      <th></th>\n",
       "      <th></th>\n",
       "      <th></th>\n",
       "      <th></th>\n",
       "      <th></th>\n",
       "      <th></th>\n",
       "      <th></th>\n",
       "      <th></th>\n",
       "      <th></th>\n",
       "    </tr>\n",
       "  </thead>\n",
       "  <tbody>\n",
       "    <tr>\n",
       "      <th>Will Perdue</th>\n",
       "      <td>1994</td>\n",
       "      <td>28.0</td>\n",
       "      <td>43</td>\n",
       "      <td>6.0</td>\n",
       "      <td>397.0</td>\n",
       "      <td>47</td>\n",
       "      <td>112</td>\n",
       "      <td>0.420</td>\n",
       "      <td>0.0</td>\n",
       "      <td>1.0</td>\n",
       "      <td>...</td>\n",
       "      <td>86.0</td>\n",
       "      <td>126.0</td>\n",
       "      <td>34</td>\n",
       "      <td>8.0</td>\n",
       "      <td>11.0</td>\n",
       "      <td>42.0</td>\n",
       "      <td>61</td>\n",
       "      <td>117</td>\n",
       "      <td>1200000.0</td>\n",
       "      <td>2142357.0</td>\n",
       "    </tr>\n",
       "    <tr>\n",
       "      <th>Andrea Bargnani</th>\n",
       "      <td>2012</td>\n",
       "      <td>26.0</td>\n",
       "      <td>31</td>\n",
       "      <td>31.0</td>\n",
       "      <td>1032.0</td>\n",
       "      <td>209</td>\n",
       "      <td>484</td>\n",
       "      <td>0.432</td>\n",
       "      <td>34.0</td>\n",
       "      <td>115.0</td>\n",
       "      <td>...</td>\n",
       "      <td>148.0</td>\n",
       "      <td>172.0</td>\n",
       "      <td>61</td>\n",
       "      <td>18.0</td>\n",
       "      <td>15.0</td>\n",
       "      <td>69.0</td>\n",
       "      <td>52</td>\n",
       "      <td>603</td>\n",
       "      <td>9250000.0</td>\n",
       "      <td>10564421.0</td>\n",
       "    </tr>\n",
       "    <tr>\n",
       "      <th>Vladimir Radmanovic</th>\n",
       "      <td>2009</td>\n",
       "      <td>28.0</td>\n",
       "      <td>78</td>\n",
       "      <td>31.0</td>\n",
       "      <td>1445.0</td>\n",
       "      <td>196</td>\n",
       "      <td>466</td>\n",
       "      <td>0.421</td>\n",
       "      <td>105.0</td>\n",
       "      <td>262.0</td>\n",
       "      <td>...</td>\n",
       "      <td>177.0</td>\n",
       "      <td>222.0</td>\n",
       "      <td>81</td>\n",
       "      <td>46.0</td>\n",
       "      <td>15.0</td>\n",
       "      <td>98.0</td>\n",
       "      <td>111</td>\n",
       "      <td>540</td>\n",
       "      <td>6049400.0</td>\n",
       "      <td>7127103.0</td>\n",
       "    </tr>\n",
       "  </tbody>\n",
       "</table>\n",
       "<p>3 rows × 25 columns</p>\n",
       "</div>"
      ],
      "text/plain": [
       "                     SEASON_ID  PLAYER_AGE  GP    GS     MIN  FGM  FGA  \\\n",
       "PLAYER_NAME                                                              \n",
       "Will Perdue               1994        28.0  43   6.0   397.0   47  112   \n",
       "Andrea Bargnani           2012        26.0  31  31.0  1032.0  209  484   \n",
       "Vladimir Radmanovic       2009        28.0  78  31.0  1445.0  196  466   \n",
       "\n",
       "                     FG_PCT   FG3M   FG3A  ...   DREB    REB  AST   STL   BLK  \\\n",
       "PLAYER_NAME                                ...                                  \n",
       "Will Perdue           0.420    0.0    1.0  ...   86.0  126.0   34   8.0  11.0   \n",
       "Andrea Bargnani       0.432   34.0  115.0  ...  148.0  172.0   61  18.0  15.0   \n",
       "Vladimir Radmanovic   0.421  105.0  262.0  ...  177.0  222.0   81  46.0  15.0   \n",
       "\n",
       "                      TOV   PF  PTS  SALARY_NOMINAL  SALARY_REAL  \n",
       "PLAYER_NAME                                                       \n",
       "Will Perdue          42.0   61  117       1200000.0    2142357.0  \n",
       "Andrea Bargnani      69.0   52  603       9250000.0   10564421.0  \n",
       "Vladimir Radmanovic  98.0  111  540       6049400.0    7127103.0  \n",
       "\n",
       "[3 rows x 25 columns]"
      ]
     },
     "execution_count": 15,
     "metadata": {},
     "output_type": "execute_result"
    }
   ],
   "source": [
    "df_clean.sample(3)"
   ]
  },
  {
   "cell_type": "code",
   "execution_count": 16,
   "id": "4dcbbe2e-11f8-403c-addd-6f0c4cfcbb2c",
   "metadata": {},
   "outputs": [
    {
     "name": "stdout",
     "output_type": "stream",
     "text": [
      "Temos (10340, 25) dados de treino e (2585, 25) dados de teste.\n",
      "\n"
     ]
    },
    {
     "data": {
      "text/html": [
       "<div>\n",
       "<style scoped>\n",
       "    .dataframe tbody tr th:only-of-type {\n",
       "        vertical-align: middle;\n",
       "    }\n",
       "\n",
       "    .dataframe tbody tr th {\n",
       "        vertical-align: top;\n",
       "    }\n",
       "\n",
       "    .dataframe thead th {\n",
       "        text-align: right;\n",
       "    }\n",
       "</style>\n",
       "<table border=\"1\" class=\"dataframe\">\n",
       "  <thead>\n",
       "    <tr style=\"text-align: right;\">\n",
       "      <th></th>\n",
       "      <th>train %</th>\n",
       "      <th>test %</th>\n",
       "    </tr>\n",
       "  </thead>\n",
       "  <tbody>\n",
       "    <tr>\n",
       "      <th>2021</th>\n",
       "      <td>0.037814</td>\n",
       "      <td>0.037524</td>\n",
       "    </tr>\n",
       "    <tr>\n",
       "      <th>2020</th>\n",
       "      <td>0.034913</td>\n",
       "      <td>0.034816</td>\n",
       "    </tr>\n",
       "    <tr>\n",
       "      <th>2019</th>\n",
       "      <td>0.037331</td>\n",
       "      <td>0.037524</td>\n",
       "    </tr>\n",
       "    <tr>\n",
       "      <th>2018</th>\n",
       "      <td>0.038685</td>\n",
       "      <td>0.038685</td>\n",
       "    </tr>\n",
       "    <tr>\n",
       "      <th>2017</th>\n",
       "      <td>0.035106</td>\n",
       "      <td>0.035203</td>\n",
       "    </tr>\n",
       "    <tr>\n",
       "      <th>2016</th>\n",
       "      <td>0.034623</td>\n",
       "      <td>0.034429</td>\n",
       "    </tr>\n",
       "    <tr>\n",
       "      <th>2015</th>\n",
       "      <td>0.035783</td>\n",
       "      <td>0.035590</td>\n",
       "    </tr>\n",
       "    <tr>\n",
       "      <th>2014</th>\n",
       "      <td>0.034526</td>\n",
       "      <td>0.034429</td>\n",
       "    </tr>\n",
       "    <tr>\n",
       "      <th>2013</th>\n",
       "      <td>0.034333</td>\n",
       "      <td>0.034429</td>\n",
       "    </tr>\n",
       "    <tr>\n",
       "      <th>2012</th>\n",
       "      <td>0.033656</td>\n",
       "      <td>0.033656</td>\n",
       "    </tr>\n",
       "    <tr>\n",
       "      <th>2011</th>\n",
       "      <td>0.032785</td>\n",
       "      <td>0.032882</td>\n",
       "    </tr>\n",
       "    <tr>\n",
       "      <th>2010</th>\n",
       "      <td>0.032108</td>\n",
       "      <td>0.032108</td>\n",
       "    </tr>\n",
       "    <tr>\n",
       "      <th>2009</th>\n",
       "      <td>0.032302</td>\n",
       "      <td>0.032495</td>\n",
       "    </tr>\n",
       "    <tr>\n",
       "      <th>2008</th>\n",
       "      <td>0.032882</td>\n",
       "      <td>0.032882</td>\n",
       "    </tr>\n",
       "    <tr>\n",
       "      <th>2007</th>\n",
       "      <td>0.033462</td>\n",
       "      <td>0.033269</td>\n",
       "    </tr>\n",
       "    <tr>\n",
       "      <th>2006</th>\n",
       "      <td>0.032979</td>\n",
       "      <td>0.032882</td>\n",
       "    </tr>\n",
       "    <tr>\n",
       "      <th>2005</th>\n",
       "      <td>0.032689</td>\n",
       "      <td>0.032882</td>\n",
       "    </tr>\n",
       "    <tr>\n",
       "      <th>2004</th>\n",
       "      <td>0.030851</td>\n",
       "      <td>0.030948</td>\n",
       "    </tr>\n",
       "    <tr>\n",
       "      <th>2003</th>\n",
       "      <td>0.031044</td>\n",
       "      <td>0.030948</td>\n",
       "    </tr>\n",
       "    <tr>\n",
       "      <th>2002</th>\n",
       "      <td>0.031528</td>\n",
       "      <td>0.031721</td>\n",
       "    </tr>\n",
       "    <tr>\n",
       "      <th>2001</th>\n",
       "      <td>0.031915</td>\n",
       "      <td>0.031721</td>\n",
       "    </tr>\n",
       "    <tr>\n",
       "      <th>2000</th>\n",
       "      <td>0.032495</td>\n",
       "      <td>0.032495</td>\n",
       "    </tr>\n",
       "    <tr>\n",
       "      <th>1999</th>\n",
       "      <td>0.029594</td>\n",
       "      <td>0.029787</td>\n",
       "    </tr>\n",
       "    <tr>\n",
       "      <th>1998</th>\n",
       "      <td>0.030658</td>\n",
       "      <td>0.030561</td>\n",
       "    </tr>\n",
       "    <tr>\n",
       "      <th>1997</th>\n",
       "      <td>0.029884</td>\n",
       "      <td>0.029787</td>\n",
       "    </tr>\n",
       "    <tr>\n",
       "      <th>1996</th>\n",
       "      <td>0.030174</td>\n",
       "      <td>0.030174</td>\n",
       "    </tr>\n",
       "    <tr>\n",
       "      <th>1995</th>\n",
       "      <td>0.028433</td>\n",
       "      <td>0.028627</td>\n",
       "    </tr>\n",
       "    <tr>\n",
       "      <th>1994</th>\n",
       "      <td>0.027079</td>\n",
       "      <td>0.027079</td>\n",
       "    </tr>\n",
       "    <tr>\n",
       "      <th>1993</th>\n",
       "      <td>0.027273</td>\n",
       "      <td>0.027466</td>\n",
       "    </tr>\n",
       "    <tr>\n",
       "      <th>1992</th>\n",
       "      <td>0.026789</td>\n",
       "      <td>0.026692</td>\n",
       "    </tr>\n",
       "    <tr>\n",
       "      <th>1991</th>\n",
       "      <td>0.026306</td>\n",
       "      <td>0.026306</td>\n",
       "    </tr>\n",
       "  </tbody>\n",
       "</table>\n",
       "</div>"
      ],
      "text/plain": [
       "       train %    test %\n",
       "2021  0.037814  0.037524\n",
       "2020  0.034913  0.034816\n",
       "2019  0.037331  0.037524\n",
       "2018  0.038685  0.038685\n",
       "2017  0.035106  0.035203\n",
       "2016  0.034623  0.034429\n",
       "2015  0.035783  0.035590\n",
       "2014  0.034526  0.034429\n",
       "2013  0.034333  0.034429\n",
       "2012  0.033656  0.033656\n",
       "2011  0.032785  0.032882\n",
       "2010  0.032108  0.032108\n",
       "2009  0.032302  0.032495\n",
       "2008  0.032882  0.032882\n",
       "2007  0.033462  0.033269\n",
       "2006  0.032979  0.032882\n",
       "2005  0.032689  0.032882\n",
       "2004  0.030851  0.030948\n",
       "2003  0.031044  0.030948\n",
       "2002  0.031528  0.031721\n",
       "2001  0.031915  0.031721\n",
       "2000  0.032495  0.032495\n",
       "1999  0.029594  0.029787\n",
       "1998  0.030658  0.030561\n",
       "1997  0.029884  0.029787\n",
       "1996  0.030174  0.030174\n",
       "1995  0.028433  0.028627\n",
       "1994  0.027079  0.027079\n",
       "1993  0.027273  0.027466\n",
       "1992  0.026789  0.026692\n",
       "1991  0.026306  0.026306"
      ]
     },
     "execution_count": 16,
     "metadata": {},
     "output_type": "execute_result"
    }
   ],
   "source": [
    "from sklearn.model_selection import train_test_split\n",
    "\n",
    "df_train, df_test = train_test_split(\n",
    "    df_clean,\n",
    "    test_size=0.2,\n",
    "    stratify=df_clean['SEASON_ID'],\n",
    "    random_state=99\n",
    ")\n",
    "\n",
    "print(f'Temos {df_train.shape} dados de treino e {df_test.shape} dados de teste.\\n')\n",
    "\n",
    "# Proporção de registros por temporada entre treino e teste\n",
    "s_train = df_train['SEASON_ID'].value_counts(normalize=True).rename('train %')\n",
    "s_test = df_test['SEASON_ID'].value_counts(normalize=True).rename('test %')\n",
    "s_train.to_frame().join(s_test).sort_index(ascending=False)"
   ]
  },
  {
   "cell_type": "markdown",
   "id": "b1a52a1d-1e9f-41af-a3c9-7bba734a89ad",
   "metadata": {},
   "source": [
    "## 4. Análise exploratória"
   ]
  },
  {
   "cell_type": "markdown",
   "id": "5b9b1864-7ddb-4f58-add6-585d529bcf83",
   "metadata": {},
   "source": [
    "### 4.1. Distribuição por temporada"
   ]
  },
  {
   "cell_type": "code",
   "execution_count": 17,
   "id": "13a499e9",
   "metadata": {},
   "outputs": [
    {
     "data": {
      "image/png": "[encoded data removed]",
      "text/plain": [
       "<Figure size 576x288 with 1 Axes>"
      ]
     },
     "metadata": {},
     "output_type": "display_data"
    }
   ],
   "source": [
    "# Quantidade de jogadores por temporada\n",
    "plt.figure(figsize=(8, 4))\n",
    "\n",
    "ax = sns.lineplot(x = df_train.groupby('SEASON_ID').count().iloc[:,1].index, \n",
    "             y = df_train.groupby('SEASON_ID').count().iloc[:,1])\n",
    "ax.set_ylabel('Jogadores')\n",
    "ax.set_xlabel('Temporada')\n",
    "ax.set_title('Quantidade de Jogadores por temporada')\n",
    "\n",
    "plt.show()"
   ]
  },
  {
   "cell_type": "code",
   "execution_count": 18,
   "id": "7210b9f6",
   "metadata": {},
   "outputs": [
    {
     "data": {
      "image/png": "[encoded data removed]",
      "text/plain": [
       "<Figure size 1152x576 with 4 Axes>"
      ]
     },
     "metadata": {},
     "output_type": "display_data"
    }
   ],
   "source": [
    "df_train_season = df_train.groupby('SEASON_ID').mean()\n",
    "\n",
    "fig, ax = plt.subplots(2, 2, figsize=(16, 8))\n",
    "\n",
    "# Gráfico da média de Idade\n",
    "sns.lineplot(data = df_train_season, x = df_train_season.index, y = df_train_season['PLAYER_AGE'], ax = ax[0][0])\n",
    "ax[0][0].set_ylabel('Idade')\n",
    "ax[0][0].set_xlabel('Temporada')\n",
    "ax[0][0].set_title('Média da idade por Temporada')\n",
    "\n",
    "# Gráfico da média de Salário\n",
    "sns.lineplot(data = df_train_season, x = df_train_season.index, y = df_train_season['SALARY_REAL'], ax = ax[0][1])\n",
    "ax[0][1].set_ylabel('Salário')\n",
    "ax[0][1].set_xlabel('Temporada')\n",
    "ax[0][1].set_title('Média de Salário por Temporada')\n",
    "\n",
    "# Gráfico da média de Minutos jogados por temporada\n",
    "sns.lineplot(data = df_train_season, x = df_train_season.index, y = df_train_season['MIN'], ax = ax[1][0])\n",
    "ax[1][0].set_ylabel('Minutos por jogo')\n",
    "ax[1][0].set_xlabel('Temporada')\n",
    "ax[1][0].set_title('Média de Minutos por Jogador por Temporada')\n",
    "\n",
    "# Gráfico da média de jogos jogados por temporada\n",
    "sns.lineplot(data = df_train_season, x = df_train_season.index, y = df_train_season['GP'], ax = ax[1][1])\n",
    "ax[1][1].set_ylabel('Jogos')\n",
    "ax[1][1].set_xlabel('Temporada')\n",
    "ax[1][1].set_title('Média de jogos por Jogador por Temporada')\n",
    "\n",
    "plt.tight_layout()\n",
    "plt.show()"
   ]
  },
  {
   "cell_type": "code",
   "execution_count": 19,
   "id": "d4132a35",
   "metadata": {},
   "outputs": [
    {
     "data": {
      "image/png": "[encoded data removed]",
      "text/plain": [
       "<Figure size 1152x864 with 6 Axes>"
      ]
     },
     "metadata": {},
     "output_type": "display_data"
    }
   ],
   "source": [
    "df_train_season = df_train.groupby('SEASON_ID').sum()\n",
    "\n",
    "fig, ax = plt.subplots(3, 2, figsize=(16, 12))\n",
    "\n",
    "# Gráfico do total de pontos\n",
    "sns.regplot(data = df_train_season, x = df_train_season.index, y = df_train_season['PTS'], ax = ax[0][0])\n",
    "ax[0][0].set_ylabel('Pontos')\n",
    "ax[0][0].set_xlabel('Temporada')\n",
    "ax[0][0].set_title('Total de Pontos por Temporada')\n",
    "\n",
    "# Gráfico do total de assistências\n",
    "sns.regplot(data = df_train_season, x = df_train_season.index, y = df_train_season['AST'], ax = ax[0][1])\n",
    "ax[0][1].set_ylabel('Assistências')\n",
    "ax[0][1].set_xlabel('Temporada')\n",
    "ax[0][1].set_title('Total de Assistência por Temporada')\n",
    "\n",
    "# Gráfico do total de Rebotes\n",
    "sns.regplot(data = df_train_season, x = df_train_season.index, y = df_train_season['REB'], ax = ax[1][0])\n",
    "ax[1][0].set_ylabel('Rebotes')\n",
    "ax[1][0].set_xlabel('Temporada')\n",
    "ax[1][0].set_title('Total de Rebotes por Temporada')\n",
    "\n",
    "# Gráfico do total de Roubos\n",
    "sns.regplot(data = df_train_season, x = df_train_season.index, y = df_train_season['STL'], ax = ax[1][1])\n",
    "ax[1][1].set_ylabel('Roubos')\n",
    "ax[1][1].set_xlabel('Temporada')\n",
    "ax[1][1].set_title('Total de Roubos por Temporada')\n",
    "\n",
    "# Gráfico do total de Tocos\n",
    "sns.regplot(data = df_train_season, x = df_train_season.index, y = df_train_season['BLK'], ax = ax[2][0])\n",
    "ax[2][0].set_ylabel('Tocos')\n",
    "ax[2][0].set_xlabel('Temporada')\n",
    "ax[2][0].set_title('Total de Tocos por Temporada')\n",
    "\n",
    "# Gráfico do total de Turnover\n",
    "sns.regplot(data = df_train_season, x = df_train_season.index, y = df_train_season['TOV'], ax = ax[2][1])\n",
    "ax[2][1].set_ylabel('Turnover')\n",
    "ax[2][1].set_xlabel('Temporada')\n",
    "ax[2][1].set_title('Total de Turnover por Temporada')\n",
    "\n",
    "plt.tight_layout()\n",
    "plt.show()"
   ]
  },
  {
   "cell_type": "markdown",
   "id": "0e7fb658",
   "metadata": {},
   "source": [
    "Pelos gráficos é possível ver que o número de jogadores por temporadas aumentou com o passar dos anos, acompanhado pelo aumento da média salarial e a redução da idade média dos jogadores. Esse aumento de jogadores fez com que a média de minutos e a quantidade de jogos que os jogadores fizeram por temporada reduzisse também.\n",
    "\n",
    "Além disso, o total de pontos e rebotes totais por temporada tem aumentado, enquanto o volume total de roubos e turnover têm demonstrado uma tendência de queda. A quantidade de tocos e assistências não indica nenhuma variação.\n",
    "\n",
    "Dois *outliers* são bem visíveis pelos gráficos. Nos anos de [1999](https://pt.wikipedia.org/wiki/Locaute_da_NBA_de_1998-99) e [2011](https://pt.wikipedia.org/wiki/Locaute_da_NBA_de_2011) ocorreram locautes na NBA devido à divergencias entre os jogadores e os donos dos times. Devido a problemas relacionados à impasse financeiro, ambas as temporadas tiveram seu início adiado e consequentemente a quantidade de jogos foram reduzidas. A temporada de 2011 teve 66 partidas e a temporada 1999 apenas 50, em vez das tradicionais 82. Devido a esse fato, as estatísticas destas temporadas possuem um comportamento diferente das demais, sendo *outliers* em quase todos os gráficos.\n",
    "\n"
   ]
  },
  {
   "cell_type": "markdown",
   "id": "9faaeac7",
   "metadata": {},
   "source": [
    "### 4.2. Distribuição por jogadores"
   ]
  },
  {
   "cell_type": "code",
   "execution_count": 20,
   "id": "9e918a5d",
   "metadata": {},
   "outputs": [
    {
     "data": {
      "image/png": "[encoded data removed]",
      "text/plain": [
       "<Figure size 1152x576 with 4 Axes>"
      ]
     },
     "metadata": {},
     "output_type": "display_data"
    }
   ],
   "source": [
    "df_train_player = df_train.groupby('PLAYER_NAME')\n",
    "\n",
    "fig, ax = plt.subplots(2, 2, figsize=(16, 8))\n",
    "\n",
    "# Boxplot de Temporadas\n",
    "ax0 = sns.boxplot(x = df_train_player.count()['SEASON_ID'], ax = ax[0][0])\n",
    "ax0.set_xlabel('Temporadas')\n",
    "ax0.set_title('Quantidade de Temporadas jogadas por jogador')\n",
    "\n",
    "# Boxplot de Salário\n",
    "ax1 = sns.boxplot(x = df_train_player.sum()['SALARY_REAL'], ax = ax[0][1])\n",
    "ax1.set_xlabel('Salário')\n",
    "ax1.set(xlim = (0,500000000))\n",
    "xlabels = ['${:,.0f}'.format(x) + 'M' for x in ax1.get_xticks()/1000000]\n",
    "ax1.set_xticklabels(xlabels)\n",
    "ax1.set_title('Valores recebidos totais por jogador (Salário Corrigido)')\n",
    "\n",
    "# Boxplot de minutos\n",
    "ax2 = sns.boxplot(x = df_train_player.sum()['MIN'], ax = ax[1][0])\n",
    "ax2.set_xlabel('Minutos')\n",
    "ax2.set_title('Minutos totais jogados por jogador')\n",
    "\n",
    "# Boxplot de jogos\n",
    "ax3 = sns.boxplot(x = df_train_player.sum()['GP'], ax = ax[1][1])\n",
    "ax3.set_xlabel('Jogos')\n",
    "ax3.set_title('Quantidade de jogos por jogador')\n",
    "\n",
    "plt.tight_layout()\n",
    "plt.show()"
   ]
  },
  {
   "cell_type": "markdown",
   "id": "8e464dc9",
   "metadata": {},
   "source": [
    "Pelos boxplots gerados, é possível ver que a distribuição de temporadas jogadas, salário recebido, minutos totais jogados e quantidade de jogos jogadas por cada jogador possui uma distribuição *assimétrica à direita*, de modo a ocorrer uma concentração de jogadores nos valores menores e alguns outliers nos valores mais altos."
   ]
  },
  {
   "cell_type": "markdown",
   "id": "953f9d31",
   "metadata": {},
   "source": [
    "### 4.3. Correlações\n",
    "\n",
    "Vamos verificar as correlações das principais estatísticas dos jogadores. Como todas as temporadas estão sendo vistas em conjunto, utilizaremos a coluna de *Salário Real* como parâmetro de comparação, para evitar questões relacionadas a inflação e atualização monetária"
   ]
  },
  {
   "cell_type": "code",
   "execution_count": 21,
   "id": "80f6f3b8",
   "metadata": {
    "scrolled": true
   },
   "outputs": [],
   "source": [
    "def correlation_map(df):\n",
    "    correlation_table = df.corr()\n",
    "\n",
    "    plt.figure(figsize=(8, 6))\n",
    "\n",
    "    mask = np.zeros_like(correlation_table)\n",
    "    mask[np.triu_indices_from(mask, k=1)] = True\n",
    "\n",
    "    sns.heatmap(\n",
    "        correlation_table,\n",
    "        mask=mask,\n",
    "        linewidths=.3,\n",
    "        cmap=sns.diverging_palette(20, 220, as_cmap=True),\n",
    "        vmin=-1,\n",
    "        vmax=1,\n",
    "        annot=True,\n",
    "        fmt='.2f')\n",
    "    plt.show()"
   ]
  },
  {
   "cell_type": "code",
   "execution_count": 22,
   "id": "cd790f0d",
   "metadata": {},
   "outputs": [
    {
     "data": {
      "image/png": "[encoded data removed]",
      "text/plain": [
       "<Figure size 576x432 with 2 Axes>"
      ]
     },
     "metadata": {},
     "output_type": "display_data"
    }
   ],
   "source": [
    "correlation_map(df_train[['REB', 'AST', 'STL', 'BLK', 'TOV', 'PTS', 'SALARY_REAL']])"
   ]
  },
  {
   "cell_type": "markdown",
   "id": "af4288f5",
   "metadata": {},
   "source": [
    "Pelo mapa de correlação é possível verificar que várias estatísticas possuem uma alta correlação, como pontos (*PTS*) que possui uma correlação alta em relação à rebotes (*REB*), assistências (*AST*), roubos (*STL*) e turnover (*TOV*).\n",
    "\n",
    "Vamos verificar algumas outras correlações e ver como elas se comportam"
   ]
  },
  {
   "cell_type": "code",
   "execution_count": 23,
   "id": "a7d9017a",
   "metadata": {},
   "outputs": [
    {
     "data": {
      "image/png": "[encoded data removed]",
      "text/plain": [
       "<Figure size 576x432 with 2 Axes>"
      ]
     },
     "metadata": {},
     "output_type": "display_data"
    }
   ],
   "source": [
    "# Atributos ligados a pontuação\n",
    "correlation_map(df_train[['PTS', 'FGM', 'FGA', 'FG_PCT', 'FG3M', 'FG3A', 'FG3_PCT', 'FTM', 'FTA', 'FT_PCT', 'SALARY_REAL']])"
   ]
  },
  {
   "cell_type": "markdown",
   "id": "8b00ef3b",
   "metadata": {},
   "source": [
    "Em relação a pontuação, algumas correlações esperadas foram encontradas, como entre *PTS* e *FGM* (quem faz mais pontos é quem acerta mais arremessos). Por outro lado alguns valores encontrados são interessantes, como a correlação nula entre percentual de arremessos totais acertados (*FG_PCT*) e percentual de arremessos de 3 pontos acertados (*FG3_PCT*)."
   ]
  },
  {
   "cell_type": "code",
   "execution_count": 24,
   "id": "16504637",
   "metadata": {},
   "outputs": [
    {
     "data": {
      "image/png": "[encoded data removed]",
      "text/plain": [
       "<Figure size 576x432 with 2 Axes>"
      ]
     },
     "metadata": {},
     "output_type": "display_data"
    }
   ],
   "source": [
    "# Atributos ligados a tempo de jogo\n",
    "correlation_map(df_train[['PLAYER_AGE', 'GP', 'GS', 'MIN', 'SALARY_REAL']])"
   ]
  },
  {
   "cell_type": "markdown",
   "id": "63d56a5b",
   "metadata": {},
   "source": [
    "Em relação a variáveis relacionadas a tempo de jogo, o atributo *GS* (começar o jogo como titular) possui a maior correlação com a variável alvo.\n",
    "\n",
    "Para tentar evitar a multicolinearidade, vamos transformar algumas colunas para tentar reduzir a correlação entre os atributos. Em relação as estatísticas de pontos, rebotes e assistências, vamos dividi-las pelos minutos jogados para equalizar os atributos. "
   ]
  },
  {
   "cell_type": "code",
   "execution_count": 25,
   "id": "98973215",
   "metadata": {},
   "outputs": [
    {
     "data": {
      "image/png": "[encoded data removed]",
      "text/plain": [
       "<Figure size 576x432 with 2 Axes>"
      ]
     },
     "metadata": {},
     "output_type": "display_data"
    }
   ],
   "source": [
    "df_feat_select = pd.DataFrame(df_train[['SALARY_REAL', 'GS', 'PLAYER_AGE', 'FG_PCT', 'FG3A']])\n",
    "df_feat_select['REB/MIN'] = df_train['REB'] / df_train['MIN']\n",
    "df_feat_select['AST/MIN'] = df_train['AST'] / df_train['MIN']\n",
    "df_feat_select['PTS/MIN'] = df_train['PTS'] / df_train['MIN']\n",
    "correlation_map(df_feat_select)"
   ]
  },
  {
   "cell_type": "markdown",
   "id": "062c3f60-47b0-4aab-8cbd-2bb0f96eedf8",
   "metadata": {},
   "source": [
    "## 5. *Pipeline* de pré-processamento"
   ]
  },
  {
   "cell_type": "markdown",
   "id": "0de4459d-d438-4b08-b3fc-f87c18d40cac",
   "metadata": {},
   "source": [
    "A partir das observações na análise exploratória, decidimos selecionar os seguintes atributos para treinamento de modelos de aprendizado de máquina:\n",
    "- `GS`: Jogos iniciados pelo jogador como titular\n",
    "- `PLAYER_AGE`: Idade do jogador\n",
    "- `FG_PCT`: Percentual de arremessos convertidos\n",
    "- `FG3A`: Tentativas de arremessos para 3 pontos\n",
    "- `REB/MIN`: Rebotes por minuto\n",
    "- `AST/MIN`: Assistências por minuto\n",
    "- `PTS/MIN`: Pontos por minuto\n",
    "\n",
    "Vamos criar um transformador personalizado para realizar a seleção de atributos dentro de um *pipeline* para treinamento do modelo."
   ]
  },
  {
   "cell_type": "code",
   "execution_count": 26,
   "id": "532943b1-62b4-49b8-a0b9-3a299481a306",
   "metadata": {},
   "outputs": [],
   "source": [
    "from sklearn.base import BaseEstimator, TransformerMixin\n",
    "\n",
    "# Transformador para selecionar as features de treinamento do modelo\n",
    "class FeatureSelector(BaseEstimator, TransformerMixin):\n",
    "    \n",
    "    def fit(self, X, y=None):\n",
    "        return self\n",
    "    \n",
    "    def transform(self, X):\n",
    "        X = pd.DataFrame(X).copy()\n",
    "        X_new = X[['GS', 'PLAYER_AGE', 'FG_PCT', 'FG3A']]\n",
    "        X_new['REB/MIN'] = X['REB'] / X['MIN'].apply(lambda x: 1 if x == 0 else x)\n",
    "        X_new['AST/MIN'] = X['AST'] / X['MIN'].apply(lambda x: 1 if x == 0 else x)\n",
    "        X_new['PTS/MIN'] = X['PTS'] / X['MIN'].apply(lambda x: 1 if x == 0 else x)\n",
    "        return X_new"
   ]
  },
  {
   "cell_type": "code",
   "execution_count": 27,
   "id": "a1bb9890-2d71-49e6-a5e5-8b7d34184499",
   "metadata": {},
   "outputs": [],
   "source": [
    "from sklearn.compose import ColumnTransformer\n",
    "\n",
    "select_attributes = ['GS', 'PLAYER_AGE', 'FG_PCT', 'FG3A', 'REB', 'AST', 'PTS', 'MIN']\n",
    "\n",
    "feature_select = ColumnTransformer([\n",
    "    ('feature_select', FeatureSelector(), select_attributes),\n",
    "])"
   ]
  },
  {
   "cell_type": "markdown",
   "id": "b060a496-70bb-4af1-a0a3-ae8168f37be3",
   "metadata": {},
   "source": [
    "## 6. Modelos de Aprendizado de Máquina"
   ]
  },
  {
   "cell_type": "markdown",
   "id": "cbc3bdaf-c0f0-4cc3-9791-34650f544546",
   "metadata": {},
   "source": [
    "### 6.1. Preparação dos dados"
   ]
  },
  {
   "cell_type": "markdown",
   "id": "7e7e198d-ae9d-4013-9e2a-398668c831ee",
   "metadata": {},
   "source": [
    "Vamos treinar modelos distintos para cada temporada usando as variáveis independentes selecionadas anteriormente. Para equalizar e retirar os efeitos da inflação, vamos utilizar como variável alvo o `SALARY_REAL`.\n",
    "\n",
    "Primeiramente, vamos separar os conjutos de dado de treinamento e de teste para cada temporada. E, em cada temporada, separamos as variáveis independentes (*features*) e a variável alvo (*target*)"
   ]
  },
  {
   "cell_type": "code",
   "execution_count": 28,
   "id": "0b0f7543-2556-42cd-9833-5daf52e7c44e",
   "metadata": {},
   "outputs": [],
   "source": [
    "season_keys = sorted(df_train.SEASON_ID.unique())\n",
    "\n",
    "df_seasons = {}\n",
    "for season in season_keys:\n",
    "    train = df_train[df_train['SEASON_ID'] == season].copy()\n",
    "    X_train = train.drop(columns=['SEASON_ID', 'SALARY_REAL', 'SALARY_NOMINAL'])\n",
    "    y_train = train['SALARY_REAL'].values\n",
    "    \n",
    "    test = df_test[df_test['SEASON_ID'] == season].copy()\n",
    "    X_test = test.drop(columns=['SEASON_ID', 'SALARY_REAL', 'SALARY_NOMINAL'])\n",
    "    y_test = test['SALARY_REAL'].values\n",
    "    \n",
    "    df_seasons[season] = {\n",
    "        'X_train': X_train,\n",
    "        'y_train': y_train,\n",
    "        'X_test': X_test,\n",
    "        'y_test': y_test\n",
    "    }"
   ]
  },
  {
   "cell_type": "code",
   "execution_count": 29,
   "id": "8a954127-1918-4bfc-8ee2-f1d7496e2ec3",
   "metadata": {},
   "outputs": [
    {
     "data": {
      "text/plain": [
       "((272, 22), (272,))"
      ]
     },
     "execution_count": 29,
     "metadata": {},
     "output_type": "execute_result"
    }
   ],
   "source": [
    "df_seasons[1991]['X_train'].shape, df_seasons[1991]['y_train'].shape"
   ]
  },
  {
   "cell_type": "code",
   "execution_count": 30,
   "id": "535e8065-a93f-49ff-918b-9f2becf02e20",
   "metadata": {},
   "outputs": [
    {
     "data": {
      "text/plain": [
       "((68, 22), (68,))"
      ]
     },
     "execution_count": 30,
     "metadata": {},
     "output_type": "execute_result"
    }
   ],
   "source": [
    "df_seasons[1991]['X_test'].shape, df_seasons[1991]['y_test'].shape"
   ]
  },
  {
   "cell_type": "markdown",
   "id": "735936be-5d96-4c2a-9c2e-48b689f119db",
   "metadata": {},
   "source": [
    "### 6.2. Treinamento dos modelos"
   ]
  },
  {
   "cell_type": "markdown",
   "id": "780e0326-b217-42d4-a507-c125ca99a476",
   "metadata": {},
   "source": [
    "Para treinar os modelos, utilizaremos o [GridSearchCV](https://scikit-learn.org/stable/modules/generated/sklearn.model_selection.GridSearchCV.html) para busca dos melhores hiperparâmetros. Será realizada validação cruzada para avaliação do treinamento, utilizando o **Kfold** com 5 grupos.\n",
    "\n",
    "A métrica utilizada para a avaliação dos modelos será o [RMSE](https://scikit-learn.org/stable/modules/generated/sklearn.metrics.mean_squared_error.html)."
   ]
  },
  {
   "cell_type": "code",
   "execution_count": 31,
   "id": "3e6dad42-893b-4464-9256-3d44b86f2ad4",
   "metadata": {},
   "outputs": [],
   "source": [
    "from sklearn.pipeline import Pipeline\n",
    "from sklearn.model_selection import GridSearchCV\n",
    "from sklearn.metrics import mean_squared_error"
   ]
  },
  {
   "cell_type": "markdown",
   "id": "684107be-cc5c-4854-a489-d1b51d7d1677",
   "metadata": {},
   "source": [
    "Vamos guardar os tempos de execução de cada modelo, para comparações de execução em diferentes plataformas. Guardamos também os melhores modelos encontrados em cada caso pelo *GridSearch*"
   ]
  },
  {
   "cell_type": "code",
   "execution_count": 32,
   "id": "0ddb208f",
   "metadata": {},
   "outputs": [],
   "source": [
    "import time\n",
    "\n",
    "# Dicionário para armazenar o tempo de processamento de cada modelo\n",
    "times = {}\n",
    "\n",
    "# Dicionário para armazenar os resultados com o melhor modelo treinado e o respectivo RMSE\n",
    "models = {}"
   ]
  },
  {
   "cell_type": "markdown",
   "id": "ff481196-202c-447d-9bc0-9990ea317bca",
   "metadata": {},
   "source": [
    "Implementamos uma função que realiza toda parte \"burocrática\" do treinamento com cada algoritmo. Dessa forma, podemos focar na definição dos parâmetros, com menos propensão a erros de implementação."
   ]
  },
  {
   "cell_type": "code",
   "execution_count": 33,
   "id": "e2833a1e-eccc-4de6-9c07-339a0c000cc7",
   "metadata": {},
   "outputs": [],
   "source": [
    "def model_trainer(df_seasons, name, param_grid, pipeline, cv=5, scoring=\"neg_root_mean_squared_error\"):\n",
    "    \n",
    "    results = pd.DataFrame(index=df_seasons.keys(), columns=['RMSE', 'model'])\n",
    "    \n",
    "    for season, data in df_seasons.items():\n",
    "        X_train, y_train = data['X_train'], data['y_train']\n",
    "        X_test, y_test = data['X_test'], data['y_test']\n",
    "    \n",
    "        model = GridSearchCV(pipeline, param_grid, cv=cv, scoring=scoring)\n",
    "        model.fit(X_train, y_train)\n",
    "    \n",
    "        best_model = model.best_estimator_\n",
    "        y_pred = best_model.predict(X_test)\n",
    "    \n",
    "        results.loc[season, :] = [mean_squared_error(y_test, y_pred, squared=False), best_model]\n",
    "        \n",
    "    return results"
   ]
  },
  {
   "cell_type": "markdown",
   "id": "46ce548e",
   "metadata": {
    "tags": []
   },
   "source": [
    "#### 6.2.1. LinearRegression\n",
    "\n",
    "O Primeiro modelo a ser testado será de [Regressão Linear](https://scikit-learn.org/stable/modules/generated/sklearn.linear_model.LinearRegression.html) simples. Vamos utilizar o [RobustScaler](https://scikit-learn.org/stable/modules/generated/sklearn.preprocessing.RobustScaler.html) para normalizar os dados.\n",
    "\n",
    "O único hiperparâmetro a ser testados será o `fit_intercept`."
   ]
  },
  {
   "cell_type": "code",
   "execution_count": 34,
   "id": "81b42cf1",
   "metadata": {},
   "outputs": [
    {
     "data": {
      "text/html": [
       "<div>\n",
       "<style scoped>\n",
       "    .dataframe tbody tr th:only-of-type {\n",
       "        vertical-align: middle;\n",
       "    }\n",
       "\n",
       "    .dataframe tbody tr th {\n",
       "        vertical-align: top;\n",
       "    }\n",
       "\n",
       "    .dataframe thead th {\n",
       "        text-align: right;\n",
       "    }\n",
       "</style>\n",
       "<table border=\"1\" class=\"dataframe\">\n",
       "  <thead>\n",
       "    <tr style=\"text-align: right;\">\n",
       "      <th></th>\n",
       "      <th>RMSE</th>\n",
       "      <th>model</th>\n",
       "    </tr>\n",
       "  </thead>\n",
       "  <tbody>\n",
       "    <tr>\n",
       "      <th>1991</th>\n",
       "      <td>1410225.803259</td>\n",
       "      <td>(ColumnTransformer(transformers=[('feature_sel...</td>\n",
       "    </tr>\n",
       "    <tr>\n",
       "      <th>1992</th>\n",
       "      <td>1486397.770416</td>\n",
       "      <td>(ColumnTransformer(transformers=[('feature_sel...</td>\n",
       "    </tr>\n",
       "    <tr>\n",
       "      <th>1993</th>\n",
       "      <td>1175057.822701</td>\n",
       "      <td>(ColumnTransformer(transformers=[('feature_sel...</td>\n",
       "    </tr>\n",
       "  </tbody>\n",
       "</table>\n",
       "</div>"
      ],
      "text/plain": [
       "                RMSE                                              model\n",
       "1991  1410225.803259  (ColumnTransformer(transformers=[('feature_sel...\n",
       "1992  1486397.770416  (ColumnTransformer(transformers=[('feature_sel...\n",
       "1993  1175057.822701  (ColumnTransformer(transformers=[('feature_sel..."
      ]
     },
     "execution_count": 34,
     "metadata": {},
     "output_type": "execute_result"
    }
   ],
   "source": [
    "from sklearn.linear_model import LinearRegression\n",
    "from sklearn.preprocessing import RobustScaler\n",
    "\n",
    "name = 'LinearModel'\n",
    "\n",
    "param_grid = [{\n",
    "    'regressor__fit_intercept': [False, True]\n",
    "}]\n",
    "\n",
    "pipeline = Pipeline([\n",
    "    ('feature_selector', feature_select),\n",
    "    ('robust_scaler', RobustScaler()),\n",
    "    ('regressor', LinearRegression())\n",
    "])\n",
    "\n",
    "t_i = time.time()\n",
    "models[name] = model_trainer(df_seasons, name, param_grid, pipeline)\n",
    "times[name] = time.time() - t_i\n",
    "\n",
    "models[name].head(3)"
   ]
  },
  {
   "cell_type": "markdown",
   "id": "04ddad9a",
   "metadata": {
    "tags": []
   },
   "source": [
    "#### 6.2.2. RandomForestRegressor\n",
    "\n",
    "O Segundo modelo a ser testado será o [RandomForestRegressor](https://scikit-learn.org/stable/modules/generated/sklearn.ensemble.RandomForestRegressor.html). Utilizando o *GridSearchCV* vamos testar os seguintes hiperparâmetros. \n",
    "\n",
    "* `min_samples_split`: O número mínimo de amostras necessárias para dividir um nó interno [2, 5]\n",
    "* `max_depth`: Profundidade máxima da árvore de decisão criada [3, 5]\n",
    "* `min_samples_leaf`: O número mínimo de amostras necessárias para estar em um nó folha [1, 3]\n",
    "\n",
    "O controle dos hiperparâmetros são importantes para evitar o overfit. A métrica utilizada para a avaliação vai ser o [RMSE](https://scikit-learn.org/stable/modules/generated/sklearn.metrics.mean_squared_error.html).\n",
    "\n"
   ]
  },
  {
   "cell_type": "code",
   "execution_count": 35,
   "id": "a287230c-84f4-432b-b71a-5d694d8f237f",
   "metadata": {},
   "outputs": [
    {
     "data": {
      "text/html": [
       "<div>\n",
       "<style scoped>\n",
       "    .dataframe tbody tr th:only-of-type {\n",
       "        vertical-align: middle;\n",
       "    }\n",
       "\n",
       "    .dataframe tbody tr th {\n",
       "        vertical-align: top;\n",
       "    }\n",
       "\n",
       "    .dataframe thead th {\n",
       "        text-align: right;\n",
       "    }\n",
       "</style>\n",
       "<table border=\"1\" class=\"dataframe\">\n",
       "  <thead>\n",
       "    <tr style=\"text-align: right;\">\n",
       "      <th></th>\n",
       "      <th>RMSE</th>\n",
       "      <th>model</th>\n",
       "    </tr>\n",
       "  </thead>\n",
       "  <tbody>\n",
       "    <tr>\n",
       "      <th>1991</th>\n",
       "      <td>1343448.086184</td>\n",
       "      <td>(ColumnTransformer(transformers=[('feature_sel...</td>\n",
       "    </tr>\n",
       "    <tr>\n",
       "      <th>1992</th>\n",
       "      <td>1308389.884299</td>\n",
       "      <td>(ColumnTransformer(transformers=[('feature_sel...</td>\n",
       "    </tr>\n",
       "    <tr>\n",
       "      <th>1993</th>\n",
       "      <td>1209452.975085</td>\n",
       "      <td>(ColumnTransformer(transformers=[('feature_sel...</td>\n",
       "    </tr>\n",
       "  </tbody>\n",
       "</table>\n",
       "</div>"
      ],
      "text/plain": [
       "                RMSE                                              model\n",
       "1991  1343448.086184  (ColumnTransformer(transformers=[('feature_sel...\n",
       "1992  1308389.884299  (ColumnTransformer(transformers=[('feature_sel...\n",
       "1993  1209452.975085  (ColumnTransformer(transformers=[('feature_sel..."
      ]
     },
     "execution_count": 35,
     "metadata": {},
     "output_type": "execute_result"
    }
   ],
   "source": [
    "from sklearn.ensemble import RandomForestRegressor\n",
    "\n",
    "name = 'RandomForestRegressor'\n",
    "\n",
    "param_grid = [{\n",
    "    'regressor__min_samples_split': [2, 5],\n",
    "    'regressor__max_depth': [3, 5],\n",
    "    'regressor__min_samples_leaf': [1, 3]\n",
    "}]\n",
    "\n",
    "pipeline = Pipeline([\n",
    "    ('feature_selector', feature_select),\n",
    "    ('regressor', RandomForestRegressor(random_state=99))\n",
    "])\n",
    "\n",
    "t_i = time.time()\n",
    "models[name] = model_trainer(df_seasons, name, param_grid, pipeline)\n",
    "times[name] = time.time() - t_i\n",
    "\n",
    "models[name].head(3)"
   ]
  },
  {
   "cell_type": "markdown",
   "id": "395e0198",
   "metadata": {},
   "source": [
    "#### 6.2.3.  AdaBoostRegressor\n",
    "\n",
    "O [AdaBoostRegressor](https://scikit-learn.org/stable/modules/generated/sklearn.ensemble.AdaBoostRegressor.html) tem como princípio combinar em série uma sequência de algoritmos fracos, corrigindo-os e ponderando os erros para construir um modelo mais forte. Esse algoritmo usa como padrão uma árvore de regressão com profundidade máxima igual à 3. Além disso, o AdaBoost utiliza uma função de perda para atualizar e ponderar os pesos após cada iteração de reforço. Utilizando o *GridSearchCV* vamos testar os seguintes hiperparâmetros. \n",
    "\n",
    "* `learning_rate`: Peso aplicado a cada regressor em cada iteração de reforço. [1, 0.5, 0.1]\n",
    "* `loss`: A função de perda a ser usada ao atualizar os pesos após cada iteração de reforço [linear, square, exponential]\n"
   ]
  },
  {
   "cell_type": "code",
   "execution_count": 36,
   "id": "c01dd3ba-2791-47f6-8453-0a9ca75f8691",
   "metadata": {},
   "outputs": [
    {
     "data": {
      "text/html": [
       "<div>\n",
       "<style scoped>\n",
       "    .dataframe tbody tr th:only-of-type {\n",
       "        vertical-align: middle;\n",
       "    }\n",
       "\n",
       "    .dataframe tbody tr th {\n",
       "        vertical-align: top;\n",
       "    }\n",
       "\n",
       "    .dataframe thead th {\n",
       "        text-align: right;\n",
       "    }\n",
       "</style>\n",
       "<table border=\"1\" class=\"dataframe\">\n",
       "  <thead>\n",
       "    <tr style=\"text-align: right;\">\n",
       "      <th></th>\n",
       "      <th>RMSE</th>\n",
       "      <th>model</th>\n",
       "    </tr>\n",
       "  </thead>\n",
       "  <tbody>\n",
       "    <tr>\n",
       "      <th>1991</th>\n",
       "      <td>1372815.386377</td>\n",
       "      <td>(ColumnTransformer(transformers=[('feature_sel...</td>\n",
       "    </tr>\n",
       "    <tr>\n",
       "      <th>1992</th>\n",
       "      <td>1400558.621961</td>\n",
       "      <td>(ColumnTransformer(transformers=[('feature_sel...</td>\n",
       "    </tr>\n",
       "    <tr>\n",
       "      <th>1993</th>\n",
       "      <td>1212015.291764</td>\n",
       "      <td>(ColumnTransformer(transformers=[('feature_sel...</td>\n",
       "    </tr>\n",
       "  </tbody>\n",
       "</table>\n",
       "</div>"
      ],
      "text/plain": [
       "                RMSE                                              model\n",
       "1991  1372815.386377  (ColumnTransformer(transformers=[('feature_sel...\n",
       "1992  1400558.621961  (ColumnTransformer(transformers=[('feature_sel...\n",
       "1993  1212015.291764  (ColumnTransformer(transformers=[('feature_sel..."
      ]
     },
     "execution_count": 36,
     "metadata": {},
     "output_type": "execute_result"
    }
   ],
   "source": [
    "from sklearn.ensemble import AdaBoostRegressor\n",
    "\n",
    "name = 'AdaBoostRegressor'\n",
    "regressor = AdaBoostRegressor(random_state=99)\n",
    "\n",
    "param_grid = [{\n",
    "    'regressor__learning_rate': [1, 0.5, 0.1],\n",
    "    'regressor__loss': ['linear','square','exponential']\n",
    "}]\n",
    "\n",
    "pipeline = Pipeline([\n",
    "    ('feature_selector', feature_select),\n",
    "    ('regressor', regressor)\n",
    "])\n",
    "\n",
    "t_i = time.time()\n",
    "models[name] = model_trainer(df_seasons, name, param_grid, pipeline)\n",
    "times[name] = time.time() - t_i\n",
    "\n",
    "models[name].head(3)"
   ]
  },
  {
   "cell_type": "markdown",
   "id": "1e63a614",
   "metadata": {},
   "source": [
    "#### 6.2.4 Utilizando PCA\n",
    "\n",
    "A Análise de componentes principais ou [PCA](https://scikit-learn.org/stable/modules/generated/sklearn.decomposition.PCA.html) é um técnica de redução de dimensionalidade dos dados que projetas os atributos em dimensões inferiores tornando-as independentes. O objetivo do uso do PCA é utilizar todas as estatísticas dos jogadores, encontrando um mecanismo para condensar essas informações em um conjunto reduzido de variáveis perdendo o mínimo de informações possíveis. \n",
    "Além de testar os hiperparâmetros dos modelos no *GridSearchCV*, vamos testar dois hiperparâmetros do PCA:\n",
    "* `n_components`: número final de dimensões após a redução. [3, 5, 8].\n",
    "* `whiten`: Quando `True`, multiplica os `components_vectors` pela raiz quadrada de `n_samples` e divide pelos valores unitários, garantindo saídas não correlacionadas. Esse proceso remove algumas informações de sinais, mas pode melhorar a precisão preditiva dos estimadores. [True, False]"
   ]
  },
  {
   "cell_type": "code",
   "execution_count": 37,
   "id": "4b1fb0f3-5814-4125-9eea-ad6a2517645e",
   "metadata": {
    "tags": []
   },
   "outputs": [],
   "source": [
    "from sklearn.decomposition import PCA"
   ]
  },
  {
   "cell_type": "code",
   "execution_count": 38,
   "id": "c8514712-d072-4c78-8767-155e6db60d70",
   "metadata": {},
   "outputs": [
    {
     "data": {
      "text/html": [
       "<div>\n",
       "<style scoped>\n",
       "    .dataframe tbody tr th:only-of-type {\n",
       "        vertical-align: middle;\n",
       "    }\n",
       "\n",
       "    .dataframe tbody tr th {\n",
       "        vertical-align: top;\n",
       "    }\n",
       "\n",
       "    .dataframe thead th {\n",
       "        text-align: right;\n",
       "    }\n",
       "</style>\n",
       "<table border=\"1\" class=\"dataframe\">\n",
       "  <thead>\n",
       "    <tr style=\"text-align: right;\">\n",
       "      <th></th>\n",
       "      <th>RMSE</th>\n",
       "      <th>model</th>\n",
       "    </tr>\n",
       "  </thead>\n",
       "  <tbody>\n",
       "    <tr>\n",
       "      <th>1991</th>\n",
       "      <td>1338325.548629</td>\n",
       "      <td>(RobustScaler(), PCA(n_components=3), LinearRe...</td>\n",
       "    </tr>\n",
       "    <tr>\n",
       "      <th>1992</th>\n",
       "      <td>1324168.287469</td>\n",
       "      <td>(RobustScaler(), PCA(n_components=8), LinearRe...</td>\n",
       "    </tr>\n",
       "    <tr>\n",
       "      <th>1993</th>\n",
       "      <td>1169379.87459</td>\n",
       "      <td>(RobustScaler(), PCA(n_components=5), LinearRe...</td>\n",
       "    </tr>\n",
       "  </tbody>\n",
       "</table>\n",
       "</div>"
      ],
      "text/plain": [
       "                RMSE                                              model\n",
       "1991  1338325.548629  (RobustScaler(), PCA(n_components=3), LinearRe...\n",
       "1992  1324168.287469  (RobustScaler(), PCA(n_components=8), LinearRe...\n",
       "1993   1169379.87459  (RobustScaler(), PCA(n_components=5), LinearRe..."
      ]
     },
     "execution_count": 38,
     "metadata": {},
     "output_type": "execute_result"
    }
   ],
   "source": [
    "from sklearn.linear_model import LinearRegression\n",
    "\n",
    "name = 'LinearModel-PCA'\n",
    "\n",
    "param_grid = [{\n",
    "    'pca__n_components': [3, 5, 8],\n",
    "    'pca__whiten': [False, True],\n",
    "    'regressor__fit_intercept': [False, True]\n",
    "}]\n",
    "\n",
    "pipeline = Pipeline([\n",
    "    ('robust_scaler', RobustScaler()),\n",
    "    ('pca', PCA()),\n",
    "    ('regressor', LinearRegression())\n",
    "])\n",
    "\n",
    "t_i = time.time()\n",
    "models[name] = model_trainer(df_seasons, name, param_grid, pipeline)\n",
    "times[name] = time.time() - t_i\n",
    "\n",
    "models[name].head(3)"
   ]
  },
  {
   "cell_type": "code",
   "execution_count": 39,
   "id": "14e4ec1a-02e4-446e-a7eb-63671f2e28ba",
   "metadata": {},
   "outputs": [
    {
     "data": {
      "text/html": [
       "<div>\n",
       "<style scoped>\n",
       "    .dataframe tbody tr th:only-of-type {\n",
       "        vertical-align: middle;\n",
       "    }\n",
       "\n",
       "    .dataframe tbody tr th {\n",
       "        vertical-align: top;\n",
       "    }\n",
       "\n",
       "    .dataframe thead th {\n",
       "        text-align: right;\n",
       "    }\n",
       "</style>\n",
       "<table border=\"1\" class=\"dataframe\">\n",
       "  <thead>\n",
       "    <tr style=\"text-align: right;\">\n",
       "      <th></th>\n",
       "      <th>RMSE</th>\n",
       "      <th>model</th>\n",
       "    </tr>\n",
       "  </thead>\n",
       "  <tbody>\n",
       "    <tr>\n",
       "      <th>1991</th>\n",
       "      <td>1359342.092265</td>\n",
       "      <td>(RobustScaler(), PCA(n_components=3), (Decisio...</td>\n",
       "    </tr>\n",
       "    <tr>\n",
       "      <th>1992</th>\n",
       "      <td>1114044.523752</td>\n",
       "      <td>(RobustScaler(), PCA(n_components=8), (Decisio...</td>\n",
       "    </tr>\n",
       "    <tr>\n",
       "      <th>1993</th>\n",
       "      <td>1127707.671904</td>\n",
       "      <td>(RobustScaler(), PCA(n_components=8), (Decisio...</td>\n",
       "    </tr>\n",
       "  </tbody>\n",
       "</table>\n",
       "</div>"
      ],
      "text/plain": [
       "                RMSE                                              model\n",
       "1991  1359342.092265  (RobustScaler(), PCA(n_components=3), (Decisio...\n",
       "1992  1114044.523752  (RobustScaler(), PCA(n_components=8), (Decisio...\n",
       "1993  1127707.671904  (RobustScaler(), PCA(n_components=8), (Decisio..."
      ]
     },
     "execution_count": 39,
     "metadata": {},
     "output_type": "execute_result"
    }
   ],
   "source": [
    "from sklearn.ensemble import RandomForestRegressor\n",
    "\n",
    "name = 'RandomForestRegressor-PCA'\n",
    "regressor = RandomForestRegressor(random_state=99)\n",
    "\n",
    "param_grid = [{\n",
    "    'pca__n_components': [3, 5, 8],\n",
    "    'pca__whiten': [False, True],\n",
    "    'regressor__min_samples_split': [2, 5],\n",
    "    'regressor__max_depth': [3, 5],\n",
    "    'regressor__min_samples_leaf': [1, 3]\n",
    "}]\n",
    "\n",
    "pipeline = Pipeline([\n",
    "    ('robust_scaler', RobustScaler()),\n",
    "    ('pca', PCA()),\n",
    "    ('regressor', regressor)\n",
    "])\n",
    "\n",
    "t_i = time.time()\n",
    "models[name] = model_trainer(df_seasons, name, param_grid, pipeline)\n",
    "times[name] = time.time() - t_i\n",
    "\n",
    "models[name].head(3)"
   ]
  },
  {
   "cell_type": "code",
   "execution_count": 40,
   "id": "dd009b50-bd59-4ec4-b207-77a2b70dec68",
   "metadata": {},
   "outputs": [
    {
     "data": {
      "text/html": [
       "<div>\n",
       "<style scoped>\n",
       "    .dataframe tbody tr th:only-of-type {\n",
       "        vertical-align: middle;\n",
       "    }\n",
       "\n",
       "    .dataframe tbody tr th {\n",
       "        vertical-align: top;\n",
       "    }\n",
       "\n",
       "    .dataframe thead th {\n",
       "        text-align: right;\n",
       "    }\n",
       "</style>\n",
       "<table border=\"1\" class=\"dataframe\">\n",
       "  <thead>\n",
       "    <tr style=\"text-align: right;\">\n",
       "      <th></th>\n",
       "      <th>RMSE</th>\n",
       "      <th>model</th>\n",
       "    </tr>\n",
       "  </thead>\n",
       "  <tbody>\n",
       "    <tr>\n",
       "      <th>1991</th>\n",
       "      <td>1363808.043378</td>\n",
       "      <td>(RobustScaler(), PCA(n_components=3), (Decisio...</td>\n",
       "    </tr>\n",
       "    <tr>\n",
       "      <th>1992</th>\n",
       "      <td>1218171.755641</td>\n",
       "      <td>(RobustScaler(), PCA(n_components=8), (Decisio...</td>\n",
       "    </tr>\n",
       "    <tr>\n",
       "      <th>1993</th>\n",
       "      <td>1230784.286155</td>\n",
       "      <td>(RobustScaler(), PCA(n_components=8), (Decisio...</td>\n",
       "    </tr>\n",
       "  </tbody>\n",
       "</table>\n",
       "</div>"
      ],
      "text/plain": [
       "                RMSE                                              model\n",
       "1991  1363808.043378  (RobustScaler(), PCA(n_components=3), (Decisio...\n",
       "1992  1218171.755641  (RobustScaler(), PCA(n_components=8), (Decisio...\n",
       "1993  1230784.286155  (RobustScaler(), PCA(n_components=8), (Decisio..."
      ]
     },
     "execution_count": 40,
     "metadata": {},
     "output_type": "execute_result"
    }
   ],
   "source": [
    "from sklearn.ensemble import AdaBoostRegressor\n",
    "\n",
    "name = 'AdaBoostRegressor-PCA'\n",
    "regressor = AdaBoostRegressor(random_state=99)\n",
    "\n",
    "param_grid = [{\n",
    "    'pca__n_components': [3, 5, 8],\n",
    "    'pca__whiten': [False, True],\n",
    "    'regressor__learning_rate': [1, 0.5, 0.1],\n",
    "    'regressor__loss': ['linear','square','exponential']\n",
    "}]\n",
    "\n",
    "pipeline = Pipeline([\n",
    "    ('robust_scaler', RobustScaler()),\n",
    "    ('pca', PCA()),\n",
    "    ('regressor', regressor)\n",
    "])\n",
    "\n",
    "t_i = time.time()\n",
    "models[name] = model_trainer(df_seasons, name, param_grid, pipeline)\n",
    "times[name] = time.time() - t_i\n",
    "\n",
    "models[name].head(3)"
   ]
  },
  {
   "cell_type": "markdown",
   "id": "f5458ea0-5f8c-4f71-9077-1ab83eaf56a0",
   "metadata": {},
   "source": [
    "### 6.3. Resultados dos modelos"
   ]
  },
  {
   "cell_type": "code",
   "execution_count": 41,
   "id": "8e116ca8",
   "metadata": {},
   "outputs": [
    {
     "data": {
      "text/plain": [
       "<matplotlib.legend.Legend at 0xffff53c744f0>"
      ]
     },
     "execution_count": 41,
     "metadata": {},
     "output_type": "execute_result"
    },
    {
     "data": {
      "image/png": "[encoded data removed]",
      "text/plain": [
       "<Figure size 720x360 with 1 Axes>"
      ]
     },
     "metadata": {},
     "output_type": "display_data"
    }
   ],
   "source": [
    "plt.figure(figsize = (10,5))\n",
    "\n",
    "for name, model in models.items():\n",
    "    ax = sns.lineplot(x=model.index, y=model.RMSE, label=name)\n",
    "\n",
    "ax.legend()"
   ]
  },
  {
   "cell_type": "code",
   "execution_count": 42,
   "id": "7155621d-7d86-4dc7-abdc-92ed5608f241",
   "metadata": {},
   "outputs": [
    {
     "data": {
      "text/html": [
       "<div>\n",
       "<style scoped>\n",
       "    .dataframe tbody tr th:only-of-type {\n",
       "        vertical-align: middle;\n",
       "    }\n",
       "\n",
       "    .dataframe tbody tr th {\n",
       "        vertical-align: top;\n",
       "    }\n",
       "\n",
       "    .dataframe thead th {\n",
       "        text-align: right;\n",
       "    }\n",
       "</style>\n",
       "<table border=\"1\" class=\"dataframe\">\n",
       "  <thead>\n",
       "    <tr style=\"text-align: right;\">\n",
       "      <th></th>\n",
       "      <th>Modelo</th>\n",
       "      <th>Tempo (s)</th>\n",
       "    </tr>\n",
       "  </thead>\n",
       "  <tbody>\n",
       "    <tr>\n",
       "      <th>0</th>\n",
       "      <td>LinearModel</td>\n",
       "      <td>1.762681</td>\n",
       "    </tr>\n",
       "    <tr>\n",
       "      <th>1</th>\n",
       "      <td>RandomForestRegressor</td>\n",
       "      <td>109.010961</td>\n",
       "    </tr>\n",
       "    <tr>\n",
       "      <th>2</th>\n",
       "      <td>AdaBoostRegressor</td>\n",
       "      <td>58.066946</td>\n",
       "    </tr>\n",
       "    <tr>\n",
       "      <th>3</th>\n",
       "      <td>LinearModel-PCA</td>\n",
       "      <td>7.998156</td>\n",
       "    </tr>\n",
       "    <tr>\n",
       "      <th>4</th>\n",
       "      <td>RandomForestRegressor-PCA</td>\n",
       "      <td>626.185934</td>\n",
       "    </tr>\n",
       "    <tr>\n",
       "      <th>5</th>\n",
       "      <td>AdaBoostRegressor-PCA</td>\n",
       "      <td>333.705878</td>\n",
       "    </tr>\n",
       "  </tbody>\n",
       "</table>\n",
       "</div>"
      ],
      "text/plain": [
       "                      Modelo   Tempo (s)\n",
       "0                LinearModel    1.762681\n",
       "1      RandomForestRegressor  109.010961\n",
       "2          AdaBoostRegressor   58.066946\n",
       "3            LinearModel-PCA    7.998156\n",
       "4  RandomForestRegressor-PCA  626.185934\n",
       "5      AdaBoostRegressor-PCA  333.705878"
      ]
     },
     "execution_count": 42,
     "metadata": {},
     "output_type": "execute_result"
    }
   ],
   "source": [
    "# Tempos de execução\n",
    "pd.DataFrame({\n",
    "    'Modelo': times.keys(),\n",
    "    'Tempo (s)': times.values()\n",
    "})"
   ]
  },
  {
   "cell_type": "code",
   "execution_count": 43,
   "id": "456ea7d8-490d-4bb0-84e8-09ea103fbedc",
   "metadata": {},
   "outputs": [
    {
     "data": {
      "text/html": [
       "<div>\n",
       "<style scoped>\n",
       "    .dataframe tbody tr th:only-of-type {\n",
       "        vertical-align: middle;\n",
       "    }\n",
       "\n",
       "    .dataframe tbody tr th {\n",
       "        vertical-align: top;\n",
       "    }\n",
       "\n",
       "    .dataframe thead th {\n",
       "        text-align: right;\n",
       "    }\n",
       "</style>\n",
       "<table border=\"1\" class=\"dataframe\">\n",
       "  <thead>\n",
       "    <tr style=\"text-align: right;\">\n",
       "      <th></th>\n",
       "      <th>Modelo</th>\n",
       "      <th>RMSE médio</th>\n",
       "    </tr>\n",
       "  </thead>\n",
       "  <tbody>\n",
       "    <tr>\n",
       "      <th>0</th>\n",
       "      <td>LinearModel</td>\n",
       "      <td>3953508.32</td>\n",
       "    </tr>\n",
       "    <tr>\n",
       "      <th>1</th>\n",
       "      <td>RandomForestRegressor</td>\n",
       "      <td>3821707.33</td>\n",
       "    </tr>\n",
       "    <tr>\n",
       "      <th>2</th>\n",
       "      <td>AdaBoostRegressor</td>\n",
       "      <td>3896380.66</td>\n",
       "    </tr>\n",
       "    <tr>\n",
       "      <th>3</th>\n",
       "      <td>LinearModel-PCA</td>\n",
       "      <td>3871992.55</td>\n",
       "    </tr>\n",
       "    <tr>\n",
       "      <th>4</th>\n",
       "      <td>RandomForestRegressor-PCA</td>\n",
       "      <td>3994412.55</td>\n",
       "    </tr>\n",
       "    <tr>\n",
       "      <th>5</th>\n",
       "      <td>AdaBoostRegressor-PCA</td>\n",
       "      <td>4162507.27</td>\n",
       "    </tr>\n",
       "  </tbody>\n",
       "</table>\n",
       "</div>"
      ],
      "text/plain": [
       "                      Modelo  RMSE médio\n",
       "0                LinearModel  3953508.32\n",
       "1      RandomForestRegressor  3821707.33\n",
       "2          AdaBoostRegressor  3896380.66\n",
       "3            LinearModel-PCA  3871992.55\n",
       "4  RandomForestRegressor-PCA  3994412.55\n",
       "5      AdaBoostRegressor-PCA  4162507.27"
      ]
     },
     "execution_count": 43,
     "metadata": {},
     "output_type": "execute_result"
    }
   ],
   "source": [
    "# Erro médio entre as temporadas do modelo\n",
    "pd.DataFrame({\n",
    "    'Modelo': models.keys(),\n",
    "    'RMSE médio': [model.RMSE.mean().round(2) for model in models.values()]\n",
    "})"
   ]
  },
  {
   "cell_type": "markdown",
   "id": "34bdc069",
   "metadata": {},
   "source": [
    "## 7. Análise dos resultados\n",
    "\n",
    "Todos os modelos testados tiveram um RMSE médio das temporadas bem próximos, exceto o *AdaBoostRegressor-PCA*. A adição do PCA no pipeline do estimador aumentou o tempo de processamente, principamente devido à adição de novos hiperparâmetros para serem testados no GridSearchCV. \n",
    "\n",
    "A Regressão Linear foi o único modelo que teve uma melhora no valor do RMSE quando utilizado em conjunto com o PCA, sendo o segundo melhor classificador testado.\n",
    "\n",
    "O RandomForrestRegressor obteve o melhor valor de RMSE porém o maior tempo de processamento em relação aos outros modelos. A adição do PCA resultou em uma leve piora no erro do modelo e um aumento de cerca de 14 vezes no tempo de execução.\n",
    "\n",
    "O AdaBoostRegressor foi o modelo mais afetado pelo PCA. Embora o tempo de processamento não tenha aumentando muito, o RMSE teve um piora significativa.\n",
    "\n",
    "### 7.1. SageMaker\n",
    "\n",
    "Pensando em otimizar o tempo de processamento, vamos treinar os modelos utilizando o `SageMaker`. Para isso, criamos um github onde centralizamos todos os dados e notebooks criados e criamos a conexão com o Sagemaker. Para testar a criação dos modelos, testamos 4 instâncias diferentes: \n",
    "\n",
    "| Instância | vCPU | Memória | Preço por hora |\n",
    "|----------|------|---------| -------------- |\n",
    "| ml.t2.medium  | 2  | 4Gb  | 0,081 USD | \n",
    "| ml.t3.xlarge  | 2  | 8Gb  | 0,161 USD | \n",
    "| ml.t3.2xlarge | 8  | 32Gb | 0,645 USD | \n",
    "| ml.m5.4xlarge | 16 | 64Gb | 1,469 USD | \n",
    "\n",
    "Os resultados obtidos em cada estância estão abaixo\n",
    "\n",
    "![](../assets/runtime_SageMaker.png)\n",
    "\n",
    "A tabela a baixo mostra a relação tempo de processamento vs custo em cada uma das instâncias\n",
    "\n",
    "| Instância | Tempo de execução | Custo Total\n",
    "|---------------|-----------|---------| \n",
    "| ml.t2.medium  | 43,8 min  | 0,06 USD\n",
    "| ml.t3.xlarge  | 34,53 min | 0,09 USD\n",
    "| ml.t3.2xlarge | 32,57 min | 0,35 USD\n",
    "| ml.m5.4xlarge | 32,42 min | 0,79 USD\n",
    "\n",
    "A instância **ml.t3.xlarge** demonstrou-se mais adequada ao uso, seu tempo de execução é bem próximo das instâncias com maior poder de processamento, porém seu custo é bem inferior em relação às mesmas."
   ]
  },
  {
   "cell_type": "markdown",
   "id": "9cc2788e-f926-402e-ad0e-bf1e70308d62",
   "metadata": {},
   "source": [
    "## 8. Colocando o modelo em produção"
   ]
  },
  {
   "cell_type": "markdown",
   "id": "89612fc4-0c17-4117-823e-f7997a1dad01",
   "metadata": {},
   "source": [
    "Como última etapa, vamos levar o modelo para produção. A ideia é que os usuário possam realizar predições a partir de consultas a um *endpoint* de API.\n",
    "\n",
    "Para tanto, primeiramente exportamos o modelo com melhor desempenho. No caso, consideramos o **menor RMSE médio** e escolhemos o **RandomForestRegressor**."
   ]
  },
  {
   "cell_type": "code",
   "execution_count": 44,
   "id": "61e4a95b-6323-4401-95c4-2366447a5d66",
   "metadata": {},
   "outputs": [],
   "source": [
    "PROD_MODEL_PATH = '../data/final_model.joblib'"
   ]
  },
  {
   "cell_type": "code",
   "execution_count": 45,
   "id": "13661471",
   "metadata": {},
   "outputs": [
    {
     "data": {
      "text/plain": [
       "['../data/final_model.joblib']"
      ]
     },
     "execution_count": 45,
     "metadata": {},
     "output_type": "execute_result"
    }
   ],
   "source": [
    "import joblib\n",
    "\n",
    "prod_model = models['RandomForestRegressor'].model.to_dict()\n",
    "joblib.dump(prod_model, PROD_MODEL_PATH)"
   ]
  },
  {
   "cell_type": "markdown",
   "id": "f1b5620b-4af3-4440-bc66-7e31bd32589c",
   "metadata": {},
   "source": [
    "Vamos também definir alguns parâmetros para as demonstrações a seguir"
   ]
  },
  {
   "cell_type": "code",
   "execution_count": 46,
   "id": "a6533690-dff0-4ea5-8b6d-cd589d81bf98",
   "metadata": {},
   "outputs": [],
   "source": [
    "S3_BUCKET = 'arquivos-grupo5'\n",
    "APP_URL = 'http://18.228.157.32'"
   ]
  },
  {
   "cell_type": "markdown",
   "id": "124dba32-60c0-4e79-9c25-b3dcb42c7afd",
   "metadata": {},
   "source": [
    "### 8.1. Envio do modelo para a nuvem"
   ]
  },
  {
   "cell_type": "markdown",
   "id": "f172b958-27b4-4c0c-9daf-4a3987b2ddef",
   "metadata": {},
   "source": [
    "Vamos enviar o modelo salvo para um *bucket* do [Amazon S3](https://aws.amazon.com/s3/)"
   ]
  },
  {
   "cell_type": "code",
   "execution_count": 47,
   "id": "491a6e1a-8f97-42db-a734-559ea5d463a8",
   "metadata": {},
   "outputs": [
    {
     "name": "stdout",
     "output_type": "stream",
     "text": [
      "Requirement already satisfied: boto3 in /opt/conda/lib/python3.9/site-packages (1.20.19)\n",
      "Requirement already satisfied: s3transfer<0.6.0,>=0.5.0 in /opt/conda/lib/python3.9/site-packages (from boto3) (0.5.0)\n",
      "Requirement already satisfied: jmespath<1.0.0,>=0.7.1 in /opt/conda/lib/python3.9/site-packages (from boto3) (0.10.0)\n",
      "Requirement already satisfied: botocore<1.24.0,>=1.23.19 in /opt/conda/lib/python3.9/site-packages (from boto3) (1.23.19)\n",
      "Requirement already satisfied: urllib3<1.27,>=1.25.4 in /opt/conda/lib/python3.9/site-packages (from botocore<1.24.0,>=1.23.19->boto3) (1.26.7)\n",
      "Requirement already satisfied: python-dateutil<3.0.0,>=2.1 in /opt/conda/lib/python3.9/site-packages (from botocore<1.24.0,>=1.23.19->boto3) (2.8.2)\n",
      "Requirement already satisfied: six>=1.5 in /opt/conda/lib/python3.9/site-packages (from python-dateutil<3.0.0,>=2.1->botocore<1.24.0,>=1.23.19->boto3) (1.16.0)\n"
     ]
    }
   ],
   "source": [
    "!pip install boto3"
   ]
  },
  {
   "cell_type": "code",
   "execution_count": 48,
   "id": "2a8878fb-4505-4211-b0fb-b040463b8cd1",
   "metadata": {},
   "outputs": [],
   "source": [
    "import boto3"
   ]
  },
  {
   "cell_type": "code",
   "execution_count": 49,
   "id": "4add3c0a-2926-49d5-81b5-81145a081387",
   "metadata": {},
   "outputs": [
    {
     "data": {
      "text/plain": [
       "s3.Object(bucket_name='arquivos-grupo5', key='models/models.joblib')"
      ]
     },
     "execution_count": 49,
     "metadata": {},
     "output_type": "execute_result"
    }
   ],
   "source": [
    "s3 = boto3.resource('s3')\n",
    "\n",
    "data = open(PROD_MODEL_PATH, 'rb')\n",
    "s3.Bucket(S3_BUCKET).put_object(Key='models/models.joblib', Body=data)"
   ]
  },
  {
   "cell_type": "markdown",
   "id": "ca2c474d-b0dd-4233-a7b3-4d1f30cf4049",
   "metadata": {},
   "source": [
    "### 8.2 Criação de API para realizar predições"
   ]
  },
  {
   "cell_type": "markdown",
   "id": "5169efd9-47fb-4e95-86c5-ef5f74b0db52",
   "metadata": {},
   "source": [
    "A [API desenvolvida](https://github.com/ciencia-dados-ifsp-grupo5/NBAstats/tree/main/deploy/backend) consiste em uma aplicação utilizando [Flask](https://flask.palletsprojects.com/) que carrega o arquivo dos modelos na nuvem e expõe a rota `model/predict` com método HTTP `POST`. O corpo da requisição esperado é em formato JSON e deve conter uma lista de registros para os quais deseja-se realizar predições.\n",
    "\n",
    "Para este projeto, hospedamos a aplicação da API em uma instância do [Amazon EC2](https://aws.amazon.com/ec2/). Todo processo de *deploy* está automatizado: o código da aplicação é obtido do *github* e os modelos são obtidos do *Amazon S3*. É gerado então um [contêiner Docker](https://en.wikipedia.org/wiki/Docker_(software)) que contêm todo o necessário para que a aplicação seja inicializada.\n",
    "\n",
    "Podemos demonstrar seu funcionamento realizando a predição de alguns registros do conjunto de testes."
   ]
  },
  {
   "cell_type": "code",
   "execution_count": 50,
   "id": "ede8785c-5ccb-4978-beaf-64aa9683bf55",
   "metadata": {},
   "outputs": [
    {
     "data": {
      "text/html": [
       "<div>\n",
       "<style scoped>\n",
       "    .dataframe tbody tr th:only-of-type {\n",
       "        vertical-align: middle;\n",
       "    }\n",
       "\n",
       "    .dataframe tbody tr th {\n",
       "        vertical-align: top;\n",
       "    }\n",
       "\n",
       "    .dataframe thead th {\n",
       "        text-align: right;\n",
       "    }\n",
       "</style>\n",
       "<table border=\"1\" class=\"dataframe\">\n",
       "  <thead>\n",
       "    <tr style=\"text-align: right;\">\n",
       "      <th></th>\n",
       "      <th>SEASON_ID</th>\n",
       "      <th>PLAYER_AGE</th>\n",
       "      <th>GP</th>\n",
       "      <th>GS</th>\n",
       "      <th>MIN</th>\n",
       "      <th>FGM</th>\n",
       "      <th>FGA</th>\n",
       "      <th>FG_PCT</th>\n",
       "      <th>FG3M</th>\n",
       "      <th>FG3A</th>\n",
       "      <th>...</th>\n",
       "      <th>DREB</th>\n",
       "      <th>REB</th>\n",
       "      <th>AST</th>\n",
       "      <th>STL</th>\n",
       "      <th>BLK</th>\n",
       "      <th>TOV</th>\n",
       "      <th>PF</th>\n",
       "      <th>PTS</th>\n",
       "      <th>SALARY_NOMINAL</th>\n",
       "      <th>SALARY_REAL</th>\n",
       "    </tr>\n",
       "    <tr>\n",
       "      <th>PLAYER_NAME</th>\n",
       "      <th></th>\n",
       "      <th></th>\n",
       "      <th></th>\n",
       "      <th></th>\n",
       "      <th></th>\n",
       "      <th></th>\n",
       "      <th></th>\n",
       "      <th></th>\n",
       "      <th></th>\n",
       "      <th></th>\n",
       "      <th></th>\n",
       "      <th></th>\n",
       "      <th></th>\n",
       "      <th></th>\n",
       "      <th></th>\n",
       "      <th></th>\n",
       "      <th></th>\n",
       "      <th></th>\n",
       "      <th></th>\n",
       "      <th></th>\n",
       "      <th></th>\n",
       "    </tr>\n",
       "  </thead>\n",
       "  <tbody>\n",
       "    <tr>\n",
       "      <th>Lindsey Hunter</th>\n",
       "      <td>2007</td>\n",
       "      <td>36.0</td>\n",
       "      <td>52</td>\n",
       "      <td>0.0</td>\n",
       "      <td>745.0</td>\n",
       "      <td>94</td>\n",
       "      <td>244</td>\n",
       "      <td>0.385</td>\n",
       "      <td>38.0</td>\n",
       "      <td>119.0</td>\n",
       "      <td>...</td>\n",
       "      <td>38.0</td>\n",
       "      <td>47.0</td>\n",
       "      <td>93</td>\n",
       "      <td>34.0</td>\n",
       "      <td>7.0</td>\n",
       "      <td>35.0</td>\n",
       "      <td>56</td>\n",
       "      <td>256</td>\n",
       "      <td>2250000.0</td>\n",
       "      <td>2858764.0</td>\n",
       "    </tr>\n",
       "    <tr>\n",
       "      <th>Kevin Martin</th>\n",
       "      <td>2008</td>\n",
       "      <td>25.0</td>\n",
       "      <td>61</td>\n",
       "      <td>57.0</td>\n",
       "      <td>2216.0</td>\n",
       "      <td>417</td>\n",
       "      <td>914</td>\n",
       "      <td>0.456</td>\n",
       "      <td>107.0</td>\n",
       "      <td>266.0</td>\n",
       "      <td>...</td>\n",
       "      <td>225.0</td>\n",
       "      <td>273.0</td>\n",
       "      <td>129</td>\n",
       "      <td>62.0</td>\n",
       "      <td>5.0</td>\n",
       "      <td>131.0</td>\n",
       "      <td>150</td>\n",
       "      <td>1443</td>\n",
       "      <td>1808121.0</td>\n",
       "      <td>2237214.0</td>\n",
       "    </tr>\n",
       "    <tr>\n",
       "      <th>Larry Robinson</th>\n",
       "      <td>2001</td>\n",
       "      <td>33.0</td>\n",
       "      <td>34</td>\n",
       "      <td>1.0</td>\n",
       "      <td>632.0</td>\n",
       "      <td>67</td>\n",
       "      <td>184</td>\n",
       "      <td>0.364</td>\n",
       "      <td>44.0</td>\n",
       "      <td>116.0</td>\n",
       "      <td>...</td>\n",
       "      <td>64.0</td>\n",
       "      <td>87.0</td>\n",
       "      <td>36</td>\n",
       "      <td>28.0</td>\n",
       "      <td>2.0</td>\n",
       "      <td>25.0</td>\n",
       "      <td>46</td>\n",
       "      <td>199</td>\n",
       "      <td>611000.0</td>\n",
       "      <td>913654.0</td>\n",
       "    </tr>\n",
       "  </tbody>\n",
       "</table>\n",
       "<p>3 rows × 25 columns</p>\n",
       "</div>"
      ],
      "text/plain": [
       "                SEASON_ID  PLAYER_AGE  GP    GS     MIN  FGM  FGA  FG_PCT  \\\n",
       "PLAYER_NAME                                                                 \n",
       "Lindsey Hunter       2007        36.0  52   0.0   745.0   94  244   0.385   \n",
       "Kevin Martin         2008        25.0  61  57.0  2216.0  417  914   0.456   \n",
       "Larry Robinson       2001        33.0  34   1.0   632.0   67  184   0.364   \n",
       "\n",
       "                 FG3M   FG3A  ...   DREB    REB  AST   STL  BLK    TOV   PF  \\\n",
       "PLAYER_NAME                   ...                                             \n",
       "Lindsey Hunter   38.0  119.0  ...   38.0   47.0   93  34.0  7.0   35.0   56   \n",
       "Kevin Martin    107.0  266.0  ...  225.0  273.0  129  62.0  5.0  131.0  150   \n",
       "Larry Robinson   44.0  116.0  ...   64.0   87.0   36  28.0  2.0   25.0   46   \n",
       "\n",
       "                 PTS  SALARY_NOMINAL  SALARY_REAL  \n",
       "PLAYER_NAME                                        \n",
       "Lindsey Hunter   256       2250000.0    2858764.0  \n",
       "Kevin Martin    1443       1808121.0    2237214.0  \n",
       "Larry Robinson   199        611000.0     913654.0  \n",
       "\n",
       "[3 rows x 25 columns]"
      ]
     },
     "execution_count": 50,
     "metadata": {},
     "output_type": "execute_result"
    }
   ],
   "source": [
    "test_sample = df_test.sample(3)\n",
    "test_sample"
   ]
  },
  {
   "cell_type": "code",
   "execution_count": 51,
   "id": "7b0f48c9-a925-4766-a152-6138a351e176",
   "metadata": {},
   "outputs": [],
   "source": [
    "import requests"
   ]
  },
  {
   "cell_type": "code",
   "execution_count": 52,
   "id": "a9f50087-3d69-403e-8490-d626fd845e3d",
   "metadata": {},
   "outputs": [
    {
     "data": {
      "text/plain": [
       "{'predictions': [7113203.520818512, 12560170.170015862, 4574929.054858921]}"
      ]
     },
     "execution_count": 52,
     "metadata": {},
     "output_type": "execute_result"
    }
   ],
   "source": [
    "test_predict = requests.post(f'{APP_URL}/api/model/predict', data=test_sample.to_json(orient='records'))\n",
    "test_predict.json()"
   ]
  },
  {
   "cell_type": "markdown",
   "id": "3296a806-229e-4ad7-b96b-a6842d08091d",
   "metadata": {},
   "source": [
    "Além da rota de predições, a API também possui uma rota de jogadores, em que é possível consultar todas as temporadas do *dataset*, a lista de jogadores e os atributos de um determinado jogador. Para realizar estas consultas, a API se conecta a uma base de dados *MySQL*, hospedadada com [Amazon RDS](https://aws.amazon.com/rds/), contendo os registros de jogadores exportados ao final do processo de limpeza dos dados. O procedimento de criação dessa base de dados é feito no [notebook de criação do banco de dados de jogadores](./NBAstats_db_creation.ipynb)."
   ]
  },
  {
   "cell_type": "code",
   "execution_count": 53,
   "id": "a2400d8f-a33e-49ec-a53e-128c5020778b",
   "metadata": {},
   "outputs": [
    {
     "name": "stdout",
     "output_type": "stream",
     "text": [
      "Existem registradas 31 temporadas\n",
      "\n"
     ]
    },
    {
     "data": {
      "text/plain": [
       "[2021, 2020, 2019, 2018, 2017]"
      ]
     },
     "execution_count": 53,
     "metadata": {},
     "output_type": "execute_result"
    }
   ],
   "source": [
    "# Lista de temporadas do dataset\n",
    "req_seasons = requests.get(f'{APP_URL}/api/player/season/list')\n",
    "print(f'Existem registradas {len(req_seasons.json())} temporadas\\n')\n",
    "req_seasons.json()[:5]"
   ]
  },
  {
   "cell_type": "code",
   "execution_count": 54,
   "id": "056804b1-6f2a-4606-9069-744959c686b7",
   "metadata": {},
   "outputs": [
    {
     "name": "stdout",
     "output_type": "stream",
     "text": [
      "Existem registrados 2440 jogadores\n",
      "\n"
     ]
    },
    {
     "data": {
      "text/plain": [
       "[{'PLAYER_ID': 2,\n",
       "  'PLAYER_NAME': 'Byron Scott',\n",
       "  'SEASONS': ['1997', '1996', '1995', '1994', '1993', '1992', '1991']},\n",
       " {'PLAYER_ID': 3,\n",
       "  'PLAYER_NAME': 'Grant Long',\n",
       "  'SEASONS': ['2002',\n",
       "   '2001',\n",
       "   '2000',\n",
       "   '1999',\n",
       "   '1998',\n",
       "   '1997',\n",
       "   '1996',\n",
       "   '1995',\n",
       "   '1994',\n",
       "   '1993',\n",
       "   '1992',\n",
       "   '1991']},\n",
       " {'PLAYER_ID': 9,\n",
       "  'PLAYER_NAME': 'Sedale Threatt',\n",
       "  'SEASONS': ['1996', '1995', '1994', '1993', '1992', '1991']}]"
      ]
     },
     "execution_count": 54,
     "metadata": {},
     "output_type": "execute_result"
    }
   ],
   "source": [
    "# Lista de jogadores e respectivas temporadas do dataset\n",
    "req_player_list = requests.get(f'{APP_URL}/api/player/list')\n",
    "print(f'Existem registrados {len(req_player_list.json())} jogadores\\n')\n",
    "req_player_list.json()[:3]"
   ]
  },
  {
   "cell_type": "code",
   "execution_count": 55,
   "id": "41a1c415-91e6-4252-9409-f03f17a500e8",
   "metadata": {},
   "outputs": [
    {
     "data": {
      "text/plain": [
       "{'AST': 428,\n",
       " 'BLK': 61.0,\n",
       " 'DREB': 387.0,\n",
       " 'FG3A': 230.0,\n",
       " 'FG3M': 81.0,\n",
       " 'FG3_PCT': 0.352,\n",
       " 'FGA': 2003,\n",
       " 'FGM': 992,\n",
       " 'FG_PCT': 0.495,\n",
       " 'FTA': 569,\n",
       " 'FTM': 476,\n",
       " 'FT_PCT': 0.837,\n",
       " 'GP': 78,\n",
       " 'GS': 78.0,\n",
       " 'LEAGUE_ID': 0,\n",
       " 'MIN': 3067.0,\n",
       " 'OREB': 135.0,\n",
       " 'PF': 188,\n",
       " 'PLAYER_AGE': 30.0,\n",
       " 'PLAYER_ID': 893,\n",
       " 'PLAYER_NAME': 'Michael Jordan',\n",
       " 'PTS': 2541,\n",
       " 'REB': 522.0,\n",
       " 'SALARY_NOMINAL': 4000000.0,\n",
       " 'SALARY_REAL': 7355121.0,\n",
       " 'SEASON_ID': 1993,\n",
       " 'STL': 221.0,\n",
       " 'TEAM_ABBREVIATION': 'CHI',\n",
       " 'TEAM_ID': 1610612741,\n",
       " 'TOV': 207.0}"
      ]
     },
     "execution_count": 55,
     "metadata": {},
     "output_type": "execute_result"
    }
   ],
   "source": [
    "# Atributos para um jogador em determinada temporada (Michael Jordan - 1993)\n",
    "req_player_data = requests.get(f'{APP_URL}/api/player/data/893/1993')\n",
    "req_player_data.json()"
   ]
  },
  {
   "cell_type": "markdown",
   "id": "ae2d2a73-830d-4415-8c80-7e46e95cbdf7",
   "metadata": {},
   "source": [
    "### 8.3. Produtização do trabalho"
   ]
  },
  {
   "cell_type": "markdown",
   "id": "6ec0d80c-93ff-48e5-90d8-7b0b692d9ea9",
   "metadata": {},
   "source": [
    "Por fim, desenvolvemos um [MVP](https://en.wikipedia.org/wiki/Minimum_viable_product) que fornece aos usuários a possibilidade de predizer o salário de um jogador baseado em seus atributos técnicos em uma determinada temporada. É possível realizar consultas utilizando os dados reais de jogadores ou fornecer um conjuto de dados personalizado.\n",
    "\n",
    "Trata-se de uma [aplicação web](https://github.com/ciencia-dados-ifsp-grupo5/NBAstats/tree/main/deploy/client), também conteinerizada e executando em uma instância da *Amazon EC2*. Para este projeto, a aplição pode ser [acessada pelo endereço do servidor](http://18.228.157.32/).\n",
    "\n",
    "Abaixo, um exemplo do uso quando o usuário deseja informar os atributos do jogador"
   ]
  },
  {
   "cell_type": "markdown",
   "id": "0dcd340f-98bc-41dd-a3e1-02e87026bd89",
   "metadata": {},
   "source": [
    "![](../assets/demo_predict_attributes.gif)"
   ]
  },
  {
   "cell_type": "markdown",
   "id": "2c0c8dc1-ae56-42db-83a9-7d86e18194d0",
   "metadata": {},
   "source": [
    "E um exemplo de uso a partir de dados de jogadores reais"
   ]
  },
  {
   "cell_type": "markdown",
   "id": "51db4dba-84ad-49e6-ad00-f822a11eb86d",
   "metadata": {},
   "source": [
    "![](../assets/demo_predict_player.gif)"
   ]
  },
  {
   "cell_type": "markdown",
   "id": "e97ab9c4-2ed3-4587-9154-4d1cf74c0cbf",
   "metadata": {},
   "source": [
    "## 9. Arquitetura final do projeto"
   ]
  },
  {
   "cell_type": "markdown",
   "id": "bd8bb6c9-d9a6-4c6f-936e-01c5b41ecd42",
   "metadata": {},
   "source": [
    "A imagem a seguir ilustra a arquitetura final das aplicações e integração das soluções e serviços utilizados"
   ]
  },
  {
   "cell_type": "markdown",
   "id": "d65359cf-0e8b-456c-9cc8-2a13f5d39c55",
   "metadata": {},
   "source": [
    "![](../assets/NBAstats_arquitetura.png)"
   ]
  },
  {
   "cell_type": "markdown",
   "id": "33a1c346-a6dd-4bcf-b1e5-460b1118ec38",
   "metadata": {},
   "source": [
    "Começando pelo lado direito da imagem, temos a nossa **camada de desenvolvimento**. É neste ponto que ocorre a codificação da aplicação, desenvolvimento dos *notebooks*, obtenção dos dados, limpeza, análise exploratória, construção e treinamento dos modelos. Esta camada é composta tanto pelas **estações locais** de trabalho quanto pelo [**Amazon SageMaker**](https://aws.amazon.com/sagemaker/). Devido a limitação de orçamento, os modelos são majoritariamente preparados no ambiente local e o *SageMaker* é invocado apenas em momentos mais críticos, quando precisamos de maior poder de processamento e memória para treinamento dos modelos de aprendizado de máquina.\n",
    "\n",
    "Logo à esquerda, a próxima é a **camada de persistência**, responsável pelo salvamento e compartilhamento dos dados da aplicação. O **Github** foi escolhido como repositório de código. Além de garantir versionamento, ele também ajuda no compartilhamento do mesmo código entre as estações locais e o *SageMaker*. Os *buckets* no **Amazon S3** são usados para salvamento dos modelos de aprendizado de máquina já treinados. Eles recebem modelos advindos tanto das estações locais quanto do *SageMaker*, através da [**AWS SDK para Python (Boto3)**](https://aws.amazon.com/sdk-for-python/). Dessa forma, podemos incluir o código de envio dos arquivos para o *S3* dentro do próprio *notebook* que realiza o treinamento do modelo, de forma independente se ele é executado localmente ou pelo *SageMaker*. Apenas um passo extra é necessário para garantir acesso das máquinas locais ao *S3*, que é a criação e configuraçao da [**AWS Access Key**](https://docs.aws.amazon.com/IAM/latest/UserGuide/id_credentials_access-keys.html) para o usuário. Por fim, o **Amazon RDS** é utilizado para salvar os dados de atributos de jogadores. Esta base é alimentada a partir de um *notebook* que utiliza o *dataset* de saída do processo de limpeza e envia os registros para a instância do banco **MySQL** no *RDS*.\n",
    "\n",
    "A última à esquerda é a **camada de aplicação**, que se comunica com a camada de persistência para fornecer funcionalidades aos usuários. Toda camada de aplicação está hospedada em uma instância do **Amazon EC2**. Utilizando o [AWS CLI](https://aws.amazon.com/cli/), conseguimos sincronizar os arquivos de modelos salvos no *S3* e atualizá-los na aplicação sempre que um novo modelo é treinado. O código armazenado no *github* contém também as diretivas para construção dos contêineres de aplicação (*Dockerfile*) e a forma como serão inicializados e sincronizados (*docker-compose*).Tanto a **API** quanto a **aplicação cliente** são então executados via *Docker*. Existe ainda a comunicação entre a API e a instância do *RDS*, para realizar as consultas sobre dados dos jogadores.\n",
    "\n",
    "Finalmente, duas portas são expostas pela aplicação para os usuários. Através da porta `80` (HTTP), pode-se acessar a aplicação cliente que, por sua vez, trata de realizar a conversa com a API. Ou então, é possível acessar diretamente a API para realizar predições, através de requisições à porta `5000` do servidor. O servidor web que roda na porta 80 (*Nginx*) também atua como *proxy* reverso para a API. Portanto, uma forma alternativa de acessar aos *endpoints* da API é através da rota `/api` na porta 80."
   ]
  }
 ],
 "metadata": {
  "kernelspec": {
   "display_name": "Python 3",
   "language": "python",
   "name": "python3"
  },
  "language_info": {
   "codemirror_mode": {
    "name": "ipython",
    "version": 3
   },
   "file_extension": ".py",
   "mimetype": "text/x-python",
   "name": "python",
   "nbconvert_exporter": "python",
   "pygments_lexer": "ipython3",
   "version": "3.8.8"
  }
 },
 "nbformat": 4,
 "nbformat_minor": 5
}
