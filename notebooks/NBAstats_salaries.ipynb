{
 "cells": [
  {
   "cell_type": "code",
   "execution_count": 2,
   "id": "0c0b7c5d-8238-4bfb-8dd1-75f9ed3c3446",
   "metadata": {},
   "outputs": [
    {
     "name": "stdout",
     "output_type": "stream",
     "text": [
      "Requirement already satisfied: lxml in /opt/conda/lib/python3.9/site-packages (4.6.4)\n"
     ]
    }
   ],
   "source": [
    "!pip install lxml"
   ]
  },
  {
   "cell_type": "code",
   "execution_count": 3,
   "id": "52401a8b-ac08-4ec0-96fd-4e01ba6622de",
   "metadata": {},
   "outputs": [],
   "source": [
    "import pandas as pd"
   ]
  },
  {
   "cell_type": "code",
   "execution_count": 4,
   "id": "7c4712f4-2383-4cf9-a779-6814caeb5ac6",
   "metadata": {},
   "outputs": [],
   "source": [
    "import requests\n",
    "from bs4 import BeautifulSoup\n",
    "import pandas as pd\n",
    "\n",
    "url=\"https://hoopshype.com/salaries/players/\""
   ]
  },
  {
   "cell_type": "code",
   "execution_count": 5,
   "id": "65a00516-ed98-4772-a90f-d534e5872c4c",
   "metadata": {},
   "outputs": [],
   "source": [
    "r = requests.get(url,timeout=2.5)\n",
    "r_html = r.text\n",
    "\n",
    "soup = BeautifulSoup(r_html, 'html.parser')"
   ]
  },
  {
   "cell_type": "code",
   "execution_count": 6,
   "id": "ac322477-8ca3-4609-be8d-c9b1045c3da2",
   "metadata": {
    "tags": []
   },
   "outputs": [],
   "source": [
    "links = { a.text.strip(): a['href'] for a in soup.find(\"div\", {\"class\": \"salaries-team-selector-top\"}).find_all(\"a\", href=True, text=True) }"
   ]
  },
  {
   "cell_type": "code",
   "execution_count": 7,
   "id": "46ee05f1-b030-4eb9-a23f-e228a7a6643f",
   "metadata": {},
   "outputs": [],
   "source": [
    "salaries = { season: pd.read_html(link)[0] for season, link in links.items() }"
   ]
  },
  {
   "cell_type": "code",
   "execution_count": 8,
   "id": "9e378acf-4876-4a18-a390-b18936fad13d",
   "metadata": {},
   "outputs": [],
   "source": [
    "df_salaries = [ df.drop(columns='Unnamed: 0').set_index('Player') for df in salaries.values() ]"
   ]
  },
  {
   "cell_type": "code",
   "execution_count": 151,
   "id": "78a5b470-03f0-4a2d-9f2c-40ab0d4d3f9d",
   "metadata": {},
   "outputs": [],
   "source": [
    "salary = df_salaries[0].join(df_salaries[1:], how='outer')"
   ]
  },
  {
   "cell_type": "code",
   "execution_count": 156,
   "id": "58876d90-4e90-4693-ba1f-86c02349cea6",
   "metadata": {},
   "outputs": [],
   "source": [
    "salary = salary.replace({'\\$':'', ',':''}, regex=True)"
   ]
  },
  {
   "cell_type": "code",
   "execution_count": 157,
   "id": "cad2781f-5817-46e5-93b7-a73f066ea9be",
   "metadata": {},
   "outputs": [],
   "source": [
    "salary.columns = salary.columns.str.replace('/', '-').str.replace('(*)', '_deflacted', regex=False)"
   ]
  },
  {
   "cell_type": "code",
   "execution_count": 158,
   "id": "79a5985b-36a7-4ef0-a0b2-ae5245f28050",
   "metadata": {},
   "outputs": [],
   "source": [
    "nominal_cols = [i for i in salary.columns if 'deflacted' not in i]\n",
    "real_cols = [i for i in salary.columns if 'deflacted' in i]"
   ]
  },
  {
   "cell_type": "code",
   "execution_count": 159,
   "id": "375a70df-742a-4642-89e7-971d01fd431b",
   "metadata": {},
   "outputs": [],
   "source": [
    "final_salary = pd.DataFrame()\n",
    "for row in salary.iterrows():\n",
    "    name = row[0]\n",
    "    nominal = row[1][nominal_cols].rename('nominal').to_frame()\n",
    "    real = row[1][real_cols].rename(lambda x: x.replace('_deflacted', '')).rename('real').to_frame()\n",
    "    player = nominal.join(real).sort_index().reset_index().rename(columns={'index': 'season'}).dropna(how='all', subset=['nominal', 'real'])\n",
    "    player.insert(0, 'player', name)\n",
    "    final_salary = final_salary.append(player)"
   ]
  },
  {
   "cell_type": "code",
   "execution_count": 160,
   "id": "6b7dcb83-484c-46a3-b771-36da6e20132f",
   "metadata": {},
   "outputs": [
    {
     "data": {
      "text/html": [
       "<div>\n",
       "<style scoped>\n",
       "    .dataframe tbody tr th:only-of-type {\n",
       "        vertical-align: middle;\n",
       "    }\n",
       "\n",
       "    .dataframe tbody tr th {\n",
       "        vertical-align: top;\n",
       "    }\n",
       "\n",
       "    .dataframe thead th {\n",
       "        text-align: right;\n",
       "    }\n",
       "</style>\n",
       "<table border=\"1\" class=\"dataframe\">\n",
       "  <thead>\n",
       "    <tr style=\"text-align: right;\">\n",
       "      <th></th>\n",
       "      <th>player</th>\n",
       "      <th>season</th>\n",
       "      <th>nominal</th>\n",
       "      <th>real</th>\n",
       "    </tr>\n",
       "  </thead>\n",
       "  <tbody>\n",
       "    <tr>\n",
       "      <th>0</th>\n",
       "      <td>A.C. Green</td>\n",
       "      <td>1990-91</td>\n",
       "      <td>1750000</td>\n",
       "      <td>3473015</td>\n",
       "    </tr>\n",
       "    <tr>\n",
       "      <th>1</th>\n",
       "      <td>A.C. Green</td>\n",
       "      <td>1991-92</td>\n",
       "      <td>1750000</td>\n",
       "      <td>3317240</td>\n",
       "    </tr>\n",
       "    <tr>\n",
       "      <th>2</th>\n",
       "      <td>A.C. Green</td>\n",
       "      <td>1992-93</td>\n",
       "      <td>1750000</td>\n",
       "      <td>3217865</td>\n",
       "    </tr>\n",
       "    <tr>\n",
       "      <th>3</th>\n",
       "      <td>A.C. Green</td>\n",
       "      <td>1993-94</td>\n",
       "      <td>1885000</td>\n",
       "      <td>3365286</td>\n",
       "    </tr>\n",
       "    <tr>\n",
       "      <th>4</th>\n",
       "      <td>A.C. Green</td>\n",
       "      <td>1994-95</td>\n",
       "      <td>6472600</td>\n",
       "      <td>11274438</td>\n",
       "    </tr>\n",
       "    <tr>\n",
       "      <th>...</th>\n",
       "      <td>...</td>\n",
       "      <td>...</td>\n",
       "      <td>...</td>\n",
       "      <td>...</td>\n",
       "    </tr>\n",
       "    <tr>\n",
       "      <th>18</th>\n",
       "      <td>Zydrunas Ilgauskas</td>\n",
       "      <td>2008-09</td>\n",
       "      <td>10841615</td>\n",
       "      <td>12773054</td>\n",
       "    </tr>\n",
       "    <tr>\n",
       "      <th>19</th>\n",
       "      <td>Zydrunas Ilgauskas</td>\n",
       "      <td>2009-10</td>\n",
       "      <td>11541074</td>\n",
       "      <td>13793930</td>\n",
       "    </tr>\n",
       "    <tr>\n",
       "      <th>20</th>\n",
       "      <td>Zydrunas Ilgauskas</td>\n",
       "      <td>2010-11</td>\n",
       "      <td>1352181</td>\n",
       "      <td>1599285</td>\n",
       "    </tr>\n",
       "    <tr>\n",
       "      <th>29</th>\n",
       "      <td>Zylan Cheatham</td>\n",
       "      <td>2019-20</td>\n",
       "      <td>79568</td>\n",
       "      <td>80081</td>\n",
       "    </tr>\n",
       "    <tr>\n",
       "      <th>30</th>\n",
       "      <td>Zylan Cheatham</td>\n",
       "      <td>2020-21</td>\n",
       "      <td>1445697</td>\n",
       "      <td>1445697</td>\n",
       "    </tr>\n",
       "  </tbody>\n",
       "</table>\n",
       "<p>17766 rows × 4 columns</p>\n",
       "</div>"
      ],
      "text/plain": [
       "                player   season   nominal      real\n",
       "0           A.C. Green  1990-91   1750000   3473015\n",
       "1           A.C. Green  1991-92   1750000   3317240\n",
       "2           A.C. Green  1992-93   1750000   3217865\n",
       "3           A.C. Green  1993-94   1885000   3365286\n",
       "4           A.C. Green  1994-95   6472600  11274438\n",
       "..                 ...      ...       ...       ...\n",
       "18  Zydrunas Ilgauskas  2008-09  10841615  12773054\n",
       "19  Zydrunas Ilgauskas  2009-10  11541074  13793930\n",
       "20  Zydrunas Ilgauskas  2010-11   1352181   1599285\n",
       "29      Zylan Cheatham  2019-20     79568     80081\n",
       "30      Zylan Cheatham  2020-21   1445697   1445697\n",
       "\n",
       "[17766 rows x 4 columns]"
      ]
     },
     "execution_count": 160,
     "metadata": {},
     "output_type": "execute_result"
    }
   ],
   "source": [
    "final_salary"
   ]
  },
  {
   "cell_type": "code",
   "execution_count": 161,
   "id": "f282bd02-1f19-4ec8-bf6c-015e0deb31ee",
   "metadata": {},
   "outputs": [],
   "source": [
    "final_salary.to_csv('../data/salary.csv', index=False)"
   ]
  }
 ],
 "metadata": {
  "kernelspec": {
   "display_name": "Python 3 (ipykernel)",
   "language": "python",
   "name": "python3"
  },
  "language_info": {
   "codemirror_mode": {
    "name": "ipython",
    "version": 3
   },
   "file_extension": ".py",
   "mimetype": "text/x-python",
   "name": "python",
   "nbconvert_exporter": "python",
   "pygments_lexer": "ipython3",
   "version": "3.9.7"
  }
 },
 "nbformat": 4,
 "nbformat_minor": 5
}
